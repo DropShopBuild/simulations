{
 "cells": [
  {
   "cell_type": "code",
   "execution_count": 1,
   "id": "21ed25fa-b2d3-4327-a8c4-da5a6e5ae7bb",
   "metadata": {},
   "outputs": [],
   "source": [
    "import math\n",
    "\n",
    "import numpy as np\n",
    "from numpy.random import choice\n",
    "\n",
    "import pandas as pd\n",
    "\n",
    "from scipy.stats import gamma, expon\n",
    "import matplotlib.pyplot as plt\n",
    "\n",
    "%matplotlib inline"
   ]
  },
  {
   "cell_type": "code",
   "execution_count": 49,
   "id": "ac21b51b-b716-46b0-9827-2a04ebf6b810",
   "metadata": {},
   "outputs": [],
   "source": [
    "def exponential_random_number(lmbd):\n",
    "    return expon.rvs(loc=loc_premium, scale=1/lmbd, size=1)\n",
    "exponential_random_number = np.vectorize(exponential_random_number)"
   ]
  },
  {
   "cell_type": "markdown",
   "id": "3a500039-5198-4f9d-9bf3-fc09280be121",
   "metadata": {},
   "source": [
    "#### Gamma Distribution: a candidate for the Brand Points Distribution\n",
    "For more info on Exponential Distribution, check the wikipedia. https://en.wikipedia.org/wiki/Gamma_distribution"
   ]
  },
  {
   "cell_type": "code",
   "execution_count": 2,
   "id": "238b5498-bc23-47e4-8f93-777d3e450bd8",
   "metadata": {},
   "outputs": [
    {
     "name": "stdout",
     "output_type": "stream",
     "text": [
      "average value: 10.0,\n",
      "variance: 50.0\n"
     ]
    }
   ],
   "source": [
    "# Parameters of the Distribution\n",
    "shape=2\n",
    "scale = 5\n",
    "loc = 0\n",
    "\n",
    "mean, var, skew, kurt = gamma.stats(a=shape,scale=scale, moments='mvsk')\n",
    "print('average value: {},\\nvariance: {}'.format(mean, var))"
   ]
  },
  {
   "cell_type": "code",
   "execution_count": 3,
   "id": "d2d0b875-938b-4a23-9199-a84e93547f9a",
   "metadata": {},
   "outputs": [
    {
     "name": "stdout",
     "output_type": "stream",
     "text": [
      "Brand Points Distribution Graph\n"
     ]
    },
    {
     "data": {
      "image/png": "[encoded data removed]",
      "text/plain": [
       "<Figure size 432x288 with 1 Axes>"
      ]
     },
     "metadata": {
      "needs_background": "light"
     },
     "output_type": "display_data"
    },
    {
     "name": "stdout",
     "output_type": "stream",
     "text": [
      "Average Brand Points: 10.0\n"
     ]
    }
   ],
   "source": [
    "# The graph of the pdf of the Gamma Distribution\n",
    "fig, ax = plt.subplots(1, 1)\n",
    "x = np.linspace(gamma.ppf(0.01, a=shape, loc=loc, scale=scale),\n",
    "                gamma.ppf(0.99, a=shape, loc=loc, scale=scale), 100)\n",
    "ax.plot(x, gamma.pdf(x, a=shape, loc=loc, scale=scale),\n",
    "       'r-', lw=5, alpha=0.6, label='gamma pdf')\n",
    "print('Brand Points Distribution Graph')\n",
    "plt.xlabel('Brand Points')\n",
    "plt.ylabel('Probabilities')\n",
    "plt.show()\n",
    "print('Average Brand Points: {}'.format(mean))"
   ]
  },
  {
   "cell_type": "markdown",
   "id": "fbe571c8-9506-4956-b4b7-90a317c052d9",
   "metadata": {
    "tags": []
   },
   "source": [
    "#### Exponential Distribution: a candidate for the price premium rate\n",
    "For more info on Exponential Distribution, check the wikipedia.\n",
    "https://en.wikipedia.org/wiki/Exponential_distribution"
   ]
  },
  {
   "cell_type": "code",
   "execution_count": 4,
   "id": "cc6808d7-16c6-4c3e-9b8c-d50a8a1e528d",
   "metadata": {},
   "outputs": [
    {
     "name": "stdout",
     "output_type": "stream",
     "text": [
      "average value:  1.20,\n",
      "variance:  0.04\n"
     ]
    }
   ],
   "source": [
    "## Parameters of Exponential Distribution\n",
    "lmbd = 5             # lambda\n",
    "scale = 1/lmbd       # scale\n",
    "loc = 1              # location\n",
    "\n",
    "mean, var, skew, kurt = expon.stats(scale=scale, loc=loc, moments='mvsk')\n",
    "print('average value: {:5.2f},\\nvariance: {:5.2f}'.format(mean, var))"
   ]
  },
  {
   "cell_type": "code",
   "execution_count": 5,
   "id": "dce312fc-1f35-4f9e-adaf-e6c25753d7ff",
   "metadata": {},
   "outputs": [
    {
     "name": "stdout",
     "output_type": "stream",
     "text": [
      "Price Premium Rate Distribution Graph\n"
     ]
    },
    {
     "data": {
      "image/png": "[encoded data removed]",
      "text/plain": [
       "<Figure size 432x288 with 1 Axes>"
      ]
     },
     "metadata": {
      "needs_background": "light"
     },
     "output_type": "display_data"
    },
    {
     "name": "stdout",
     "output_type": "stream",
     "text": [
      "Average Premium Rate: 1.2\n"
     ]
    }
   ],
   "source": [
    "# The graph of the pdf of the Exponential Distribution\n",
    "fig, ax = plt.subplots(1, 1)\n",
    "x = np.linspace(expon.ppf(0.01, scale=scale, loc=loc),\n",
    "                expon.ppf(0.99, scale=scale, loc=loc), 100)\n",
    "ax.plot(x, expon.pdf(x, scale=scale, loc=loc),\n",
    "       'r-', lw=5, alpha=0.6, label='expon pdf')\n",
    "print('Price Premium Rate Distribution Graph')\n",
    "plt.xlabel('Price Premium Rate')\n",
    "plt.ylabel('Probabilities')\n",
    "plt.show()\n",
    "print('Average Premium Rate: {}'.format(mean))"
   ]
  },
  {
   "cell_type": "markdown",
   "id": "5776384b-25dc-4cfe-bf16-055fa3f6ccc8",
   "metadata": {},
   "source": [
    "## Mature Community\n",
    "- The community has matured enough that the Brand points are given by a **Gamma** distribution.\n",
    "- And the price premium rates are given by an **exponential** distribution, dependent of the Brand points. The dependency is described by the relation between Brand point and the parameter lambda of the exponential function, i.e., the person with Brand point **p** would set the price premium rate by average 1+1/**p**.\n",
    "\n",
    "$$\n",
    "\\mathrm{Price\\;Premium} \\sim \\mathcal{Exponential\\;Distribution}\\left( \\lambda = \\mathrm{Brand\\;Point} \\right)\n",
    "$$\n",
    "\n",
    "| Input | Distribution |\n",
    "| :-: | :-: |\n",
    "| Brand Points | **Gamma Distribution** |\n",
    "| Price Premium Rates | **Exponential Distribution** |\n",
    "\n",
    "The following are the experiments on a variety of ways that \"Brand points\" influence the likelihood.\n",
    "\n",
    "#### Case Study: quadratic Brand Points\n",
    "$$\n",
    "\\mathrm{Likelihood\\;Value} = \\mathrm{Brand\\;Points}^2 \\times \\sqrt{\\mathrm{Price\\;Premium\\;Rate}}\n",
    "$$\n",
    "There are 5000 tickets in the raffle and only 100 tickets will be selected with likelihoods determined by the above formula."
   ]
  },
  {
   "cell_type": "code",
   "execution_count": 13,
   "id": "eb0a315c-afee-44da-9b32-7e54c0741dd2",
   "metadata": {},
   "outputs": [],
   "source": [
    "no_tickets = 5000\n",
    "no_selections = 100"
   ]
  },
  {
   "cell_type": "markdown",
   "id": "a5ffa11e-cac0-4209-9513-62ade41afa67",
   "metadata": {
    "tags": []
   },
   "source": [
    "#### Generating the scenery\n",
    "\n",
    "The Brand points of 5000 Ticket holders are generated randomly by Gamma Distribution with shape 1 and scale 2.\n",
    "\n",
    "And the price premium rates are generated randomly, independent of Brand points, by Exponential Distribution with pameter lambda 5.\n",
    "\n",
    "| Input | Distribution | Parameters |\n",
    "| :-: | :-: | :-: |\n",
    "| Brand Points | Gamma Distribution | shape = 1; scale = 2  |\n",
    "| Price Premium Rates | Exponential Distribution | lambda = (Brand Point)<sup>1/2</sup> |"
   ]
  },
  {
   "cell_type": "code",
   "execution_count": 21,
   "id": "d730bad1-2a57-4cad-8dfb-6c33ea759b00",
   "metadata": {},
   "outputs": [],
   "source": [
    "# Parameter for Brand Points Distribution, Gamma Distribution\n",
    "shape_points = 1\n",
    "scale_points = 2\n",
    "loc_points = 0 # \n",
    "\n",
    "# Parameter for Price Premium Rate Distribution, Exponential Distribution\n",
    "loc_premium = 1"
   ]
  },
  {
   "cell_type": "code",
   "execution_count": 35,
   "id": "1b2acb21-1adb-4575-b439-500892e291cc",
   "metadata": {},
   "outputs": [],
   "source": [
    "# Generate the Points for 5000 ticket holders\n",
    "Points = gamma.rvs(a=shape_points,loc=loc_points,scale=scale_points,size=no_tickets)\n",
    "\n",
    "# Generating the price premium rate for 5000 ticket holders. independently of \"points\".\n",
    "Price_Premium_Rates = exponential_random_number(np.sqrt(Points))\n",
    "\n",
    "# Likelihood_Values = Points * Price_Premium_Rates\n",
    "Likelihood_Values = Points**2 * np.sqrt(Price_Premium_Rates) # First calculate each tickets own value\n",
    "Likelihood_Values = Likelihood_Values / Likelihood_Values.sum() # Second calibrate likelihood values to have the sum of all to be 1.\n",
    "\n",
    "# Put all the values into a data frame with 'color' column being 'b'.\n",
    "df = pd.DataFrame(data={'point':Points,'premium_rate':Price_Premium_Rates,'likelihood':Likelihood_Values,'result':'not chosen'})"
   ]
  },
  {
   "cell_type": "code",
   "execution_count": 36,
   "id": "3796fc00-2390-47b1-8881-0ef39b3d9853",
   "metadata": {},
   "outputs": [
    {
     "data": {
      "text/html": [
       "<div>\n",
       "<style scoped>\n",
       "    .dataframe tbody tr th:only-of-type {\n",
       "        vertical-align: middle;\n",
       "    }\n",
       "\n",
       "    .dataframe tbody tr th {\n",
       "        vertical-align: top;\n",
       "    }\n",
       "\n",
       "    .dataframe thead th {\n",
       "        text-align: right;\n",
       "    }\n",
       "</style>\n",
       "<table border=\"1\" class=\"dataframe\">\n",
       "  <thead>\n",
       "    <tr style=\"text-align: right;\">\n",
       "      <th></th>\n",
       "      <th>mean</th>\n",
       "      <th>max</th>\n",
       "      <th>min</th>\n",
       "    </tr>\n",
       "  </thead>\n",
       "  <tbody>\n",
       "    <tr>\n",
       "      <th>point</th>\n",
       "      <td>2.078289</td>\n",
       "      <td>17.885675</td>\n",
       "      <td>8.888989e-05</td>\n",
       "    </tr>\n",
       "    <tr>\n",
       "      <th>premium_rate</th>\n",
       "      <td>2.187373</td>\n",
       "      <td>38.034076</td>\n",
       "      <td>1.000135e+00</td>\n",
       "    </tr>\n",
       "    <tr>\n",
       "      <th>likelihood</th>\n",
       "      <td>0.000200</td>\n",
       "      <td>0.007348</td>\n",
       "      <td>4.095253e-13</td>\n",
       "    </tr>\n",
       "  </tbody>\n",
       "</table>\n",
       "</div>"
      ],
      "text/plain": [
       "                  mean        max           min\n",
       "point         2.078289  17.885675  8.888989e-05\n",
       "premium_rate  2.187373  38.034076  1.000135e+00\n",
       "likelihood    0.000200   0.007348  4.095253e-13"
      ]
     },
     "execution_count": 36,
     "metadata": {},
     "output_type": "execute_result"
    }
   ],
   "source": [
    "df_summary = pd.DataFrame()\n",
    "df_summary.loc[:,'mean'] = df[['point','premium_rate','likelihood']].mean()\n",
    "df_summary.loc[:,'max'] = df[['point','premium_rate','likelihood']].max()\n",
    "df_summary.loc[:,'min'] = df[['point','premium_rate','likelihood']].min()\n",
    "df_summary"
   ]
  },
  {
   "cell_type": "markdown",
   "id": "5aa9490c-45b5-4252-9013-c5ffc5914e79",
   "metadata": {},
   "source": [
    "##### Selection of 100 tickets out of 5000"
   ]
  },
  {
   "cell_type": "code",
   "execution_count": 38,
   "id": "98ae1044-122e-4a34-a2bc-c8db6622c040",
   "metadata": {},
   "outputs": [],
   "source": [
    "# Choose 100 tickets out of 1000 with the likelihood given by Likelihood_Values\n",
    "draw = np.random.choice([n for n in range(no_tickets)], no_selections, replace=False, p=Likelihood_Values)\n",
    "\n",
    "# Change the colors of the chosen tickets to red 'r'\n",
    "for idx in draw:\n",
    "    df.loc[idx,'result'] = 'chosen'"
   ]
  },
  {
   "cell_type": "markdown",
   "id": "dda7bd78-6088-4602-b268-221246153a81",
   "metadata": {},
   "source": [
    "#### Scatter Plots of brand points and price premium rate"
   ]
  },
  {
   "cell_type": "code",
   "execution_count": 40,
   "id": "7a3ff815-80bf-4bc8-a6ab-972aa8b759eb",
   "metadata": {},
   "outputs": [
    {
     "data": {
      "image/png": "[encoded data removed]",
      "text/plain": [
       "<Figure size 864x432 with 1 Axes>"
      ]
     },
     "metadata": {
      "needs_background": "light"
     },
     "output_type": "display_data"
    }
   ],
   "source": [
    "fig, ax = plt.subplots(figsize=(12,6))\n",
    "for result in ['not chosen','chosen']:\n",
    "    color = 'b' if result=='not chosen' else 'r'\n",
    "    # scatter = ax.scatter(df[df['result']==result]['point'], df[df['result']==result]['premium_rate'], c=color, label=result, alpha=0.7,cmap='viridis')\n",
    "    scatter = ax.scatter(df[df['result']==result]['point'], df[df['result']==result]['premium_rate'], c=color, s=5000*df[df['result']==result]['likelihood'], label=result, alpha=0.7,cmap='viridis')\n",
    "ax.set_title('Chosen tickets vs Not-chosen tickets')\n",
    "ax.set_xlabel('Brand Point')\n",
    "ax.set_ylabel('Price Premium Rate')\n",
    "# ax.legend()\n",
    "plt.show()"
   ]
  },
  {
   "cell_type": "markdown",
   "id": "5d91a514-2105-4e51-b87e-12f720f424ed",
   "metadata": {},
   "source": [
    "#### Points, Premium Rate and Likelihood for chosens and not-chosens"
   ]
  },
  {
   "cell_type": "code",
   "execution_count": 41,
   "id": "ca9f661c-c2bf-4b29-a0bd-84daa752b544",
   "metadata": {},
   "outputs": [
    {
     "data": {
      "text/html": [
       "<div>\n",
       "<style scoped>\n",
       "    .dataframe tbody tr th:only-of-type {\n",
       "        vertical-align: middle;\n",
       "    }\n",
       "\n",
       "    .dataframe tbody tr th {\n",
       "        vertical-align: top;\n",
       "    }\n",
       "\n",
       "    .dataframe thead tr th {\n",
       "        text-align: left;\n",
       "    }\n",
       "\n",
       "    .dataframe thead tr:last-of-type th {\n",
       "        text-align: right;\n",
       "    }\n",
       "</style>\n",
       "<table border=\"1\" class=\"dataframe\">\n",
       "  <thead>\n",
       "    <tr>\n",
       "      <th></th>\n",
       "      <th colspan=\"3\" halign=\"left\">point</th>\n",
       "      <th colspan=\"3\" halign=\"left\">premium_rate</th>\n",
       "    </tr>\n",
       "    <tr>\n",
       "      <th></th>\n",
       "      <th>mean</th>\n",
       "      <th>max</th>\n",
       "      <th>min</th>\n",
       "      <th>mean</th>\n",
       "      <th>max</th>\n",
       "      <th>min</th>\n",
       "    </tr>\n",
       "    <tr>\n",
       "      <th>result</th>\n",
       "      <th></th>\n",
       "      <th></th>\n",
       "      <th></th>\n",
       "      <th></th>\n",
       "      <th></th>\n",
       "      <th></th>\n",
       "    </tr>\n",
       "  </thead>\n",
       "  <tbody>\n",
       "    <tr>\n",
       "      <th>chosen</th>\n",
       "      <td>5.677191</td>\n",
       "      <td>15.654332</td>\n",
       "      <td>0.709806</td>\n",
       "      <td>1.473088</td>\n",
       "      <td>3.688016</td>\n",
       "      <td>1.002052</td>\n",
       "    </tr>\n",
       "    <tr>\n",
       "      <th>not chosen</th>\n",
       "      <td>2.004842</td>\n",
       "      <td>17.885675</td>\n",
       "      <td>0.000089</td>\n",
       "      <td>2.201950</td>\n",
       "      <td>38.034076</td>\n",
       "      <td>1.000135</td>\n",
       "    </tr>\n",
       "  </tbody>\n",
       "</table>\n",
       "</div>"
      ],
      "text/plain": [
       "               point                      premium_rate                     \n",
       "                mean        max       min         mean        max       min\n",
       "result                                                                     \n",
       "chosen      5.677191  15.654332  0.709806     1.473088   3.688016  1.002052\n",
       "not chosen  2.004842  17.885675  0.000089     2.201950  38.034076  1.000135"
      ]
     },
     "execution_count": 41,
     "metadata": {},
     "output_type": "execute_result"
    }
   ],
   "source": [
    "df.groupby('result').agg({'point':['mean','max','min'],'premium_rate':['mean','max','min']})"
   ]
  },
  {
   "cell_type": "markdown",
   "id": "1c048d72-79ef-442b-a50c-2413b19c93d9",
   "metadata": {},
   "source": [
    "##### Point Distribution of 'chosen'"
   ]
  },
  {
   "cell_type": "code",
   "execution_count": 42,
   "id": "f583acb0-961e-4e55-ac30-0398d10ee3d0",
   "metadata": {},
   "outputs": [
    {
     "data": {
      "image/png": "[encoded data removed]",
      "text/plain": [
       "<Figure size 432x288 with 1 Axes>"
      ]
     },
     "metadata": {
      "needs_background": "light"
     },
     "output_type": "display_data"
    }
   ],
   "source": [
    "df[df['result']=='chosen']['point'].plot.hist(bins=50)\n",
    "plt.title('Brand Points of \"Chosen\"s')\n",
    "plt.show()"
   ]
  },
  {
   "cell_type": "code",
   "execution_count": 43,
   "id": "999b778f-c110-479f-b48f-b2f87a837255",
   "metadata": {},
   "outputs": [
    {
     "data": {
      "image/png": "[encoded data removed]",
      "text/plain": [
       "<Figure size 432x288 with 1 Axes>"
      ]
     },
     "metadata": {
      "needs_background": "light"
     },
     "output_type": "display_data"
    }
   ],
   "source": [
    "df[df['result']=='chosen']['premium_rate'].plot.hist(bins=50)\n",
    "plt.title('Price Premium Rates of \"Chosen\"s')\n",
    "plt.show()"
   ]
  },
  {
   "cell_type": "markdown",
   "id": "ce7d1585-6d30-4016-a9b5-3b73d5b44eda",
   "metadata": {},
   "source": [
    "#### Results Analysis"
   ]
  },
  {
   "cell_type": "code",
   "execution_count": 44,
   "id": "46b9ae51-2823-47ee-85a8-3668ab7c9263",
   "metadata": {},
   "outputs": [],
   "source": [
    "df_result_summary = pd.concat([pd.cut(df['point'],bins=[n for n in range(1+math.ceil(df['point'].max()))]).value_counts(),\n",
    "                        pd.cut(df[df['result']=='not chosen']['point'],bins=[n for n in range(1+math.ceil(df['point'].max()))]).value_counts(),\n",
    "                        pd.cut(df[df['result']=='chosen']['point'],bins=[n for n in range(1+math.ceil(df['point'].max()))]).value_counts()],\n",
    "                       axis=1)\n",
    "df_result_summary.columns = ['total','not chosen','chosen']\n",
    "df_result_summary['winning_rates'] = df_result_summary['chosen'] / df_result_summary['total']\n",
    "df_result_summary['winning_rates'] = df_result_summary['winning_rates'].fillna(0)"
   ]
  },
  {
   "cell_type": "code",
   "execution_count": 45,
   "id": "c3200e74-c05e-461a-969d-7803a5be9c87",
   "metadata": {},
   "outputs": [
    {
     "data": {
      "image/png": "[encoded data removed]",
      "text/plain": [
       "<Figure size 432x288 with 1 Axes>"
      ]
     },
     "metadata": {
      "needs_background": "light"
     },
     "output_type": "display_data"
    }
   ],
   "source": [
    "df_result_summary['winning_rates'].plot.bar()\n",
    "plt.xlabel('Brand Point Intervals')\n",
    "plt.ylabel('Winning Rate')\n",
    "plt.title('Winning Rates of Brand Point Interval (n,n+1]')\n",
    "plt.show()"
   ]
  },
  {
   "cell_type": "code",
   "execution_count": 47,
   "id": "e9527ff2-6f98-4bd3-be2e-98ee8b7a5ab6",
   "metadata": {},
   "outputs": [
    {
     "data": {
      "text/html": [
       "<div>\n",
       "<style scoped>\n",
       "    .dataframe tbody tr th:only-of-type {\n",
       "        vertical-align: middle;\n",
       "    }\n",
       "\n",
       "    .dataframe tbody tr th {\n",
       "        vertical-align: top;\n",
       "    }\n",
       "\n",
       "    .dataframe thead th {\n",
       "        text-align: right;\n",
       "    }\n",
       "</style>\n",
       "<table border=\"1\" class=\"dataframe\">\n",
       "  <thead>\n",
       "    <tr style=\"text-align: right;\">\n",
       "      <th></th>\n",
       "      <th>total</th>\n",
       "      <th>not chosen</th>\n",
       "      <th>chosen</th>\n",
       "      <th>winning_rates</th>\n",
       "    </tr>\n",
       "  </thead>\n",
       "  <tbody>\n",
       "    <tr>\n",
       "      <th>(0, 1]</th>\n",
       "      <td>1896</td>\n",
       "      <td>1895</td>\n",
       "      <td>1</td>\n",
       "      <td>0.000527</td>\n",
       "    </tr>\n",
       "    <tr>\n",
       "      <th>(1, 2]</th>\n",
       "      <td>1174</td>\n",
       "      <td>1169</td>\n",
       "      <td>5</td>\n",
       "      <td>0.004259</td>\n",
       "    </tr>\n",
       "    <tr>\n",
       "      <th>(2, 3]</th>\n",
       "      <td>775</td>\n",
       "      <td>761</td>\n",
       "      <td>14</td>\n",
       "      <td>0.018065</td>\n",
       "    </tr>\n",
       "    <tr>\n",
       "      <th>(3, 4]</th>\n",
       "      <td>425</td>\n",
       "      <td>413</td>\n",
       "      <td>12</td>\n",
       "      <td>0.028235</td>\n",
       "    </tr>\n",
       "    <tr>\n",
       "      <th>(4, 5]</th>\n",
       "      <td>262</td>\n",
       "      <td>245</td>\n",
       "      <td>17</td>\n",
       "      <td>0.064885</td>\n",
       "    </tr>\n",
       "    <tr>\n",
       "      <th>(5, 6]</th>\n",
       "      <td>184</td>\n",
       "      <td>172</td>\n",
       "      <td>12</td>\n",
       "      <td>0.065217</td>\n",
       "    </tr>\n",
       "    <tr>\n",
       "      <th>(6, 7]</th>\n",
       "      <td>107</td>\n",
       "      <td>95</td>\n",
       "      <td>12</td>\n",
       "      <td>0.112150</td>\n",
       "    </tr>\n",
       "    <tr>\n",
       "      <th>(7, 8]</th>\n",
       "      <td>70</td>\n",
       "      <td>62</td>\n",
       "      <td>8</td>\n",
       "      <td>0.114286</td>\n",
       "    </tr>\n",
       "    <tr>\n",
       "      <th>(8, 9]</th>\n",
       "      <td>51</td>\n",
       "      <td>44</td>\n",
       "      <td>7</td>\n",
       "      <td>0.137255</td>\n",
       "    </tr>\n",
       "    <tr>\n",
       "      <th>(9, 10]</th>\n",
       "      <td>20</td>\n",
       "      <td>18</td>\n",
       "      <td>2</td>\n",
       "      <td>0.100000</td>\n",
       "    </tr>\n",
       "    <tr>\n",
       "      <th>(10, 11]</th>\n",
       "      <td>18</td>\n",
       "      <td>14</td>\n",
       "      <td>4</td>\n",
       "      <td>0.222222</td>\n",
       "    </tr>\n",
       "    <tr>\n",
       "      <th>(11, 12]</th>\n",
       "      <td>7</td>\n",
       "      <td>7</td>\n",
       "      <td>0</td>\n",
       "      <td>0.000000</td>\n",
       "    </tr>\n",
       "    <tr>\n",
       "      <th>(12, 13]</th>\n",
       "      <td>3</td>\n",
       "      <td>2</td>\n",
       "      <td>1</td>\n",
       "      <td>0.333333</td>\n",
       "    </tr>\n",
       "    <tr>\n",
       "      <th>(13, 14]</th>\n",
       "      <td>1</td>\n",
       "      <td>1</td>\n",
       "      <td>0</td>\n",
       "      <td>0.000000</td>\n",
       "    </tr>\n",
       "    <tr>\n",
       "      <th>(14, 15]</th>\n",
       "      <td>4</td>\n",
       "      <td>0</td>\n",
       "      <td>4</td>\n",
       "      <td>1.000000</td>\n",
       "    </tr>\n",
       "    <tr>\n",
       "      <th>(15, 16]</th>\n",
       "      <td>2</td>\n",
       "      <td>1</td>\n",
       "      <td>1</td>\n",
       "      <td>0.500000</td>\n",
       "    </tr>\n",
       "    <tr>\n",
       "      <th>(16, 17]</th>\n",
       "      <td>0</td>\n",
       "      <td>0</td>\n",
       "      <td>0</td>\n",
       "      <td>0.000000</td>\n",
       "    </tr>\n",
       "    <tr>\n",
       "      <th>(17, 18]</th>\n",
       "      <td>1</td>\n",
       "      <td>1</td>\n",
       "      <td>0</td>\n",
       "      <td>0.000000</td>\n",
       "    </tr>\n",
       "  </tbody>\n",
       "</table>\n",
       "</div>"
      ],
      "text/plain": [
       "          total  not chosen  chosen  winning_rates\n",
       "(0, 1]     1896        1895       1       0.000527\n",
       "(1, 2]     1174        1169       5       0.004259\n",
       "(2, 3]      775         761      14       0.018065\n",
       "(3, 4]      425         413      12       0.028235\n",
       "(4, 5]      262         245      17       0.064885\n",
       "(5, 6]      184         172      12       0.065217\n",
       "(6, 7]      107          95      12       0.112150\n",
       "(7, 8]       70          62       8       0.114286\n",
       "(8, 9]       51          44       7       0.137255\n",
       "(9, 10]      20          18       2       0.100000\n",
       "(10, 11]     18          14       4       0.222222\n",
       "(11, 12]      7           7       0       0.000000\n",
       "(12, 13]      3           2       1       0.333333\n",
       "(13, 14]      1           1       0       0.000000\n",
       "(14, 15]      4           0       4       1.000000\n",
       "(15, 16]      2           1       1       0.500000\n",
       "(16, 17]      0           0       0       0.000000\n",
       "(17, 18]      1           1       0       0.000000"
      ]
     },
     "execution_count": 47,
     "metadata": {},
     "output_type": "execute_result"
    }
   ],
   "source": [
    "df_result_summary#.head()"
   ]
  },
  {
   "cell_type": "markdown",
   "id": "7f97bdc8-a0dd-447f-bc39-dbfb8c53c0ac",
   "metadata": {
    "tags": []
   },
   "source": [
    "#### Practical Cases: cubic\n",
    "$$\n",
    "\\mathrm{Likelihood Value} = \\mathrm{Brand Points}^3 \\times \\sqrt{\\mathrm{Price Premium Rate}}\n",
    "$$\n",
    "There are 5000 tickets in the raffle and only 100 tickets will be selected with likelihoods determined by the above formula."
   ]
  },
  {
   "cell_type": "code",
   "execution_count": 21,
   "id": "278e4038-5f5f-479a-8ab7-40cc5d6d844a",
   "metadata": {},
   "outputs": [],
   "source": [
    "no_tickets = 5000\n",
    "no_selections = 100"
   ]
  },
  {
   "cell_type": "markdown",
   "id": "4718aa6f-dfd8-4ed4-b818-aa673f0ad835",
   "metadata": {
    "tags": []
   },
   "source": [
    "#### Generating the scenery\n",
    "\n",
    "The Brand points of 5000 Ticket holders are generated randomly by Gamma Distribution with shape 1 and scale 2.\n",
    "\n",
    "And the price premium rates are generated randomly, independent of Brand points, by Exponential Distribution with pameter lambda 5.\n",
    "\n",
    "|  | Distribution | Parameters |\n",
    "| :-: | :-: | :-: |\n",
    "| Brand Points | Gamma Distribution | shape = 1; scale = 2  |\n",
    "| Price Premium Rates | Exponential Distribution | lambda = (Brand Point)<sup>0.5</sup> |"
   ]
  },
  {
   "cell_type": "code",
   "execution_count": 50,
   "id": "461124f9-b68d-4e45-b77b-e1d612cf534d",
   "metadata": {},
   "outputs": [],
   "source": [
    "# Parameter for Brand Points Distribution, Gamma Distribution\n",
    "shape_points = 1\n",
    "scale_points = 2\n",
    "loc_points = 0 # \n",
    "\n",
    "# Parameter for Price Premium Rate Distribution, Exponential Distribution\n",
    "loc_premium = 1"
   ]
  },
  {
   "cell_type": "code",
   "execution_count": 51,
   "id": "f5ff8823-b0da-473e-909e-2db474c81a4f",
   "metadata": {},
   "outputs": [],
   "source": [
    "# Generate the Points for 5000 ticket holders\n",
    "Points = gamma.rvs(a=shape_points,loc=loc_points,scale=scale_points,size=no_tickets)\n",
    "\n",
    "# Generating the price premium rate for 5000 ticket holders. independently of \"points\".\n",
    "Price_Premium_Rates = exponential_random_number(np.sqrt(Points))\n",
    "\n",
    "# Likelihood_Values = Points * Price_Premium_Rates\n",
    "Likelihood_Values = Points**3 * np.sqrt(Price_Premium_Rates) # First calculate each tickets own value\n",
    "Likelihood_Values = Likelihood_Values / Likelihood_Values.sum() # Second calibrate likelihood values to have the sum of all to be 1.\n",
    "\n",
    "# Put all the values into a data frame with 'color' column being 'b'.\n",
    "df = pd.DataFrame(data={'point':Points,'premium_rate':Price_Premium_Rates,'likelihood':Likelihood_Values,'result':'not chosen'})"
   ]
  },
  {
   "cell_type": "code",
   "execution_count": 52,
   "id": "f01ac053-44ab-4869-add9-ea4e291c4f16",
   "metadata": {},
   "outputs": [
    {
     "data": {
      "text/html": [
       "<div>\n",
       "<style scoped>\n",
       "    .dataframe tbody tr th:only-of-type {\n",
       "        vertical-align: middle;\n",
       "    }\n",
       "\n",
       "    .dataframe tbody tr th {\n",
       "        vertical-align: top;\n",
       "    }\n",
       "\n",
       "    .dataframe thead th {\n",
       "        text-align: right;\n",
       "    }\n",
       "</style>\n",
       "<table border=\"1\" class=\"dataframe\">\n",
       "  <thead>\n",
       "    <tr style=\"text-align: right;\">\n",
       "      <th></th>\n",
       "      <th>mean</th>\n",
       "      <th>max</th>\n",
       "      <th>min</th>\n",
       "    </tr>\n",
       "  </thead>\n",
       "  <tbody>\n",
       "    <tr>\n",
       "      <th>point</th>\n",
       "      <td>1.995714</td>\n",
       "      <td>21.193007</td>\n",
       "      <td>4.018013e-04</td>\n",
       "    </tr>\n",
       "    <tr>\n",
       "      <th>premium_rate</th>\n",
       "      <td>2.245572</td>\n",
       "      <td>87.534117</td>\n",
       "      <td>1.000028e+00</td>\n",
       "    </tr>\n",
       "    <tr>\n",
       "      <th>likelihood</th>\n",
       "      <td>0.000200</td>\n",
       "      <td>0.037855</td>\n",
       "      <td>1.834619e-15</td>\n",
       "    </tr>\n",
       "  </tbody>\n",
       "</table>\n",
       "</div>"
      ],
      "text/plain": [
       "                  mean        max           min\n",
       "point         1.995714  21.193007  4.018013e-04\n",
       "premium_rate  2.245572  87.534117  1.000028e+00\n",
       "likelihood    0.000200   0.037855  1.834619e-15"
      ]
     },
     "execution_count": 52,
     "metadata": {},
     "output_type": "execute_result"
    }
   ],
   "source": [
    "df_summary = pd.DataFrame()\n",
    "df_summary.loc[:,'mean'] = df[['point','premium_rate','likelihood']].mean()\n",
    "df_summary.loc[:,'max'] = df[['point','premium_rate','likelihood']].max()\n",
    "df_summary.loc[:,'min'] = df[['point','premium_rate','likelihood']].min()\n",
    "df_summary"
   ]
  },
  {
   "cell_type": "markdown",
   "id": "a36e35ac-cc51-48d9-a32e-8b46085caef2",
   "metadata": {},
   "source": [
    "##### Selection of 100 tickets out of 5000"
   ]
  },
  {
   "cell_type": "code",
   "execution_count": 53,
   "id": "7c467250-3bf1-4f6f-a94e-b50d1f6eafdf",
   "metadata": {},
   "outputs": [],
   "source": [
    "# Choose 100 tickets out of 1000 with the likelihood given by Likelihood_Values\n",
    "draw = np.random.choice([n for n in range(no_tickets)], no_selections, replace=False, p=Likelihood_Values)\n",
    "\n",
    "# Change the colors of the chosen tickets to red 'r'\n",
    "for idx in draw:\n",
    "    df.loc[idx,'result'] = 'chosen'"
   ]
  },
  {
   "cell_type": "markdown",
   "id": "2328e469-9027-4613-8b01-fd3320fd0345",
   "metadata": {},
   "source": [
    "#### Scatter Plots of brand points and price premium rate"
   ]
  },
  {
   "cell_type": "code",
   "execution_count": 54,
   "id": "c46bad44-12ba-4d62-b757-bc9943322468",
   "metadata": {},
   "outputs": [
    {
     "data": {
      "image/png": "[encoded data removed]",
      "text/plain": [
       "<Figure size 864x432 with 1 Axes>"
      ]
     },
     "metadata": {
      "needs_background": "light"
     },
     "output_type": "display_data"
    }
   ],
   "source": [
    "fig, ax = plt.subplots(figsize=(12,6))\n",
    "for result in ['not chosen','chosen']:\n",
    "    color = 'b' if result=='not chosen' else 'r'\n",
    "    # scatter = ax.scatter(df[df['result']==result]['point'], df[df['result']==result]['premium_rate'], c=color, label=result, alpha=0.7,cmap='viridis')\n",
    "    scatter = ax.scatter(df[df['result']==result]['point'], df[df['result']==result]['premium_rate'], c=color, s=5000*df[df['result']==result]['likelihood'], label=result, alpha=0.7,cmap='viridis')\n",
    "ax.set_title('Chosen tickets vs Not-chosen tickets')\n",
    "ax.set_xlabel('Brand Point')\n",
    "ax.set_ylabel('Price Premium Rate')\n",
    "# ax.legend()\n",
    "plt.show()"
   ]
  },
  {
   "cell_type": "markdown",
   "id": "ab2660a0-b02c-47b0-aa34-1d5e2e1f1144",
   "metadata": {},
   "source": [
    "#### Points, Premium Rate and Likelihood for chosens and not-chosens"
   ]
  },
  {
   "cell_type": "code",
   "execution_count": 55,
   "id": "7514efd2-90cb-4046-a0bd-9d17565df187",
   "metadata": {},
   "outputs": [
    {
     "data": {
      "text/html": [
       "<div>\n",
       "<style scoped>\n",
       "    .dataframe tbody tr th:only-of-type {\n",
       "        vertical-align: middle;\n",
       "    }\n",
       "\n",
       "    .dataframe tbody tr th {\n",
       "        vertical-align: top;\n",
       "    }\n",
       "\n",
       "    .dataframe thead tr th {\n",
       "        text-align: left;\n",
       "    }\n",
       "\n",
       "    .dataframe thead tr:last-of-type th {\n",
       "        text-align: right;\n",
       "    }\n",
       "</style>\n",
       "<table border=\"1\" class=\"dataframe\">\n",
       "  <thead>\n",
       "    <tr>\n",
       "      <th></th>\n",
       "      <th colspan=\"3\" halign=\"left\">point</th>\n",
       "      <th colspan=\"3\" halign=\"left\">premium_rate</th>\n",
       "    </tr>\n",
       "    <tr>\n",
       "      <th></th>\n",
       "      <th>mean</th>\n",
       "      <th>max</th>\n",
       "      <th>min</th>\n",
       "      <th>mean</th>\n",
       "      <th>max</th>\n",
       "      <th>min</th>\n",
       "    </tr>\n",
       "    <tr>\n",
       "      <th>result</th>\n",
       "      <th></th>\n",
       "      <th></th>\n",
       "      <th></th>\n",
       "      <th></th>\n",
       "      <th></th>\n",
       "      <th></th>\n",
       "    </tr>\n",
       "  </thead>\n",
       "  <tbody>\n",
       "    <tr>\n",
       "      <th>chosen</th>\n",
       "      <td>7.219944</td>\n",
       "      <td>21.193007</td>\n",
       "      <td>1.647625</td>\n",
       "      <td>1.467378</td>\n",
       "      <td>3.953628</td>\n",
       "      <td>1.008859</td>\n",
       "    </tr>\n",
       "    <tr>\n",
       "      <th>not chosen</th>\n",
       "      <td>1.889097</td>\n",
       "      <td>13.397935</td>\n",
       "      <td>0.000402</td>\n",
       "      <td>2.261454</td>\n",
       "      <td>87.534117</td>\n",
       "      <td>1.000028</td>\n",
       "    </tr>\n",
       "  </tbody>\n",
       "</table>\n",
       "</div>"
      ],
      "text/plain": [
       "               point                      premium_rate                     \n",
       "                mean        max       min         mean        max       min\n",
       "result                                                                     \n",
       "chosen      7.219944  21.193007  1.647625     1.467378   3.953628  1.008859\n",
       "not chosen  1.889097  13.397935  0.000402     2.261454  87.534117  1.000028"
      ]
     },
     "execution_count": 55,
     "metadata": {},
     "output_type": "execute_result"
    }
   ],
   "source": [
    "df.groupby('result').agg({'point':['mean','max','min'],'premium_rate':['mean','max','min']})"
   ]
  },
  {
   "cell_type": "markdown",
   "id": "3632e4d7-2d90-4c3e-8978-72457251ddf5",
   "metadata": {},
   "source": [
    "##### Point Distribution of 'chosen'"
   ]
  },
  {
   "cell_type": "code",
   "execution_count": 56,
   "id": "fbfd3f73-d7b8-4858-90b2-a763b18a7afe",
   "metadata": {},
   "outputs": [
    {
     "data": {
      "image/png": "[encoded data removed]",
      "text/plain": [
       "<Figure size 432x288 with 1 Axes>"
      ]
     },
     "metadata": {
      "needs_background": "light"
     },
     "output_type": "display_data"
    }
   ],
   "source": [
    "df[df['result']=='chosen']['point'].plot.hist(bins=50)\n",
    "plt.title('Brand Points of \"Chosen\"s')\n",
    "plt.show()"
   ]
  },
  {
   "cell_type": "code",
   "execution_count": 57,
   "id": "3f1d2aa4-9150-4fdb-b6ac-9d207c7159ba",
   "metadata": {},
   "outputs": [
    {
     "data": {
      "image/png": "[encoded data removed]",
      "text/plain": [
       "<Figure size 432x288 with 1 Axes>"
      ]
     },
     "metadata": {
      "needs_background": "light"
     },
     "output_type": "display_data"
    }
   ],
   "source": [
    "df[df['result']=='chosen']['premium_rate'].plot.hist(bins=50)\n",
    "plt.title('Price Premium Rates of \"Chosen\"s')\n",
    "plt.show()"
   ]
  },
  {
   "cell_type": "markdown",
   "id": "b967d652-b7fd-4d40-9c37-9143065a907b",
   "metadata": {},
   "source": [
    "#### Results Analysis"
   ]
  },
  {
   "cell_type": "code",
   "execution_count": 58,
   "id": "e7674545-ff73-4894-91cd-9c97ffb52c14",
   "metadata": {},
   "outputs": [],
   "source": [
    "df_result_summary = pd.concat([pd.cut(df['point'],bins=[n for n in range(1+math.ceil(df['point'].max()))]).value_counts(),\n",
    "                        pd.cut(df[df['result']=='not chosen']['point'],bins=[n for n in range(1+math.ceil(df['point'].max()))]).value_counts(),\n",
    "                        pd.cut(df[df['result']=='chosen']['point'],bins=[n for n in range(1+math.ceil(df['point'].max()))]).value_counts()],\n",
    "                       axis=1)\n",
    "df_result_summary.columns = ['total','not chosen','chosen']\n",
    "df_result_summary['winning_rates'] = df_result_summary['chosen'] / df_result_summary['total']\n",
    "df_result_summary['winning_rates'] = df_result_summary['winning_rates'].fillna(0)"
   ]
  },
  {
   "cell_type": "code",
   "execution_count": 59,
   "id": "58d069e2-3a7d-481a-97e7-dfe6409311d1",
   "metadata": {},
   "outputs": [
    {
     "data": {
      "image/png": "[encoded data removed]",
      "text/plain": [
       "<Figure size 432x288 with 1 Axes>"
      ]
     },
     "metadata": {
      "needs_background": "light"
     },
     "output_type": "display_data"
    }
   ],
   "source": [
    "df_result_summary['winning_rates'].plot.bar()\n",
    "plt.xlabel('Brand Point Intervals')\n",
    "plt.ylabel('Winning Rate')\n",
    "plt.title('Winning Rates of Brand Point Interval (n,n+1]')\n",
    "plt.show()"
   ]
  },
  {
   "cell_type": "code",
   "execution_count": 60,
   "id": "07c9e158-d4c9-46aa-b197-aba47bd9861d",
   "metadata": {},
   "outputs": [
    {
     "data": {
      "text/html": [
       "<div>\n",
       "<style scoped>\n",
       "    .dataframe tbody tr th:only-of-type {\n",
       "        vertical-align: middle;\n",
       "    }\n",
       "\n",
       "    .dataframe tbody tr th {\n",
       "        vertical-align: top;\n",
       "    }\n",
       "\n",
       "    .dataframe thead th {\n",
       "        text-align: right;\n",
       "    }\n",
       "</style>\n",
       "<table border=\"1\" class=\"dataframe\">\n",
       "  <thead>\n",
       "    <tr style=\"text-align: right;\">\n",
       "      <th></th>\n",
       "      <th>total</th>\n",
       "      <th>not chosen</th>\n",
       "      <th>chosen</th>\n",
       "      <th>winning_rates</th>\n",
       "    </tr>\n",
       "  </thead>\n",
       "  <tbody>\n",
       "    <tr>\n",
       "      <th>(0, 1]</th>\n",
       "      <td>1956</td>\n",
       "      <td>1956</td>\n",
       "      <td>0</td>\n",
       "      <td>0.000000</td>\n",
       "    </tr>\n",
       "    <tr>\n",
       "      <th>(1, 2]</th>\n",
       "      <td>1218</td>\n",
       "      <td>1214</td>\n",
       "      <td>4</td>\n",
       "      <td>0.003284</td>\n",
       "    </tr>\n",
       "    <tr>\n",
       "      <th>(2, 3]</th>\n",
       "      <td>708</td>\n",
       "      <td>702</td>\n",
       "      <td>6</td>\n",
       "      <td>0.008475</td>\n",
       "    </tr>\n",
       "    <tr>\n",
       "      <th>(3, 4]</th>\n",
       "      <td>457</td>\n",
       "      <td>448</td>\n",
       "      <td>9</td>\n",
       "      <td>0.019694</td>\n",
       "    </tr>\n",
       "    <tr>\n",
       "      <th>(4, 5]</th>\n",
       "      <td>259</td>\n",
       "      <td>247</td>\n",
       "      <td>12</td>\n",
       "      <td>0.046332</td>\n",
       "    </tr>\n",
       "    <tr>\n",
       "      <th>(5, 6]</th>\n",
       "      <td>161</td>\n",
       "      <td>153</td>\n",
       "      <td>8</td>\n",
       "      <td>0.049689</td>\n",
       "    </tr>\n",
       "    <tr>\n",
       "      <th>(6, 7]</th>\n",
       "      <td>96</td>\n",
       "      <td>88</td>\n",
       "      <td>8</td>\n",
       "      <td>0.083333</td>\n",
       "    </tr>\n",
       "    <tr>\n",
       "      <th>(7, 8]</th>\n",
       "      <td>56</td>\n",
       "      <td>38</td>\n",
       "      <td>18</td>\n",
       "      <td>0.321429</td>\n",
       "    </tr>\n",
       "    <tr>\n",
       "      <th>(8, 9]</th>\n",
       "      <td>37</td>\n",
       "      <td>24</td>\n",
       "      <td>13</td>\n",
       "      <td>0.351351</td>\n",
       "    </tr>\n",
       "    <tr>\n",
       "      <th>(9, 10]</th>\n",
       "      <td>21</td>\n",
       "      <td>16</td>\n",
       "      <td>5</td>\n",
       "      <td>0.238095</td>\n",
       "    </tr>\n",
       "    <tr>\n",
       "      <th>(10, 11]</th>\n",
       "      <td>14</td>\n",
       "      <td>8</td>\n",
       "      <td>6</td>\n",
       "      <td>0.428571</td>\n",
       "    </tr>\n",
       "    <tr>\n",
       "      <th>(11, 12]</th>\n",
       "      <td>7</td>\n",
       "      <td>4</td>\n",
       "      <td>3</td>\n",
       "      <td>0.428571</td>\n",
       "    </tr>\n",
       "    <tr>\n",
       "      <th>(12, 13]</th>\n",
       "      <td>2</td>\n",
       "      <td>1</td>\n",
       "      <td>1</td>\n",
       "      <td>0.500000</td>\n",
       "    </tr>\n",
       "    <tr>\n",
       "      <th>(13, 14]</th>\n",
       "      <td>3</td>\n",
       "      <td>1</td>\n",
       "      <td>2</td>\n",
       "      <td>0.666667</td>\n",
       "    </tr>\n",
       "    <tr>\n",
       "      <th>(14, 15]</th>\n",
       "      <td>0</td>\n",
       "      <td>0</td>\n",
       "      <td>0</td>\n",
       "      <td>0.000000</td>\n",
       "    </tr>\n",
       "    <tr>\n",
       "      <th>(15, 16]</th>\n",
       "      <td>1</td>\n",
       "      <td>0</td>\n",
       "      <td>1</td>\n",
       "      <td>1.000000</td>\n",
       "    </tr>\n",
       "    <tr>\n",
       "      <th>(16, 17]</th>\n",
       "      <td>1</td>\n",
       "      <td>0</td>\n",
       "      <td>1</td>\n",
       "      <td>1.000000</td>\n",
       "    </tr>\n",
       "    <tr>\n",
       "      <th>(17, 18]</th>\n",
       "      <td>2</td>\n",
       "      <td>0</td>\n",
       "      <td>2</td>\n",
       "      <td>1.000000</td>\n",
       "    </tr>\n",
       "    <tr>\n",
       "      <th>(18, 19]</th>\n",
       "      <td>0</td>\n",
       "      <td>0</td>\n",
       "      <td>0</td>\n",
       "      <td>0.000000</td>\n",
       "    </tr>\n",
       "    <tr>\n",
       "      <th>(19, 20]</th>\n",
       "      <td>0</td>\n",
       "      <td>0</td>\n",
       "      <td>0</td>\n",
       "      <td>0.000000</td>\n",
       "    </tr>\n",
       "    <tr>\n",
       "      <th>(20, 21]</th>\n",
       "      <td>0</td>\n",
       "      <td>0</td>\n",
       "      <td>0</td>\n",
       "      <td>0.000000</td>\n",
       "    </tr>\n",
       "    <tr>\n",
       "      <th>(21, 22]</th>\n",
       "      <td>1</td>\n",
       "      <td>0</td>\n",
       "      <td>1</td>\n",
       "      <td>1.000000</td>\n",
       "    </tr>\n",
       "  </tbody>\n",
       "</table>\n",
       "</div>"
      ],
      "text/plain": [
       "          total  not chosen  chosen  winning_rates\n",
       "(0, 1]     1956        1956       0       0.000000\n",
       "(1, 2]     1218        1214       4       0.003284\n",
       "(2, 3]      708         702       6       0.008475\n",
       "(3, 4]      457         448       9       0.019694\n",
       "(4, 5]      259         247      12       0.046332\n",
       "(5, 6]      161         153       8       0.049689\n",
       "(6, 7]       96          88       8       0.083333\n",
       "(7, 8]       56          38      18       0.321429\n",
       "(8, 9]       37          24      13       0.351351\n",
       "(9, 10]      21          16       5       0.238095\n",
       "(10, 11]     14           8       6       0.428571\n",
       "(11, 12]      7           4       3       0.428571\n",
       "(12, 13]      2           1       1       0.500000\n",
       "(13, 14]      3           1       2       0.666667\n",
       "(14, 15]      0           0       0       0.000000\n",
       "(15, 16]      1           0       1       1.000000\n",
       "(16, 17]      1           0       1       1.000000\n",
       "(17, 18]      2           0       2       1.000000\n",
       "(18, 19]      0           0       0       0.000000\n",
       "(19, 20]      0           0       0       0.000000\n",
       "(20, 21]      0           0       0       0.000000\n",
       "(21, 22]      1           0       1       1.000000"
      ]
     },
     "execution_count": 60,
     "metadata": {},
     "output_type": "execute_result"
    }
   ],
   "source": [
    "df_result_summary#.head()"
   ]
  },
  {
   "cell_type": "code",
   "execution_count": null,
   "id": "5b250940-b9e5-4ac0-8103-0e3bc6a8457d",
   "metadata": {},
   "outputs": [],
   "source": []
  },
  {
   "cell_type": "code",
   "execution_count": null,
   "id": "bab9ab15-0ced-4cf2-bb74-c4de80c1235d",
   "metadata": {},
   "outputs": [],
   "source": []
  },
  {
   "cell_type": "code",
   "execution_count": null,
   "id": "86787fd9-0879-44f0-9cbc-b95245965de4",
   "metadata": {},
   "outputs": [],
   "source": []
  },
  {
   "cell_type": "code",
   "execution_count": null,
   "id": "39cd481f-0c4c-4e17-8824-e0022e9c94b8",
   "metadata": {},
   "outputs": [],
   "source": []
  },
  {
   "cell_type": "code",
   "execution_count": null,
   "id": "2e88eb68-0f48-4bb3-a291-a9c315ba4f0b",
   "metadata": {},
   "outputs": [],
   "source": []
  },
  {
   "cell_type": "markdown",
   "id": "f768abf5-def4-474b-a061-6eb857df8da5",
   "metadata": {
    "tags": []
   },
   "source": [
    "#### Practical Cases: exponential\n",
    "\n",
    "$$\n",
    "\\mathrm{Likelihood Value} = \\exp\\big(Brand Points\\big) \\times \\sqrt{\\mathrm{Price Premium Rate}}\n",
    "$$\n",
    "There are 5000 tickets in the raffle and only 100 tickets will be selected with likelihoods determined by the above formula."
   ]
  },
  {
   "cell_type": "code",
   "execution_count": 33,
   "id": "d66fe914-56fb-43be-92b7-c4d0123a9fa4",
   "metadata": {},
   "outputs": [],
   "source": [
    "no_tickets = 5000\n",
    "no_selections = 100"
   ]
  },
  {
   "cell_type": "markdown",
   "id": "f647c121-757d-4f93-b754-3afc3d11e4a0",
   "metadata": {
    "tags": []
   },
   "source": [
    "#### Generating the scenery\n",
    "\n",
    "The Brand points of 5000 Ticket holders are generated randomly by Gamma Distribution with shape 1 and scale 2.\n",
    "\n",
    "And the price premium rates are generated randomly, independent of Brand points, by Exponential Distribution with pameter lambda 5.\n",
    "\n",
    "|  | Distribution | Parameters |\n",
    "| :-: | :-: | :-: |\n",
    "| Brand Points | Gamma Distribution | shape = 1; scale = 2  |\n",
    "| Price Premium Rates | Exponential Distribution | lambda = (Brand Point)<sup>0.5</sup> |"
   ]
  },
  {
   "cell_type": "code",
   "execution_count": 61,
   "id": "6c00d8f7-189d-46dc-b971-b73a1bfecfce",
   "metadata": {},
   "outputs": [],
   "source": [
    "# Parameter for Brand Points Distribution, Gamma Distribution\n",
    "shape_points = 1\n",
    "scale_points = 2\n",
    "loc_points = 0 # \n",
    "\n",
    "# Parameter for Price Premium Rate Distribution, Exponential Distribution\n",
    "loc_premium = 1"
   ]
  },
  {
   "cell_type": "code",
   "execution_count": 62,
   "id": "333f3fab-a7a4-4bdd-bb85-79f65da16049",
   "metadata": {},
   "outputs": [],
   "source": [
    "# Generate the Points for 5000 ticket holders\n",
    "Points = gamma.rvs(a=shape_points,loc=loc_points,scale=scale_points,size=no_tickets)\n",
    "\n",
    "# Generating the price premium rate for 5000 ticket holders. independently of \"points\".\n",
    "Price_Premium_Rates = exponential_random_number(np.sqrt(Points))\n",
    "\n",
    "# Likelihood_Values = Points * Price_Premium_Rates\n",
    "Likelihood_Values = np.exp(Points) * np.sqrt(Price_Premium_Rates) # First calculate each tickets own value\n",
    "Likelihood_Values = Likelihood_Values / Likelihood_Values.sum() # Second calibrate likelihood values to have the sum of all to be 1.\n",
    "\n",
    "# Put all the values into a data frame with 'color' column being 'b'.\n",
    "df = pd.DataFrame(data={'point':Points,'premium_rate':Price_Premium_Rates,'likelihood':Likelihood_Values,'result':'not chosen'})"
   ]
  },
  {
   "cell_type": "code",
   "execution_count": 63,
   "id": "6e0d6fc4-9d2f-4a3e-9fc3-b9573edd85a8",
   "metadata": {},
   "outputs": [
    {
     "data": {
      "text/html": [
       "<div>\n",
       "<style scoped>\n",
       "    .dataframe tbody tr th:only-of-type {\n",
       "        vertical-align: middle;\n",
       "    }\n",
       "\n",
       "    .dataframe tbody tr th {\n",
       "        vertical-align: top;\n",
       "    }\n",
       "\n",
       "    .dataframe thead th {\n",
       "        text-align: right;\n",
       "    }\n",
       "</style>\n",
       "<table border=\"1\" class=\"dataframe\">\n",
       "  <thead>\n",
       "    <tr style=\"text-align: right;\">\n",
       "      <th></th>\n",
       "      <th>mean</th>\n",
       "      <th>max</th>\n",
       "      <th>min</th>\n",
       "    </tr>\n",
       "  </thead>\n",
       "  <tbody>\n",
       "    <tr>\n",
       "      <th>point</th>\n",
       "      <td>1.992073</td>\n",
       "      <td>22.705917</td>\n",
       "      <td>3.036191e-05</td>\n",
       "    </tr>\n",
       "    <tr>\n",
       "      <th>premium_rate</th>\n",
       "      <td>2.248731</td>\n",
       "      <td>311.611883</td>\n",
       "      <td>1.000125e+00</td>\n",
       "    </tr>\n",
       "    <tr>\n",
       "      <th>likelihood</th>\n",
       "      <td>0.000200</td>\n",
       "      <td>0.987880</td>\n",
       "      <td>1.283019e-10</td>\n",
       "    </tr>\n",
       "  </tbody>\n",
       "</table>\n",
       "</div>"
      ],
      "text/plain": [
       "                  mean         max           min\n",
       "point         1.992073   22.705917  3.036191e-05\n",
       "premium_rate  2.248731  311.611883  1.000125e+00\n",
       "likelihood    0.000200    0.987880  1.283019e-10"
      ]
     },
     "execution_count": 63,
     "metadata": {},
     "output_type": "execute_result"
    }
   ],
   "source": [
    "df_summary = pd.DataFrame()\n",
    "df_summary.loc[:,'mean'] = df[['point','premium_rate','likelihood']].mean()\n",
    "df_summary.loc[:,'max'] = df[['point','premium_rate','likelihood']].max()\n",
    "df_summary.loc[:,'min'] = df[['point','premium_rate','likelihood']].min()\n",
    "df_summary"
   ]
  },
  {
   "cell_type": "markdown",
   "id": "ccc2df4a-9870-4de4-a090-1d230baef0d1",
   "metadata": {},
   "source": [
    "##### Selection of 100 tickets out of 5000"
   ]
  },
  {
   "cell_type": "code",
   "execution_count": 64,
   "id": "45fde8bd-54bd-4189-90af-0d5b67f7a6e7",
   "metadata": {},
   "outputs": [],
   "source": [
    "# Choose 100 tickets out of 1000 with the likelihood given by Likelihood_Values\n",
    "draw = np.random.choice([n for n in range(no_tickets)], no_selections, replace=False, p=Likelihood_Values)\n",
    "\n",
    "# Change the colors of the chosen tickets to red 'r'\n",
    "for idx in draw:\n",
    "    df.loc[idx,'result'] = 'chosen'"
   ]
  },
  {
   "cell_type": "markdown",
   "id": "a7a88d26-15a3-4f6a-858e-fa02793073cd",
   "metadata": {},
   "source": [
    "#### Scatter Plots of brand points and price premium rate"
   ]
  },
  {
   "cell_type": "code",
   "execution_count": 65,
   "id": "7d7737f7-c0b0-4f7c-bd3e-155671be5f55",
   "metadata": {},
   "outputs": [
    {
     "data": {
      "image/png": "[encoded data removed]",
      "text/plain": [
       "<Figure size 864x432 with 1 Axes>"
      ]
     },
     "metadata": {
      "needs_background": "light"
     },
     "output_type": "display_data"
    }
   ],
   "source": [
    "fig, ax = plt.subplots(figsize=(12,6))\n",
    "for result in ['not chosen','chosen']:\n",
    "    color = 'b' if result=='not chosen' else 'r'\n",
    "    # scatter = ax.scatter(df[df['result']==result]['point'], df[df['result']==result]['premium_rate'], c=color, label=result, alpha=0.7,cmap='viridis')\n",
    "    scatter = ax.scatter(df[df['result']==result]['point'], df[df['result']==result]['premium_rate'], c=color, s=5000*df[df['result']==result]['likelihood'], label=result, alpha=0.7,cmap='viridis')\n",
    "ax.set_title('Chosen tickets vs Not-chosen tickets')\n",
    "ax.set_xlabel('Brand Point')\n",
    "ax.set_ylabel('Price Premium Rate')\n",
    "# ax.legend()\n",
    "plt.show()"
   ]
  },
  {
   "cell_type": "markdown",
   "id": "08bd4f45-7150-496e-95b0-686203a000e7",
   "metadata": {},
   "source": [
    "#### Points, Premium Rate and Likelihood for chosens and not-chosens"
   ]
  },
  {
   "cell_type": "code",
   "execution_count": 66,
   "id": "92f1a220-bf4e-4c93-97bd-86b7b98379b6",
   "metadata": {},
   "outputs": [
    {
     "data": {
      "text/html": [
       "<div>\n",
       "<style scoped>\n",
       "    .dataframe tbody tr th:only-of-type {\n",
       "        vertical-align: middle;\n",
       "    }\n",
       "\n",
       "    .dataframe tbody tr th {\n",
       "        vertical-align: top;\n",
       "    }\n",
       "\n",
       "    .dataframe thead tr th {\n",
       "        text-align: left;\n",
       "    }\n",
       "\n",
       "    .dataframe thead tr:last-of-type th {\n",
       "        text-align: right;\n",
       "    }\n",
       "</style>\n",
       "<table border=\"1\" class=\"dataframe\">\n",
       "  <thead>\n",
       "    <tr>\n",
       "      <th></th>\n",
       "      <th colspan=\"3\" halign=\"left\">point</th>\n",
       "      <th colspan=\"3\" halign=\"left\">premium_rate</th>\n",
       "    </tr>\n",
       "    <tr>\n",
       "      <th></th>\n",
       "      <th>mean</th>\n",
       "      <th>max</th>\n",
       "      <th>min</th>\n",
       "      <th>mean</th>\n",
       "      <th>max</th>\n",
       "      <th>min</th>\n",
       "    </tr>\n",
       "    <tr>\n",
       "      <th>result</th>\n",
       "      <th></th>\n",
       "      <th></th>\n",
       "      <th></th>\n",
       "      <th></th>\n",
       "      <th></th>\n",
       "      <th></th>\n",
       "    </tr>\n",
       "  </thead>\n",
       "  <tbody>\n",
       "    <tr>\n",
       "      <th>chosen</th>\n",
       "      <td>8.861293</td>\n",
       "      <td>22.705917</td>\n",
       "      <td>0.114778</td>\n",
       "      <td>1.503413</td>\n",
       "      <td>4.131180</td>\n",
       "      <td>1.003718</td>\n",
       "    </tr>\n",
       "    <tr>\n",
       "      <th>not chosen</th>\n",
       "      <td>1.851885</td>\n",
       "      <td>9.418633</td>\n",
       "      <td>0.000030</td>\n",
       "      <td>2.263941</td>\n",
       "      <td>311.611883</td>\n",
       "      <td>1.000125</td>\n",
       "    </tr>\n",
       "  </tbody>\n",
       "</table>\n",
       "</div>"
      ],
      "text/plain": [
       "               point                      premium_rate                      \n",
       "                mean        max       min         mean         max       min\n",
       "result                                                                      \n",
       "chosen      8.861293  22.705917  0.114778     1.503413    4.131180  1.003718\n",
       "not chosen  1.851885   9.418633  0.000030     2.263941  311.611883  1.000125"
      ]
     },
     "execution_count": 66,
     "metadata": {},
     "output_type": "execute_result"
    }
   ],
   "source": [
    "df.groupby('result').agg({'point':['mean','max','min'],'premium_rate':['mean','max','min']})"
   ]
  },
  {
   "cell_type": "markdown",
   "id": "e9ddfd91-7caa-4166-a3c3-869f03f987ab",
   "metadata": {},
   "source": [
    "##### Point Distribution of 'chosen'"
   ]
  },
  {
   "cell_type": "code",
   "execution_count": 67,
   "id": "c091902c-963e-4dd3-a971-003281d4f43e",
   "metadata": {},
   "outputs": [
    {
     "data": {
      "image/png": "[encoded data removed]",
      "text/plain": [
       "<Figure size 432x288 with 1 Axes>"
      ]
     },
     "metadata": {
      "needs_background": "light"
     },
     "output_type": "display_data"
    }
   ],
   "source": [
    "df[df['result']=='chosen']['point'].plot.hist(bins=50)\n",
    "plt.title('Brand Points of \"Chosen\"s')\n",
    "plt.show()"
   ]
  },
  {
   "cell_type": "code",
   "execution_count": 68,
   "id": "97e74f7d-5278-455c-a083-bb43c3ac3e42",
   "metadata": {},
   "outputs": [
    {
     "data": {
      "image/png": "[encoded data removed]",
      "text/plain": [
       "<Figure size 432x288 with 1 Axes>"
      ]
     },
     "metadata": {
      "needs_background": "light"
     },
     "output_type": "display_data"
    }
   ],
   "source": [
    "df[df['result']=='chosen']['premium_rate'].plot.hist(bins=50)\n",
    "plt.title('Price Premium Rates of \"Chosen\"s')\n",
    "plt.show()"
   ]
  },
  {
   "cell_type": "markdown",
   "id": "b98e1e79-6508-4254-bbd0-926d98520701",
   "metadata": {},
   "source": [
    "#### Results Analysis"
   ]
  },
  {
   "cell_type": "code",
   "execution_count": 69,
   "id": "28a68b59-0ad8-4e46-a05e-79bc0ebdef7a",
   "metadata": {},
   "outputs": [],
   "source": [
    "df_result_summary = pd.concat([pd.cut(df['point'],bins=[n for n in range(1+math.ceil(df['point'].max()))]).value_counts(),\n",
    "                        pd.cut(df[df['result']=='not chosen']['point'],bins=[n for n in range(1+math.ceil(df['point'].max()))]).value_counts(),\n",
    "                        pd.cut(df[df['result']=='chosen']['point'],bins=[n for n in range(1+math.ceil(df['point'].max()))]).value_counts()],\n",
    "                       axis=1)\n",
    "df_result_summary.columns = ['total','not chosen','chosen']\n",
    "df_result_summary['winning_rates'] = df_result_summary['chosen'] / df_result_summary['total']\n",
    "df_result_summary['winning_rates'] = df_result_summary['winning_rates'].fillna(0)"
   ]
  },
  {
   "cell_type": "code",
   "execution_count": 70,
   "id": "ef18bcbc-8e3e-4a4b-a345-458e4e5a6ef2",
   "metadata": {},
   "outputs": [
    {
     "data": {
      "image/png": "[encoded data removed]",
      "text/plain": [
       "<Figure size 432x288 with 1 Axes>"
      ]
     },
     "metadata": {
      "needs_background": "light"
     },
     "output_type": "display_data"
    }
   ],
   "source": [
    "df_result_summary['winning_rates'].plot.bar()\n",
    "plt.xlabel('Brand Point Intervals')\n",
    "plt.ylabel('Winning Rate')\n",
    "plt.title('Winning Rates of Brand Point Interval (n,n+1]')\n",
    "plt.show()"
   ]
  },
  {
   "cell_type": "code",
   "execution_count": 71,
   "id": "33146fc2-c6db-46d2-835b-23fead1b7fb3",
   "metadata": {},
   "outputs": [
    {
     "data": {
      "text/html": [
       "<div>\n",
       "<style scoped>\n",
       "    .dataframe tbody tr th:only-of-type {\n",
       "        vertical-align: middle;\n",
       "    }\n",
       "\n",
       "    .dataframe tbody tr th {\n",
       "        vertical-align: top;\n",
       "    }\n",
       "\n",
       "    .dataframe thead th {\n",
       "        text-align: right;\n",
       "    }\n",
       "</style>\n",
       "<table border=\"1\" class=\"dataframe\">\n",
       "  <thead>\n",
       "    <tr style=\"text-align: right;\">\n",
       "      <th></th>\n",
       "      <th>total</th>\n",
       "      <th>not chosen</th>\n",
       "      <th>chosen</th>\n",
       "      <th>winning_rates</th>\n",
       "    </tr>\n",
       "  </thead>\n",
       "  <tbody>\n",
       "    <tr>\n",
       "      <th>(0, 1]</th>\n",
       "      <td>1963</td>\n",
       "      <td>1961</td>\n",
       "      <td>2</td>\n",
       "      <td>0.001019</td>\n",
       "    </tr>\n",
       "    <tr>\n",
       "      <th>(1, 2]</th>\n",
       "      <td>1251</td>\n",
       "      <td>1250</td>\n",
       "      <td>1</td>\n",
       "      <td>0.000799</td>\n",
       "    </tr>\n",
       "    <tr>\n",
       "      <th>(2, 3]</th>\n",
       "      <td>684</td>\n",
       "      <td>683</td>\n",
       "      <td>1</td>\n",
       "      <td>0.001462</td>\n",
       "    </tr>\n",
       "    <tr>\n",
       "      <th>(3, 4]</th>\n",
       "      <td>414</td>\n",
       "      <td>411</td>\n",
       "      <td>3</td>\n",
       "      <td>0.007246</td>\n",
       "    </tr>\n",
       "    <tr>\n",
       "      <th>(4, 5]</th>\n",
       "      <td>278</td>\n",
       "      <td>273</td>\n",
       "      <td>5</td>\n",
       "      <td>0.017986</td>\n",
       "    </tr>\n",
       "    <tr>\n",
       "      <th>(5, 6]</th>\n",
       "      <td>153</td>\n",
       "      <td>150</td>\n",
       "      <td>3</td>\n",
       "      <td>0.019608</td>\n",
       "    </tr>\n",
       "    <tr>\n",
       "      <th>(6, 7]</th>\n",
       "      <td>115</td>\n",
       "      <td>103</td>\n",
       "      <td>12</td>\n",
       "      <td>0.104348</td>\n",
       "    </tr>\n",
       "    <tr>\n",
       "      <th>(7, 8]</th>\n",
       "      <td>55</td>\n",
       "      <td>46</td>\n",
       "      <td>9</td>\n",
       "      <td>0.163636</td>\n",
       "    </tr>\n",
       "    <tr>\n",
       "      <th>(8, 9]</th>\n",
       "      <td>32</td>\n",
       "      <td>18</td>\n",
       "      <td>14</td>\n",
       "      <td>0.437500</td>\n",
       "    </tr>\n",
       "    <tr>\n",
       "      <th>(9, 10]</th>\n",
       "      <td>18</td>\n",
       "      <td>5</td>\n",
       "      <td>13</td>\n",
       "      <td>0.722222</td>\n",
       "    </tr>\n",
       "    <tr>\n",
       "      <th>(10, 11]</th>\n",
       "      <td>17</td>\n",
       "      <td>0</td>\n",
       "      <td>17</td>\n",
       "      <td>1.000000</td>\n",
       "    </tr>\n",
       "    <tr>\n",
       "      <th>(11, 12]</th>\n",
       "      <td>10</td>\n",
       "      <td>0</td>\n",
       "      <td>10</td>\n",
       "      <td>1.000000</td>\n",
       "    </tr>\n",
       "    <tr>\n",
       "      <th>(12, 13]</th>\n",
       "      <td>2</td>\n",
       "      <td>0</td>\n",
       "      <td>2</td>\n",
       "      <td>1.000000</td>\n",
       "    </tr>\n",
       "    <tr>\n",
       "      <th>(13, 14]</th>\n",
       "      <td>4</td>\n",
       "      <td>0</td>\n",
       "      <td>4</td>\n",
       "      <td>1.000000</td>\n",
       "    </tr>\n",
       "    <tr>\n",
       "      <th>(14, 15]</th>\n",
       "      <td>0</td>\n",
       "      <td>0</td>\n",
       "      <td>0</td>\n",
       "      <td>0.000000</td>\n",
       "    </tr>\n",
       "    <tr>\n",
       "      <th>(15, 16]</th>\n",
       "      <td>1</td>\n",
       "      <td>0</td>\n",
       "      <td>1</td>\n",
       "      <td>1.000000</td>\n",
       "    </tr>\n",
       "    <tr>\n",
       "      <th>(16, 17]</th>\n",
       "      <td>0</td>\n",
       "      <td>0</td>\n",
       "      <td>0</td>\n",
       "      <td>0.000000</td>\n",
       "    </tr>\n",
       "    <tr>\n",
       "      <th>(17, 18]</th>\n",
       "      <td>2</td>\n",
       "      <td>0</td>\n",
       "      <td>2</td>\n",
       "      <td>1.000000</td>\n",
       "    </tr>\n",
       "    <tr>\n",
       "      <th>(18, 19]</th>\n",
       "      <td>0</td>\n",
       "      <td>0</td>\n",
       "      <td>0</td>\n",
       "      <td>0.000000</td>\n",
       "    </tr>\n",
       "    <tr>\n",
       "      <th>(19, 20]</th>\n",
       "      <td>0</td>\n",
       "      <td>0</td>\n",
       "      <td>0</td>\n",
       "      <td>0.000000</td>\n",
       "    </tr>\n",
       "    <tr>\n",
       "      <th>(20, 21]</th>\n",
       "      <td>0</td>\n",
       "      <td>0</td>\n",
       "      <td>0</td>\n",
       "      <td>0.000000</td>\n",
       "    </tr>\n",
       "    <tr>\n",
       "      <th>(21, 22]</th>\n",
       "      <td>0</td>\n",
       "      <td>0</td>\n",
       "      <td>0</td>\n",
       "      <td>0.000000</td>\n",
       "    </tr>\n",
       "    <tr>\n",
       "      <th>(22, 23]</th>\n",
       "      <td>1</td>\n",
       "      <td>0</td>\n",
       "      <td>1</td>\n",
       "      <td>1.000000</td>\n",
       "    </tr>\n",
       "  </tbody>\n",
       "</table>\n",
       "</div>"
      ],
      "text/plain": [
       "          total  not chosen  chosen  winning_rates\n",
       "(0, 1]     1963        1961       2       0.001019\n",
       "(1, 2]     1251        1250       1       0.000799\n",
       "(2, 3]      684         683       1       0.001462\n",
       "(3, 4]      414         411       3       0.007246\n",
       "(4, 5]      278         273       5       0.017986\n",
       "(5, 6]      153         150       3       0.019608\n",
       "(6, 7]      115         103      12       0.104348\n",
       "(7, 8]       55          46       9       0.163636\n",
       "(8, 9]       32          18      14       0.437500\n",
       "(9, 10]      18           5      13       0.722222\n",
       "(10, 11]     17           0      17       1.000000\n",
       "(11, 12]     10           0      10       1.000000\n",
       "(12, 13]      2           0       2       1.000000\n",
       "(13, 14]      4           0       4       1.000000\n",
       "(14, 15]      0           0       0       0.000000\n",
       "(15, 16]      1           0       1       1.000000\n",
       "(16, 17]      0           0       0       0.000000\n",
       "(17, 18]      2           0       2       1.000000\n",
       "(18, 19]      0           0       0       0.000000\n",
       "(19, 20]      0           0       0       0.000000\n",
       "(20, 21]      0           0       0       0.000000\n",
       "(21, 22]      0           0       0       0.000000\n",
       "(22, 23]      1           0       1       1.000000"
      ]
     },
     "execution_count": 71,
     "metadata": {},
     "output_type": "execute_result"
    }
   ],
   "source": [
    "df_result_summary#.head()"
   ]
  },
  {
   "cell_type": "code",
   "execution_count": null,
   "id": "e3403d75-a834-44dd-beda-f62094fcb1ec",
   "metadata": {},
   "outputs": [],
   "source": []
  },
  {
   "cell_type": "code",
   "execution_count": null,
   "id": "e4abbc6a-a39f-46b0-bdf7-ca461fa9f72a",
   "metadata": {},
   "outputs": [],
   "source": []
  }
 ],
 "metadata": {
  "kernelspec": {
   "display_name": "ml_env",
   "language": "python",
   "name": "ml_env"
  },
  "language_info": {
   "codemirror_mode": {
    "name": "ipython",
    "version": 3
   },
   "file_extension": ".py",
   "mimetype": "text/x-python",
   "name": "python",
   "nbconvert_exporter": "python",
   "pygments_lexer": "ipython3",
   "version": "3.8.10"
  }
 },
 "nbformat": 4,
 "nbformat_minor": 5
}
