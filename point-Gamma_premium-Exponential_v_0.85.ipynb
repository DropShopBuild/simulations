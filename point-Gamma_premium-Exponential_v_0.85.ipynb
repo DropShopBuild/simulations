{
 "cells": [
  {
   "cell_type": "code",
   "execution_count": 1,
   "id": "21ed25fa-b2d3-4327-a8c4-da5a6e5ae7bb",
   "metadata": {},
   "outputs": [],
   "source": [
    "import math\n",
    "\n",
    "import numpy as np\n",
    "from numpy.random import choice\n",
    "\n",
    "import pandas as pd\n",
    "\n",
    "from scipy.stats import gamma, expon\n",
    "import matplotlib.pyplot as plt\n",
    "\n",
    "%matplotlib inline"
   ]
  },
  {
   "cell_type": "markdown",
   "id": "3a500039-5198-4f9d-9bf3-fc09280be121",
   "metadata": {},
   "source": [
    "#### Gamma Distribution: a candidate for the Brand Points Distribution\n",
    "For more info on Exponential Distribution, check the wikipedia. https://en.wikipedia.org/wiki/Gamma_distribution"
   ]
  },
  {
   "cell_type": "code",
   "execution_count": 2,
   "id": "238b5498-bc23-47e4-8f93-777d3e450bd8",
   "metadata": {},
   "outputs": [
    {
     "name": "stdout",
     "output_type": "stream",
     "text": [
      "average value: 10.0,\n",
      "variance: 50.0\n"
     ]
    }
   ],
   "source": [
    "# Parameters of the Distribution\n",
    "shape=2\n",
    "scale = 5\n",
    "loc = 0\n",
    "\n",
    "mean, var, skew, kurt = gamma.stats(a=shape,scale=scale, moments='mvsk')\n",
    "print('average value: {},\\nvariance: {}'.format(mean, var))"
   ]
  },
  {
   "cell_type": "code",
   "execution_count": 3,
   "id": "d2d0b875-938b-4a23-9199-a84e93547f9a",
   "metadata": {},
   "outputs": [
    {
     "name": "stdout",
     "output_type": "stream",
     "text": [
      "Brand Points Distribution Graph\n"
     ]
    },
    {
     "data": {
      "image/png": "[encoded data removed]",
      "text/plain": [
       "<Figure size 432x288 with 1 Axes>"
      ]
     },
     "metadata": {
      "needs_background": "light"
     },
     "output_type": "display_data"
    },
    {
     "name": "stdout",
     "output_type": "stream",
     "text": [
      "Average Brand Points: 10.0\n"
     ]
    }
   ],
   "source": [
    "# The graph of the pdf of the Gamma Distribution\n",
    "fig, ax = plt.subplots(1, 1)\n",
    "x = np.linspace(gamma.ppf(0.01, a=shape, loc=loc, scale=scale),\n",
    "                gamma.ppf(0.99, a=shape, loc=loc, scale=scale), 100)\n",
    "ax.plot(x, gamma.pdf(x, a=shape, loc=loc, scale=scale),\n",
    "       'r-', lw=5, alpha=0.6, label='gamma pdf')\n",
    "print('Brand Points Distribution Graph')\n",
    "plt.xlabel('Brand Points')\n",
    "plt.ylabel('Probabilities')\n",
    "plt.show()\n",
    "print('Average Brand Points: {}'.format(mean))"
   ]
  },
  {
   "cell_type": "markdown",
   "id": "fbe571c8-9506-4956-b4b7-90a317c052d9",
   "metadata": {
    "tags": []
   },
   "source": [
    "#### Exponential Distribution: a candidate for the price premium rate\n",
    "For more info on Exponential Distribution, check the wikipedia.\n",
    "https://en.wikipedia.org/wiki/Exponential_distribution"
   ]
  },
  {
   "cell_type": "code",
   "execution_count": 4,
   "id": "cc6808d7-16c6-4c3e-9b8c-d50a8a1e528d",
   "metadata": {},
   "outputs": [
    {
     "name": "stdout",
     "output_type": "stream",
     "text": [
      "average value:  0.20,\n",
      "variance:  0.04\n"
     ]
    }
   ],
   "source": [
    "## Parameters of Exponential Distribution\n",
    "lmbd = 5             # lambda\n",
    "scale = 1/lmbd       # scale\n",
    "loc = 0              # location\n",
    "\n",
    "mean, var, skew, kurt = expon.stats(scale=scale, loc=loc, moments='mvsk')\n",
    "print('average value: {:5.2f},\\nvariance: {:5.2f}'.format(mean, var))"
   ]
  },
  {
   "cell_type": "code",
   "execution_count": 5,
   "id": "dce312fc-1f35-4f9e-adaf-e6c25753d7ff",
   "metadata": {},
   "outputs": [
    {
     "name": "stdout",
     "output_type": "stream",
     "text": [
      "Price Premium Rate Distribution Graph\n"
     ]
    },
    {
     "data": {
      "image/png": "[encoded data removed]",
      "text/plain": [
       "<Figure size 432x288 with 1 Axes>"
      ]
     },
     "metadata": {
      "needs_background": "light"
     },
     "output_type": "display_data"
    },
    {
     "name": "stdout",
     "output_type": "stream",
     "text": [
      "Average Premium Rate: 0.2\n"
     ]
    }
   ],
   "source": [
    "# The graph of the pdf of the Exponential Distribution\n",
    "fig, ax = plt.subplots(1, 1)\n",
    "x = np.linspace(expon.ppf(0.01, scale=scale, loc=loc),\n",
    "                expon.ppf(0.99, scale=scale, loc=loc), 100)\n",
    "ax.plot(x, expon.pdf(x, scale=scale, loc=loc),\n",
    "       'r-', lw=5, alpha=0.6, label='expon pdf')\n",
    "print('Price Premium Rate Distribution Graph')\n",
    "plt.xlabel('Price Premium Rate')\n",
    "plt.ylabel('Probabilities')\n",
    "plt.show()\n",
    "print('Average Premium Rate: {}'.format(mean))"
   ]
  },
  {
   "cell_type": "markdown",
   "id": "5776384b-25dc-4cfe-bf16-055fa3f6ccc8",
   "metadata": {},
   "source": [
    "## Mature Community\n",
    "- The community has matured enough that the Brand points are given by a **Gamma** distribution.\n",
    "- And the price premium rates are given by an **exponential** distribution, independent of the Brand points.\n",
    "\n",
    "| Input | Distribution |\n",
    "| :-: | :-: |\n",
    "| Brand Points | **Gamma Distribution** |\n",
    "| Price Premium Rates | **Exponential Distribution** |\n",
    "\n",
    "The following are the experiments on a variety of ways that \"Brand points\" influence the likelihood.\n",
    "\n",
    "#### Case Study: quadratic Brand Points\n",
    "$$\n",
    "\\mathrm{Likelihood Value} = \\mathrm{Brand Points}^2 \\times \\sqrt{\\mathrm{Price Premium Rate}}\n",
    "$$\n",
    "There are 5000 tickets in the raffle and only 100 tickets will be selected with likelihoods determined by the above formula."
   ]
  },
  {
   "cell_type": "code",
   "execution_count": 9,
   "id": "eb0a315c-afee-44da-9b32-7e54c0741dd2",
   "metadata": {},
   "outputs": [],
   "source": [
    "no_tickets = 5000\n",
    "no_selections = 100"
   ]
  },
  {
   "cell_type": "markdown",
   "id": "a5ffa11e-cac0-4209-9513-62ade41afa67",
   "metadata": {
    "tags": []
   },
   "source": [
    "#### Generating the scenery\n",
    "\n",
    "The Brand points of 5000 Ticket holders are generated randomly by Gamma Distribution with shape 1 and scale 2.\n",
    "\n",
    "And the price premium rates are generated randomly, independent of Brand points, by Exponential Distribution with pameter lambda 5.\n",
    "\n",
    "| Input | Distribution | Parameters |\n",
    "| :-: | :-: | :-: |\n",
    "| Brand Points | Gamma Distribution | shape = 1; scale = 2  |\n",
    "| Price Premium Rates | Exponential Distribution | lambda = 5 |"
   ]
  },
  {
   "cell_type": "code",
   "execution_count": 10,
   "id": "d730bad1-2a57-4cad-8dfb-6c33ea759b00",
   "metadata": {},
   "outputs": [],
   "source": [
    "# Parameter for Brand Points Distribution, Gamma Distribution\n",
    "shape_points = 1\n",
    "scale_points = 2\n",
    "loc_points = 0 # \n",
    "\n",
    "# Parameter for Price Premium Rate Distribution, Exponential Distribution\n",
    "lambda_premium = 1\n",
    "scale_premium = 1/lambda_premium\n",
    "loc_premium = 1"
   ]
  },
  {
   "cell_type": "code",
   "execution_count": 11,
   "id": "1b2acb21-1adb-4575-b439-500892e291cc",
   "metadata": {},
   "outputs": [],
   "source": [
    "# Generate the Points for 5000 ticket holders\n",
    "Points = gamma.rvs(a=shape_points,loc=loc_points,scale=scale_points,size=no_tickets)\n",
    "\n",
    "# Generating the price premium rate for 5000 ticket holders. independently of \"points\".\n",
    "Price_Premium_Rates = 0.2*expon.rvs(loc=loc_premium, scale=scale_premium, size=no_tickets)\n",
    "\n",
    "# Likelihood_Values = Points * Price_Premium_Rates\n",
    "Likelihood_Values = Points**2 * np.sqrt(Price_Premium_Rates) # First calculate each tickets own value\n",
    "Likelihood_Values = Likelihood_Values / Likelihood_Values.sum() # Second calibrate likelihood values to have the sum of all to be 1.\n",
    "\n",
    "# Put all the values into a data frame with 'color' column being 'b'.\n",
    "df = pd.DataFrame(data={'point':Points,'premium_rate':Price_Premium_Rates,'likelihood':Likelihood_Values,'result':'not chosen'})"
   ]
  },
  {
   "cell_type": "code",
   "execution_count": 12,
   "id": "3796fc00-2390-47b1-8881-0ef39b3d9853",
   "metadata": {},
   "outputs": [
    {
     "data": {
      "text/html": [
       "<div>\n",
       "<style scoped>\n",
       "    .dataframe tbody tr th:only-of-type {\n",
       "        vertical-align: middle;\n",
       "    }\n",
       "\n",
       "    .dataframe tbody tr th {\n",
       "        vertical-align: top;\n",
       "    }\n",
       "\n",
       "    .dataframe thead th {\n",
       "        text-align: right;\n",
       "    }\n",
       "</style>\n",
       "<table border=\"1\" class=\"dataframe\">\n",
       "  <thead>\n",
       "    <tr style=\"text-align: right;\">\n",
       "      <th></th>\n",
       "      <th>mean</th>\n",
       "      <th>max</th>\n",
       "      <th>min</th>\n",
       "    </tr>\n",
       "  </thead>\n",
       "  <tbody>\n",
       "    <tr>\n",
       "      <th>point</th>\n",
       "      <td>2.011118</td>\n",
       "      <td>17.865368</td>\n",
       "      <td>3.423313e-04</td>\n",
       "    </tr>\n",
       "    <tr>\n",
       "      <th>premium_rate</th>\n",
       "      <td>0.401991</td>\n",
       "      <td>2.165127</td>\n",
       "      <td>2.000164e-01</td>\n",
       "    </tr>\n",
       "    <tr>\n",
       "      <th>likelihood</th>\n",
       "      <td>0.000200</td>\n",
       "      <td>0.007373</td>\n",
       "      <td>2.604895e-12</td>\n",
       "    </tr>\n",
       "  </tbody>\n",
       "</table>\n",
       "</div>"
      ],
      "text/plain": [
       "                  mean        max           min\n",
       "point         2.011118  17.865368  3.423313e-04\n",
       "premium_rate  0.401991   2.165127  2.000164e-01\n",
       "likelihood    0.000200   0.007373  2.604895e-12"
      ]
     },
     "execution_count": 12,
     "metadata": {},
     "output_type": "execute_result"
    }
   ],
   "source": [
    "df_summary = pd.DataFrame()\n",
    "df_summary.loc[:,'mean'] = df[['point','premium_rate','likelihood']].mean()\n",
    "df_summary.loc[:,'max'] = df[['point','premium_rate','likelihood']].max()\n",
    "df_summary.loc[:,'min'] = df[['point','premium_rate','likelihood']].min()\n",
    "df_summary"
   ]
  },
  {
   "cell_type": "markdown",
   "id": "5aa9490c-45b5-4252-9013-c5ffc5914e79",
   "metadata": {},
   "source": [
    "##### Selection of 100 tickets out of 5000"
   ]
  },
  {
   "cell_type": "code",
   "execution_count": 13,
   "id": "98ae1044-122e-4a34-a2bc-c8db6622c040",
   "metadata": {},
   "outputs": [],
   "source": [
    "# Choose 100 tickets out of 1000 with the likelihood given by Likelihood_Values\n",
    "draw = np.random.choice([n for n in range(no_tickets)], no_selections, replace=False, p=Likelihood_Values)\n",
    "\n",
    "# Change the colors of the chosen tickets to red 'r'\n",
    "for idx in draw:\n",
    "    df.loc[idx,'result'] = 'chosen'"
   ]
  },
  {
   "cell_type": "markdown",
   "id": "dda7bd78-6088-4602-b268-221246153a81",
   "metadata": {},
   "source": [
    "#### Scatter Plots of brand points and price premium rate"
   ]
  },
  {
   "cell_type": "code",
   "execution_count": 14,
   "id": "7a3ff815-80bf-4bc8-a6ab-972aa8b759eb",
   "metadata": {},
   "outputs": [
    {
     "data": {
      "image/png": "[encoded data removed]",
      "text/plain": [
       "<Figure size 864x432 with 1 Axes>"
      ]
     },
     "metadata": {
      "needs_background": "light"
     },
     "output_type": "display_data"
    }
   ],
   "source": [
    "fig, ax = plt.subplots(figsize=(12,6))\n",
    "for result in ['not chosen','chosen']:\n",
    "    color = 'b' if result=='not chosen' else 'r'\n",
    "    scatter = ax.scatter(df[df['result']==result]['point'], df[df['result']==result]['premium_rate'], c=color, s=5000*df[df['result']==result]['likelihood'], label=result, alpha=0.7,cmap='viridis')\n",
    "ax.set_title('Chosen tickets vs Not-chosen tickets')\n",
    "ax.set_xlabel('Brand Point')\n",
    "ax.set_ylabel('Price Premium Rate')\n",
    "ax.legend()\n",
    "plt.show()"
   ]
  },
  {
   "cell_type": "markdown",
   "id": "5d91a514-2105-4e51-b87e-12f720f424ed",
   "metadata": {},
   "source": [
    "#### Points, Premium Rate and Likelihood for chosens and not-chosens"
   ]
  },
  {
   "cell_type": "code",
   "execution_count": 15,
   "id": "ca9f661c-c2bf-4b29-a0bd-84daa752b544",
   "metadata": {},
   "outputs": [
    {
     "data": {
      "text/html": [
       "<div>\n",
       "<style scoped>\n",
       "    .dataframe tbody tr th:only-of-type {\n",
       "        vertical-align: middle;\n",
       "    }\n",
       "\n",
       "    .dataframe tbody tr th {\n",
       "        vertical-align: top;\n",
       "    }\n",
       "\n",
       "    .dataframe thead tr th {\n",
       "        text-align: left;\n",
       "    }\n",
       "\n",
       "    .dataframe thead tr:last-of-type th {\n",
       "        text-align: right;\n",
       "    }\n",
       "</style>\n",
       "<table border=\"1\" class=\"dataframe\">\n",
       "  <thead>\n",
       "    <tr>\n",
       "      <th></th>\n",
       "      <th colspan=\"3\" halign=\"left\">point</th>\n",
       "      <th colspan=\"3\" halign=\"left\">premium_rate</th>\n",
       "    </tr>\n",
       "    <tr>\n",
       "      <th></th>\n",
       "      <th>mean</th>\n",
       "      <th>max</th>\n",
       "      <th>min</th>\n",
       "      <th>mean</th>\n",
       "      <th>max</th>\n",
       "      <th>min</th>\n",
       "    </tr>\n",
       "    <tr>\n",
       "      <th>result</th>\n",
       "      <th></th>\n",
       "      <th></th>\n",
       "      <th></th>\n",
       "      <th></th>\n",
       "      <th></th>\n",
       "      <th></th>\n",
       "    </tr>\n",
       "  </thead>\n",
       "  <tbody>\n",
       "    <tr>\n",
       "      <th>chosen</th>\n",
       "      <td>5.463957</td>\n",
       "      <td>17.865368</td>\n",
       "      <td>0.647302</td>\n",
       "      <td>0.483922</td>\n",
       "      <td>1.472302</td>\n",
       "      <td>0.217247</td>\n",
       "    </tr>\n",
       "    <tr>\n",
       "      <th>not chosen</th>\n",
       "      <td>1.940652</td>\n",
       "      <td>15.048059</td>\n",
       "      <td>0.000342</td>\n",
       "      <td>0.400318</td>\n",
       "      <td>2.165127</td>\n",
       "      <td>0.200016</td>\n",
       "    </tr>\n",
       "  </tbody>\n",
       "</table>\n",
       "</div>"
      ],
      "text/plain": [
       "               point                      premium_rate                    \n",
       "                mean        max       min         mean       max       min\n",
       "result                                                                    \n",
       "chosen      5.463957  17.865368  0.647302     0.483922  1.472302  0.217247\n",
       "not chosen  1.940652  15.048059  0.000342     0.400318  2.165127  0.200016"
      ]
     },
     "execution_count": 15,
     "metadata": {},
     "output_type": "execute_result"
    }
   ],
   "source": [
    "df.groupby('result').agg({'point':['mean','max','min'],'premium_rate':['mean','max','min']})"
   ]
  },
  {
   "cell_type": "markdown",
   "id": "1c048d72-79ef-442b-a50c-2413b19c93d9",
   "metadata": {},
   "source": [
    "##### Point Distribution of 'chosen'"
   ]
  },
  {
   "cell_type": "code",
   "execution_count": 16,
   "id": "f583acb0-961e-4e55-ac30-0398d10ee3d0",
   "metadata": {},
   "outputs": [
    {
     "data": {
      "image/png": "[encoded data removed]",
      "text/plain": [
       "<Figure size 432x288 with 1 Axes>"
      ]
     },
     "metadata": {
      "needs_background": "light"
     },
     "output_type": "display_data"
    }
   ],
   "source": [
    "df[df['result']=='chosen']['point'].plot.hist(bins=50)\n",
    "plt.title('Brand Points of \"Chosen\"s')\n",
    "plt.show()"
   ]
  },
  {
   "cell_type": "code",
   "execution_count": 17,
   "id": "999b778f-c110-479f-b48f-b2f87a837255",
   "metadata": {},
   "outputs": [
    {
     "data": {
      "image/png": "[encoded data removed]",
      "text/plain": [
       "<Figure size 432x288 with 1 Axes>"
      ]
     },
     "metadata": {
      "needs_background": "light"
     },
     "output_type": "display_data"
    }
   ],
   "source": [
    "df[df['result']=='chosen']['premium_rate'].plot.hist(bins=50)\n",
    "plt.title('Price Premium Rates of \"Chosen\"s')\n",
    "plt.show()"
   ]
  },
  {
   "cell_type": "markdown",
   "id": "ce7d1585-6d30-4016-a9b5-3b73d5b44eda",
   "metadata": {},
   "source": [
    "#### Results Analysis"
   ]
  },
  {
   "cell_type": "code",
   "execution_count": 18,
   "id": "46b9ae51-2823-47ee-85a8-3668ab7c9263",
   "metadata": {},
   "outputs": [],
   "source": [
    "df_result_summary = pd.concat([pd.cut(df['point'],bins=[n for n in range(1+math.ceil(df['point'].max()))]).value_counts(),\n",
    "                        pd.cut(df[df['result']=='not chosen']['point'],bins=[n for n in range(1+math.ceil(df['point'].max()))]).value_counts(),\n",
    "                        pd.cut(df[df['result']=='chosen']['point'],bins=[n for n in range(1+math.ceil(df['point'].max()))]).value_counts()],\n",
    "                       axis=1)\n",
    "df_result_summary.columns = ['total','not chosen','chosen']\n",
    "df_result_summary['winning_rates'] = df_result_summary['chosen'] / df_result_summary['total']\n",
    "df_result_summary['winning_rates'] = df_result_summary['winning_rates'].fillna(0)"
   ]
  },
  {
   "cell_type": "code",
   "execution_count": 19,
   "id": "c3200e74-c05e-461a-969d-7803a5be9c87",
   "metadata": {},
   "outputs": [
    {
     "data": {
      "image/png": "[encoded data removed]",
      "text/plain": [
       "<Figure size 432x288 with 1 Axes>"
      ]
     },
     "metadata": {
      "needs_background": "light"
     },
     "output_type": "display_data"
    }
   ],
   "source": [
    "df_result_summary['winning_rates'].plot.bar()\n",
    "plt.xlabel('Brand Point Intervals')\n",
    "plt.ylabel('Winning Rate')\n",
    "plt.title('Winning Rates of Brand Point Interval (n,n+1]')\n",
    "plt.show()"
   ]
  },
  {
   "cell_type": "code",
   "execution_count": 20,
   "id": "e9527ff2-6f98-4bd3-be2e-98ee8b7a5ab6",
   "metadata": {},
   "outputs": [
    {
     "data": {
      "text/html": [
       "<div>\n",
       "<style scoped>\n",
       "    .dataframe tbody tr th:only-of-type {\n",
       "        vertical-align: middle;\n",
       "    }\n",
       "\n",
       "    .dataframe tbody tr th {\n",
       "        vertical-align: top;\n",
       "    }\n",
       "\n",
       "    .dataframe thead th {\n",
       "        text-align: right;\n",
       "    }\n",
       "</style>\n",
       "<table border=\"1\" class=\"dataframe\">\n",
       "  <thead>\n",
       "    <tr style=\"text-align: right;\">\n",
       "      <th></th>\n",
       "      <th>total</th>\n",
       "      <th>not chosen</th>\n",
       "      <th>chosen</th>\n",
       "      <th>winning_rates</th>\n",
       "    </tr>\n",
       "  </thead>\n",
       "  <tbody>\n",
       "    <tr>\n",
       "      <th>(0, 1]</th>\n",
       "      <td>1984</td>\n",
       "      <td>1982</td>\n",
       "      <td>2</td>\n",
       "      <td>0.001008</td>\n",
       "    </tr>\n",
       "    <tr>\n",
       "      <th>(1, 2]</th>\n",
       "      <td>1167</td>\n",
       "      <td>1156</td>\n",
       "      <td>11</td>\n",
       "      <td>0.009426</td>\n",
       "    </tr>\n",
       "    <tr>\n",
       "      <th>(2, 3]</th>\n",
       "      <td>742</td>\n",
       "      <td>727</td>\n",
       "      <td>15</td>\n",
       "      <td>0.020216</td>\n",
       "    </tr>\n",
       "    <tr>\n",
       "      <th>(3, 4]</th>\n",
       "      <td>459</td>\n",
       "      <td>447</td>\n",
       "      <td>12</td>\n",
       "      <td>0.026144</td>\n",
       "    </tr>\n",
       "    <tr>\n",
       "      <th>(4, 5]</th>\n",
       "      <td>231</td>\n",
       "      <td>224</td>\n",
       "      <td>7</td>\n",
       "      <td>0.030303</td>\n",
       "    </tr>\n",
       "  </tbody>\n",
       "</table>\n",
       "</div>"
      ],
      "text/plain": [
       "        total  not chosen  chosen  winning_rates\n",
       "(0, 1]   1984        1982       2       0.001008\n",
       "(1, 2]   1167        1156      11       0.009426\n",
       "(2, 3]    742         727      15       0.020216\n",
       "(3, 4]    459         447      12       0.026144\n",
       "(4, 5]    231         224       7       0.030303"
      ]
     },
     "execution_count": 20,
     "metadata": {},
     "output_type": "execute_result"
    }
   ],
   "source": [
    "df_result_summary.head()"
   ]
  },
  {
   "cell_type": "code",
   "execution_count": null,
   "id": "75d178f0-7968-45fb-9329-41f2c642a893",
   "metadata": {},
   "outputs": [],
   "source": []
  },
  {
   "cell_type": "markdown",
   "id": "7f97bdc8-a0dd-447f-bc39-dbfb8c53c0ac",
   "metadata": {
    "tags": []
   },
   "source": [
    "#### Practical Cases: cubic\n",
    "$$\n",
    "\\mathrm{Likelihood Value} = \\mathrm{Brand Points}^3 \\times \\sqrt{\\mathrm{Price Premium Rate}}\n",
    "$$\n",
    "There are 5000 tickets in the raffle and only 100 tickets will be selected with likelihoods determined by the above formula."
   ]
  },
  {
   "cell_type": "code",
   "execution_count": 21,
   "id": "278e4038-5f5f-479a-8ab7-40cc5d6d844a",
   "metadata": {},
   "outputs": [],
   "source": [
    "no_tickets = 5000\n",
    "no_selections = 100"
   ]
  },
  {
   "cell_type": "markdown",
   "id": "4718aa6f-dfd8-4ed4-b818-aa673f0ad835",
   "metadata": {
    "tags": []
   },
   "source": [
    "#### Generating the scenery\n",
    "\n",
    "The Brand points of 5000 Ticket holders are generated randomly by Gamma Distribution with shape 1 and scale 2.\n",
    "\n",
    "And the price premium rates are generated randomly, independent of Brand points, by Exponential Distribution with pameter lambda 5.\n",
    "\n",
    "|  | Distribution | Parameters |\n",
    "| :-: | :-: | :-: |\n",
    "| Brand Points | Gamma Distribution | shape = 1; scale = 2  |\n",
    "| Price Premium Rates | Exponential Distribution | lambda = 5 |"
   ]
  },
  {
   "cell_type": "code",
   "execution_count": 22,
   "id": "72bfa9fb-69e6-46dc-8777-1db3b0eb0e9c",
   "metadata": {},
   "outputs": [],
   "source": [
    "# Parameter for Brand Points Distribution, Gamma Distribution\n",
    "shape_points = 1\n",
    "scale_points = 2\n",
    "loc_points = 0 # \n",
    "\n",
    "# Parameter for Price Premium Rate Distribution, Exponential Distribution\n",
    "lambda_premium = 1\n",
    "scale_premium = 1/lambda_premium\n",
    "loc_premium = 1"
   ]
  },
  {
   "cell_type": "code",
   "execution_count": 23,
   "id": "c5f71f35-533e-4b56-918d-5ad2a0eff6dc",
   "metadata": {},
   "outputs": [],
   "source": [
    "# Generate the Points for 5000 ticket holders\n",
    "Points = gamma.rvs(a=shape_points,loc=loc_points,scale=scale_points,size=no_tickets)\n",
    "\n",
    "# Generating the price premium rate for 5000 ticket holders. independently of \"points\".\n",
    "Price_Premium_Rates = 0.2*expon.rvs(loc=loc_premium, scale=scale_premium, size=no_tickets)\n",
    "\n",
    "# Likelihood_Values = Points * Price_Premium_Rates\n",
    "Likelihood_Values = Points**3 * np.sqrt(Price_Premium_Rates) # First calculate each tickets own value\n",
    "Likelihood_Values = Likelihood_Values / Likelihood_Values.sum() # Second calibrate likelihood values to have the sum of all to be 1.\n",
    "\n",
    "# Put all the values into a data frame with 'color' column being 'b'.\n",
    "df = pd.DataFrame(data={'point':Points,'premium_rate':Price_Premium_Rates,'likelihood':Likelihood_Values,'result':'not chosen'})"
   ]
  },
  {
   "cell_type": "code",
   "execution_count": 24,
   "id": "caa65aa3-d843-4609-9631-deb0d24524d3",
   "metadata": {},
   "outputs": [
    {
     "data": {
      "text/html": [
       "<div>\n",
       "<style scoped>\n",
       "    .dataframe tbody tr th:only-of-type {\n",
       "        vertical-align: middle;\n",
       "    }\n",
       "\n",
       "    .dataframe tbody tr th {\n",
       "        vertical-align: top;\n",
       "    }\n",
       "\n",
       "    .dataframe thead th {\n",
       "        text-align: right;\n",
       "    }\n",
       "</style>\n",
       "<table border=\"1\" class=\"dataframe\">\n",
       "  <thead>\n",
       "    <tr style=\"text-align: right;\">\n",
       "      <th></th>\n",
       "      <th>mean</th>\n",
       "      <th>max</th>\n",
       "      <th>min</th>\n",
       "    </tr>\n",
       "  </thead>\n",
       "  <tbody>\n",
       "    <tr>\n",
       "      <th>point</th>\n",
       "      <td>2.005947</td>\n",
       "      <td>17.091229</td>\n",
       "      <td>2.775048e-04</td>\n",
       "    </tr>\n",
       "    <tr>\n",
       "      <th>premium_rate</th>\n",
       "      <td>0.401088</td>\n",
       "      <td>2.227452</td>\n",
       "      <td>2.000137e-01</td>\n",
       "    </tr>\n",
       "    <tr>\n",
       "      <th>likelihood</th>\n",
       "      <td>0.000200</td>\n",
       "      <td>0.022923</td>\n",
       "      <td>9.649801e-17</td>\n",
       "    </tr>\n",
       "  </tbody>\n",
       "</table>\n",
       "</div>"
      ],
      "text/plain": [
       "                  mean        max           min\n",
       "point         2.005947  17.091229  2.775048e-04\n",
       "premium_rate  0.401088   2.227452  2.000137e-01\n",
       "likelihood    0.000200   0.022923  9.649801e-17"
      ]
     },
     "execution_count": 24,
     "metadata": {},
     "output_type": "execute_result"
    }
   ],
   "source": [
    "df_summary = pd.DataFrame()\n",
    "df_summary.loc[:,'mean'] = df[['point','premium_rate','likelihood']].mean()\n",
    "df_summary.loc[:,'max'] = df[['point','premium_rate','likelihood']].max()\n",
    "df_summary.loc[:,'min'] = df[['point','premium_rate','likelihood']].min()\n",
    "df_summary"
   ]
  },
  {
   "cell_type": "markdown",
   "id": "07b14dd8-87e6-492d-8799-23855bfd2a8d",
   "metadata": {},
   "source": [
    "##### Selection of 100 tickets out of 5000"
   ]
  },
  {
   "cell_type": "code",
   "execution_count": 25,
   "id": "938b52e6-ce62-4abe-8b65-f9c456f43350",
   "metadata": {},
   "outputs": [],
   "source": [
    "# Choose 100 tickets out of 1000 with the likelihood given by Likelihood_Values\n",
    "draw = np.random.choice([n for n in range(no_tickets)], no_selections, replace=False, p=Likelihood_Values)\n",
    "\n",
    "# Change the colors of the chosen tickets to red 'r'\n",
    "for idx in draw:\n",
    "    df.loc[idx,'result'] = 'chosen'"
   ]
  },
  {
   "cell_type": "markdown",
   "id": "b349af6a-a964-4b70-b134-65e865cb9001",
   "metadata": {},
   "source": [
    "#### Scatter Plots of brand points and price premium rate"
   ]
  },
  {
   "cell_type": "code",
   "execution_count": 26,
   "id": "ce2ad2a4-0dec-4661-8ec5-54f74e6e376e",
   "metadata": {},
   "outputs": [
    {
     "data": {
      "image/png": "[encoded data removed]",
      "text/plain": [
       "<Figure size 864x432 with 1 Axes>"
      ]
     },
     "metadata": {
      "needs_background": "light"
     },
     "output_type": "display_data"
    }
   ],
   "source": [
    "fig, ax = plt.subplots(figsize=(12,6))\n",
    "for result in ['not chosen','chosen']:\n",
    "    color = 'b' if result=='not chosen' else 'r'\n",
    "    scatter = ax.scatter(df[df['result']==result]['point'], df[df['result']==result]['premium_rate'], c=color, s=5000*df[df['result']==result]['likelihood'], label=result, alpha=0.7,cmap='viridis')\n",
    "ax.set_title('Chosen tickets vs Not-chosen tickets')\n",
    "ax.set_xlabel('Brand Point')\n",
    "ax.set_ylabel('Price Premium Rate')\n",
    "ax.legend()\n",
    "plt.show()"
   ]
  },
  {
   "cell_type": "markdown",
   "id": "199381a9-33c8-4f31-a8d5-a55f2a3b4840",
   "metadata": {},
   "source": [
    "#### Points, Premium Rate and Likelihood for chosens and not-chosens"
   ]
  },
  {
   "cell_type": "code",
   "execution_count": 27,
   "id": "5fd16b8f-d72f-4842-9cf1-f7b2d1c88296",
   "metadata": {},
   "outputs": [
    {
     "data": {
      "text/html": [
       "<div>\n",
       "<style scoped>\n",
       "    .dataframe tbody tr th:only-of-type {\n",
       "        vertical-align: middle;\n",
       "    }\n",
       "\n",
       "    .dataframe tbody tr th {\n",
       "        vertical-align: top;\n",
       "    }\n",
       "\n",
       "    .dataframe thead tr th {\n",
       "        text-align: left;\n",
       "    }\n",
       "\n",
       "    .dataframe thead tr:last-of-type th {\n",
       "        text-align: right;\n",
       "    }\n",
       "</style>\n",
       "<table border=\"1\" class=\"dataframe\">\n",
       "  <thead>\n",
       "    <tr>\n",
       "      <th></th>\n",
       "      <th colspan=\"3\" halign=\"left\">point</th>\n",
       "      <th colspan=\"3\" halign=\"left\">premium_rate</th>\n",
       "    </tr>\n",
       "    <tr>\n",
       "      <th></th>\n",
       "      <th>mean</th>\n",
       "      <th>max</th>\n",
       "      <th>min</th>\n",
       "      <th>mean</th>\n",
       "      <th>max</th>\n",
       "      <th>min</th>\n",
       "    </tr>\n",
       "    <tr>\n",
       "      <th>result</th>\n",
       "      <th></th>\n",
       "      <th></th>\n",
       "      <th></th>\n",
       "      <th></th>\n",
       "      <th></th>\n",
       "      <th></th>\n",
       "    </tr>\n",
       "  </thead>\n",
       "  <tbody>\n",
       "    <tr>\n",
       "      <th>chosen</th>\n",
       "      <td>6.681500</td>\n",
       "      <td>17.091229</td>\n",
       "      <td>1.042803</td>\n",
       "      <td>0.419674</td>\n",
       "      <td>1.100344</td>\n",
       "      <td>0.205580</td>\n",
       "    </tr>\n",
       "    <tr>\n",
       "      <th>not chosen</th>\n",
       "      <td>1.910528</td>\n",
       "      <td>12.786865</td>\n",
       "      <td>0.000278</td>\n",
       "      <td>0.400708</td>\n",
       "      <td>2.227452</td>\n",
       "      <td>0.200014</td>\n",
       "    </tr>\n",
       "  </tbody>\n",
       "</table>\n",
       "</div>"
      ],
      "text/plain": [
       "               point                      premium_rate                    \n",
       "                mean        max       min         mean       max       min\n",
       "result                                                                    \n",
       "chosen      6.681500  17.091229  1.042803     0.419674  1.100344  0.205580\n",
       "not chosen  1.910528  12.786865  0.000278     0.400708  2.227452  0.200014"
      ]
     },
     "execution_count": 27,
     "metadata": {},
     "output_type": "execute_result"
    }
   ],
   "source": [
    "df.groupby('result').agg({'point':['mean','max','min'],'premium_rate':['mean','max','min']})"
   ]
  },
  {
   "cell_type": "markdown",
   "id": "19774f03-6826-47dc-a33e-54b78cede876",
   "metadata": {},
   "source": [
    "##### Point Distribution of 'chosen'"
   ]
  },
  {
   "cell_type": "code",
   "execution_count": 28,
   "id": "272f1449-e040-479c-8833-ce4f48c14865",
   "metadata": {},
   "outputs": [
    {
     "data": {
      "image/png": "[encoded data removed]",
      "text/plain": [
       "<Figure size 432x288 with 1 Axes>"
      ]
     },
     "metadata": {
      "needs_background": "light"
     },
     "output_type": "display_data"
    }
   ],
   "source": [
    "df[df['result']=='chosen']['point'].plot.hist(bins=50)\n",
    "plt.title('Brand Points of \"Chosen\"s')\n",
    "plt.show()"
   ]
  },
  {
   "cell_type": "code",
   "execution_count": 29,
   "id": "85f9b2a2-90aa-47cd-87dc-6bb217c15b3c",
   "metadata": {},
   "outputs": [
    {
     "data": {
      "image/png": "[encoded data removed]",
      "text/plain": [
       "<Figure size 432x288 with 1 Axes>"
      ]
     },
     "metadata": {
      "needs_background": "light"
     },
     "output_type": "display_data"
    }
   ],
   "source": [
    "df[df['result']=='chosen']['premium_rate'].plot.hist(bins=50)\n",
    "plt.title('Price Premium Rates of \"Chosen\"s')\n",
    "plt.show()"
   ]
  },
  {
   "cell_type": "markdown",
   "id": "90977d51-5f4e-4799-8888-18258e6e0490",
   "metadata": {},
   "source": [
    "#### Results Analysis"
   ]
  },
  {
   "cell_type": "code",
   "execution_count": 30,
   "id": "538f38da-24b2-4b2b-8869-3a0c91b43b0e",
   "metadata": {},
   "outputs": [],
   "source": [
    "df_result_summary = pd.concat([pd.cut(df['point'],bins=[n for n in range(1+math.ceil(df['point'].max()))]).value_counts(),\n",
    "                        pd.cut(df[df['result']=='not chosen']['point'],bins=[n for n in range(1+math.ceil(df['point'].max()))]).value_counts(),\n",
    "                        pd.cut(df[df['result']=='chosen']['point'],bins=[n for n in range(1+math.ceil(df['point'].max()))]).value_counts()],\n",
    "                       axis=1)\n",
    "df_result_summary.columns = ['total','not chosen','chosen']\n",
    "df_result_summary['winning_rates'] = df_result_summary['chosen'] / df_result_summary['total']\n",
    "df_result_summary['winning_rates'] = df_result_summary['winning_rates'].fillna(0)"
   ]
  },
  {
   "cell_type": "code",
   "execution_count": 31,
   "id": "50efdffc-180e-4efb-a96d-68bf94758a45",
   "metadata": {},
   "outputs": [
    {
     "data": {
      "image/png": "[encoded data removed]",
      "text/plain": [
       "<Figure size 432x288 with 1 Axes>"
      ]
     },
     "metadata": {
      "needs_background": "light"
     },
     "output_type": "display_data"
    }
   ],
   "source": [
    "df_result_summary['winning_rates'].plot.bar()\n",
    "plt.xlabel('Brand Point Intervals')\n",
    "plt.ylabel('Winning Rate')\n",
    "plt.title('Winning Rates of Brand Point Interval (n,n+1]')\n",
    "plt.show()"
   ]
  },
  {
   "cell_type": "code",
   "execution_count": 32,
   "id": "4eb6096d-52b1-486b-9a7e-323191bd62be",
   "metadata": {},
   "outputs": [
    {
     "data": {
      "text/html": [
       "<div>\n",
       "<style scoped>\n",
       "    .dataframe tbody tr th:only-of-type {\n",
       "        vertical-align: middle;\n",
       "    }\n",
       "\n",
       "    .dataframe tbody tr th {\n",
       "        vertical-align: top;\n",
       "    }\n",
       "\n",
       "    .dataframe thead th {\n",
       "        text-align: right;\n",
       "    }\n",
       "</style>\n",
       "<table border=\"1\" class=\"dataframe\">\n",
       "  <thead>\n",
       "    <tr style=\"text-align: right;\">\n",
       "      <th></th>\n",
       "      <th>total</th>\n",
       "      <th>not chosen</th>\n",
       "      <th>chosen</th>\n",
       "      <th>winning_rates</th>\n",
       "    </tr>\n",
       "  </thead>\n",
       "  <tbody>\n",
       "    <tr>\n",
       "      <th>(0, 1]</th>\n",
       "      <td>1972</td>\n",
       "      <td>1972</td>\n",
       "      <td>0</td>\n",
       "      <td>0.000000</td>\n",
       "    </tr>\n",
       "    <tr>\n",
       "      <th>(1, 2]</th>\n",
       "      <td>1175</td>\n",
       "      <td>1174</td>\n",
       "      <td>1</td>\n",
       "      <td>0.000851</td>\n",
       "    </tr>\n",
       "    <tr>\n",
       "      <th>(2, 3]</th>\n",
       "      <td>714</td>\n",
       "      <td>706</td>\n",
       "      <td>8</td>\n",
       "      <td>0.011204</td>\n",
       "    </tr>\n",
       "    <tr>\n",
       "      <th>(3, 4]</th>\n",
       "      <td>450</td>\n",
       "      <td>443</td>\n",
       "      <td>7</td>\n",
       "      <td>0.015556</td>\n",
       "    </tr>\n",
       "    <tr>\n",
       "      <th>(4, 5]</th>\n",
       "      <td>252</td>\n",
       "      <td>236</td>\n",
       "      <td>16</td>\n",
       "      <td>0.063492</td>\n",
       "    </tr>\n",
       "    <tr>\n",
       "      <th>(5, 6]</th>\n",
       "      <td>205</td>\n",
       "      <td>188</td>\n",
       "      <td>17</td>\n",
       "      <td>0.082927</td>\n",
       "    </tr>\n",
       "    <tr>\n",
       "      <th>(6, 7]</th>\n",
       "      <td>89</td>\n",
       "      <td>73</td>\n",
       "      <td>16</td>\n",
       "      <td>0.179775</td>\n",
       "    </tr>\n",
       "    <tr>\n",
       "      <th>(7, 8]</th>\n",
       "      <td>50</td>\n",
       "      <td>44</td>\n",
       "      <td>6</td>\n",
       "      <td>0.120000</td>\n",
       "    </tr>\n",
       "    <tr>\n",
       "      <th>(8, 9]</th>\n",
       "      <td>40</td>\n",
       "      <td>28</td>\n",
       "      <td>12</td>\n",
       "      <td>0.300000</td>\n",
       "    </tr>\n",
       "    <tr>\n",
       "      <th>(9, 10]</th>\n",
       "      <td>23</td>\n",
       "      <td>19</td>\n",
       "      <td>4</td>\n",
       "      <td>0.173913</td>\n",
       "    </tr>\n",
       "    <tr>\n",
       "      <th>(10, 11]</th>\n",
       "      <td>14</td>\n",
       "      <td>10</td>\n",
       "      <td>4</td>\n",
       "      <td>0.285714</td>\n",
       "    </tr>\n",
       "    <tr>\n",
       "      <th>(11, 12]</th>\n",
       "      <td>6</td>\n",
       "      <td>5</td>\n",
       "      <td>1</td>\n",
       "      <td>0.166667</td>\n",
       "    </tr>\n",
       "    <tr>\n",
       "      <th>(12, 13]</th>\n",
       "      <td>4</td>\n",
       "      <td>2</td>\n",
       "      <td>2</td>\n",
       "      <td>0.500000</td>\n",
       "    </tr>\n",
       "    <tr>\n",
       "      <th>(13, 14]</th>\n",
       "      <td>2</td>\n",
       "      <td>0</td>\n",
       "      <td>2</td>\n",
       "      <td>1.000000</td>\n",
       "    </tr>\n",
       "    <tr>\n",
       "      <th>(14, 15]</th>\n",
       "      <td>2</td>\n",
       "      <td>0</td>\n",
       "      <td>2</td>\n",
       "      <td>1.000000</td>\n",
       "    </tr>\n",
       "    <tr>\n",
       "      <th>(15, 16]</th>\n",
       "      <td>0</td>\n",
       "      <td>0</td>\n",
       "      <td>0</td>\n",
       "      <td>0.000000</td>\n",
       "    </tr>\n",
       "    <tr>\n",
       "      <th>(16, 17]</th>\n",
       "      <td>1</td>\n",
       "      <td>0</td>\n",
       "      <td>1</td>\n",
       "      <td>1.000000</td>\n",
       "    </tr>\n",
       "    <tr>\n",
       "      <th>(17, 18]</th>\n",
       "      <td>1</td>\n",
       "      <td>0</td>\n",
       "      <td>1</td>\n",
       "      <td>1.000000</td>\n",
       "    </tr>\n",
       "  </tbody>\n",
       "</table>\n",
       "</div>"
      ],
      "text/plain": [
       "          total  not chosen  chosen  winning_rates\n",
       "(0, 1]     1972        1972       0       0.000000\n",
       "(1, 2]     1175        1174       1       0.000851\n",
       "(2, 3]      714         706       8       0.011204\n",
       "(3, 4]      450         443       7       0.015556\n",
       "(4, 5]      252         236      16       0.063492\n",
       "(5, 6]      205         188      17       0.082927\n",
       "(6, 7]       89          73      16       0.179775\n",
       "(7, 8]       50          44       6       0.120000\n",
       "(8, 9]       40          28      12       0.300000\n",
       "(9, 10]      23          19       4       0.173913\n",
       "(10, 11]     14          10       4       0.285714\n",
       "(11, 12]      6           5       1       0.166667\n",
       "(12, 13]      4           2       2       0.500000\n",
       "(13, 14]      2           0       2       1.000000\n",
       "(14, 15]      2           0       2       1.000000\n",
       "(15, 16]      0           0       0       0.000000\n",
       "(16, 17]      1           0       1       1.000000\n",
       "(17, 18]      1           0       1       1.000000"
      ]
     },
     "execution_count": 32,
     "metadata": {},
     "output_type": "execute_result"
    }
   ],
   "source": [
    "df_result_summary#.head()"
   ]
  },
  {
   "cell_type": "markdown",
   "id": "f768abf5-def4-474b-a061-6eb857df8da5",
   "metadata": {
    "tags": []
   },
   "source": [
    "#### Practical Cases: exponential\n",
    "\n",
    "$$\n",
    "\\mathrm{Likelihood Value} = \\exp\\big(Brand Points\\big) \\times \\sqrt{\\mathrm{Price Premium Rate}}\n",
    "$$\n",
    "There are 5000 tickets in the raffle and only 100 tickets will be selected with likelihoods determined by the above formula."
   ]
  },
  {
   "cell_type": "code",
   "execution_count": 33,
   "id": "d66fe914-56fb-43be-92b7-c4d0123a9fa4",
   "metadata": {},
   "outputs": [],
   "source": [
    "no_tickets = 5000\n",
    "no_selections = 100"
   ]
  },
  {
   "cell_type": "markdown",
   "id": "f647c121-757d-4f93-b754-3afc3d11e4a0",
   "metadata": {
    "tags": []
   },
   "source": [
    "#### Generating the scenery\n",
    "\n",
    "The Brand points of 5000 Ticket holders are generated randomly by Gamma Distribution with shape 1 and scale 2.\n",
    "\n",
    "And the price premium rates are generated randomly, independent of Brand points, by Exponential Distribution with pameter lambda 5.\n",
    "\n",
    "|  | Distribution | Parameters |\n",
    "| :-: | :-: | :-: |\n",
    "| Brand Points | Gamma Distribution | shape = 1; scale = 2  |\n",
    "| Price Premium Rates | Exponential Distribution | lambda = 5 |"
   ]
  },
  {
   "cell_type": "code",
   "execution_count": 34,
   "id": "49df4d9e-c62a-4f06-b2f7-64dd1b3589e7",
   "metadata": {},
   "outputs": [],
   "source": [
    "# Parameter for Brand Points Distribution, Gamma Distribution\n",
    "shape_points = 1\n",
    "scale_points = 2\n",
    "loc_points = 0 # \n",
    "\n",
    "# Parameter for Price Premium Rate Distribution, Exponential Distribution\n",
    "lambda_premium = 1\n",
    "scale_premium = 1/lambda_premium\n",
    "loc_premium = 1"
   ]
  },
  {
   "cell_type": "code",
   "execution_count": 35,
   "id": "7f2202c6-1330-40e4-8b38-8cec57ed89f1",
   "metadata": {},
   "outputs": [],
   "source": [
    "# Generate the Points for 5000 ticket holders\n",
    "Points = gamma.rvs(a=shape_points,loc=loc_points,scale=scale_points,size=no_tickets)\n",
    "\n",
    "# Generating the price premium rate for 5000 ticket holders. independently of \"points\".\n",
    "Price_Premium_Rates = 0.2*expon.rvs(loc=loc_premium, scale=scale_premium, size=no_tickets)\n",
    "\n",
    "# Likelihood_Values = Points * Price_Premium_Rates\n",
    "Likelihood_Values =np.exp(Points) * np.sqrt(Price_Premium_Rates) # First calculate each tickets own value\n",
    "Likelihood_Values = Likelihood_Values / Likelihood_Values.sum() # Second calibrate likelihood values to have the sum of all to be 1.\n",
    "\n",
    "# Put all the values into a data frame with 'color' column being 'b'.\n",
    "df = pd.DataFrame(data={'point':Points,'premium_rate':Price_Premium_Rates,'likelihood':Likelihood_Values,'result':'not chosen'})"
   ]
  },
  {
   "cell_type": "code",
   "execution_count": 36,
   "id": "613e5872-7e18-4c6a-9059-c808b65d5ed6",
   "metadata": {},
   "outputs": [
    {
     "data": {
      "text/html": [
       "<div>\n",
       "<style scoped>\n",
       "    .dataframe tbody tr th:only-of-type {\n",
       "        vertical-align: middle;\n",
       "    }\n",
       "\n",
       "    .dataframe tbody tr th {\n",
       "        vertical-align: top;\n",
       "    }\n",
       "\n",
       "    .dataframe thead th {\n",
       "        text-align: right;\n",
       "    }\n",
       "</style>\n",
       "<table border=\"1\" class=\"dataframe\">\n",
       "  <thead>\n",
       "    <tr style=\"text-align: right;\">\n",
       "      <th></th>\n",
       "      <th>mean</th>\n",
       "      <th>max</th>\n",
       "      <th>min</th>\n",
       "    </tr>\n",
       "  </thead>\n",
       "  <tbody>\n",
       "    <tr>\n",
       "      <th>point</th>\n",
       "      <td>2.002157</td>\n",
       "      <td>18.639680</td>\n",
       "      <td>2.058612e-04</td>\n",
       "    </tr>\n",
       "    <tr>\n",
       "      <th>premium_rate</th>\n",
       "      <td>0.399995</td>\n",
       "      <td>1.736792</td>\n",
       "      <td>2.000152e-01</td>\n",
       "    </tr>\n",
       "    <tr>\n",
       "      <th>likelihood</th>\n",
       "      <td>0.000200</td>\n",
       "      <td>0.768196</td>\n",
       "      <td>4.744572e-09</td>\n",
       "    </tr>\n",
       "  </tbody>\n",
       "</table>\n",
       "</div>"
      ],
      "text/plain": [
       "                  mean        max           min\n",
       "point         2.002157  18.639680  2.058612e-04\n",
       "premium_rate  0.399995   1.736792  2.000152e-01\n",
       "likelihood    0.000200   0.768196  4.744572e-09"
      ]
     },
     "execution_count": 36,
     "metadata": {},
     "output_type": "execute_result"
    }
   ],
   "source": [
    "df_summary = pd.DataFrame()\n",
    "df_summary.loc[:,'mean'] = df[['point','premium_rate','likelihood']].mean()\n",
    "df_summary.loc[:,'max'] = df[['point','premium_rate','likelihood']].max()\n",
    "df_summary.loc[:,'min'] = df[['point','premium_rate','likelihood']].min()\n",
    "df_summary"
   ]
  },
  {
   "cell_type": "markdown",
   "id": "0089f67b-a829-4cd4-a3af-b04681fcc4c6",
   "metadata": {},
   "source": [
    "##### Selection of 100 tickets out of 5000"
   ]
  },
  {
   "cell_type": "code",
   "execution_count": 37,
   "id": "1201e449-e209-4a37-bbe6-5751ee3458e0",
   "metadata": {},
   "outputs": [],
   "source": [
    "# Choose 100 tickets out of 1000 with the likelihood given by Likelihood_Values\n",
    "draw = np.random.choice([n for n in range(no_tickets)], no_selections, replace=False, p=Likelihood_Values)\n",
    "\n",
    "# Change the colors of the chosen tickets to red 'r'\n",
    "for idx in draw:\n",
    "    df.loc[idx,'result'] = 'chosen'"
   ]
  },
  {
   "cell_type": "markdown",
   "id": "2fc084cf-e702-4f8f-a331-6055904a37ac",
   "metadata": {},
   "source": [
    "#### Scatter Plots of brand points and price premium rate"
   ]
  },
  {
   "cell_type": "code",
   "execution_count": 38,
   "id": "8ef010de-b3c3-4b37-8af5-babfbaecb464",
   "metadata": {},
   "outputs": [
    {
     "data": {
      "image/png": "[encoded data removed]",
      "text/plain": [
       "<Figure size 864x432 with 1 Axes>"
      ]
     },
     "metadata": {
      "needs_background": "light"
     },
     "output_type": "display_data"
    }
   ],
   "source": [
    "fig, ax = plt.subplots(figsize=(12,6))\n",
    "for result in ['not chosen','chosen']:\n",
    "    color = 'b' if result=='not chosen' else 'r'\n",
    "    scatter = ax.scatter(df[df['result']==result]['point'], df[df['result']==result]['premium_rate'], c=color, s=5000*df[df['result']==result]['likelihood'], label=result, alpha=0.7,cmap='viridis')\n",
    "ax.set_title('Chosen tickets vs Not-chosen tickets')\n",
    "ax.set_xlabel('Brand Point')\n",
    "ax.set_ylabel('Price Premium Rate')\n",
    "ax.legend()\n",
    "plt.show()"
   ]
  },
  {
   "cell_type": "markdown",
   "id": "d1588b9e-a175-4529-b4b6-570432148212",
   "metadata": {},
   "source": [
    "#### Points, Premium Rate and Likelihood for chosens and not-chosens"
   ]
  },
  {
   "cell_type": "code",
   "execution_count": 39,
   "id": "4ae569e7-ec21-4ded-bd06-aa79b2634cfa",
   "metadata": {},
   "outputs": [
    {
     "data": {
      "text/html": [
       "<div>\n",
       "<style scoped>\n",
       "    .dataframe tbody tr th:only-of-type {\n",
       "        vertical-align: middle;\n",
       "    }\n",
       "\n",
       "    .dataframe tbody tr th {\n",
       "        vertical-align: top;\n",
       "    }\n",
       "\n",
       "    .dataframe thead tr th {\n",
       "        text-align: left;\n",
       "    }\n",
       "\n",
       "    .dataframe thead tr:last-of-type th {\n",
       "        text-align: right;\n",
       "    }\n",
       "</style>\n",
       "<table border=\"1\" class=\"dataframe\">\n",
       "  <thead>\n",
       "    <tr>\n",
       "      <th></th>\n",
       "      <th colspan=\"3\" halign=\"left\">point</th>\n",
       "      <th colspan=\"3\" halign=\"left\">premium_rate</th>\n",
       "    </tr>\n",
       "    <tr>\n",
       "      <th></th>\n",
       "      <th>mean</th>\n",
       "      <th>max</th>\n",
       "      <th>min</th>\n",
       "      <th>mean</th>\n",
       "      <th>max</th>\n",
       "      <th>min</th>\n",
       "    </tr>\n",
       "    <tr>\n",
       "      <th>result</th>\n",
       "      <th></th>\n",
       "      <th></th>\n",
       "      <th></th>\n",
       "      <th></th>\n",
       "      <th></th>\n",
       "      <th></th>\n",
       "    </tr>\n",
       "  </thead>\n",
       "  <tbody>\n",
       "    <tr>\n",
       "      <th>chosen</th>\n",
       "      <td>9.238730</td>\n",
       "      <td>18.639680</td>\n",
       "      <td>0.834049</td>\n",
       "      <td>0.467835</td>\n",
       "      <td>1.592918</td>\n",
       "      <td>0.203404</td>\n",
       "    </tr>\n",
       "    <tr>\n",
       "      <th>not chosen</th>\n",
       "      <td>1.854472</td>\n",
       "      <td>9.683089</td>\n",
       "      <td>0.000206</td>\n",
       "      <td>0.398610</td>\n",
       "      <td>1.736792</td>\n",
       "      <td>0.200015</td>\n",
       "    </tr>\n",
       "  </tbody>\n",
       "</table>\n",
       "</div>"
      ],
      "text/plain": [
       "               point                      premium_rate                    \n",
       "                mean        max       min         mean       max       min\n",
       "result                                                                    \n",
       "chosen      9.238730  18.639680  0.834049     0.467835  1.592918  0.203404\n",
       "not chosen  1.854472   9.683089  0.000206     0.398610  1.736792  0.200015"
      ]
     },
     "execution_count": 39,
     "metadata": {},
     "output_type": "execute_result"
    }
   ],
   "source": [
    "df.groupby('result').agg({'point':['mean','max','min'],'premium_rate':['mean','max','min']})"
   ]
  },
  {
   "cell_type": "markdown",
   "id": "f23be9a6-5e88-453a-942a-ef1c255035a9",
   "metadata": {},
   "source": [
    "##### Point Distribution of 'chosen'"
   ]
  },
  {
   "cell_type": "code",
   "execution_count": 40,
   "id": "ebbba58a-9e87-4bbf-9dab-62231ca1197c",
   "metadata": {},
   "outputs": [
    {
     "data": {
      "image/png": "[encoded data removed]",
      "text/plain": [
       "<Figure size 432x288 with 1 Axes>"
      ]
     },
     "metadata": {
      "needs_background": "light"
     },
     "output_type": "display_data"
    }
   ],
   "source": [
    "df[df['result']=='chosen']['point'].plot.hist(bins=50)\n",
    "plt.title('Brand Points of \"Chosen\"s')\n",
    "plt.show()"
   ]
  },
  {
   "cell_type": "code",
   "execution_count": 41,
   "id": "a4b53456-8db1-491e-9302-d1dcaf34ab2a",
   "metadata": {},
   "outputs": [
    {
     "data": {
      "image/png": "[encoded data removed]",
      "text/plain": [
       "<Figure size 432x288 with 1 Axes>"
      ]
     },
     "metadata": {
      "needs_background": "light"
     },
     "output_type": "display_data"
    }
   ],
   "source": [
    "df[df['result']=='chosen']['premium_rate'].plot.hist(bins=50)\n",
    "plt.title('Price Premium Rates of \"Chosen\"s')\n",
    "plt.show()"
   ]
  },
  {
   "cell_type": "markdown",
   "id": "9234a65a-021d-4b16-b612-990022289fb2",
   "metadata": {},
   "source": [
    "#### Results Analysis"
   ]
  },
  {
   "cell_type": "code",
   "execution_count": 42,
   "id": "371bcf20-9f41-425b-963e-1966761b70a6",
   "metadata": {},
   "outputs": [],
   "source": [
    "df_result_summary = pd.concat([pd.cut(df['point'],bins=[n for n in range(1+math.ceil(df['point'].max()))]).value_counts(),\n",
    "                        pd.cut(df[df['result']=='not chosen']['point'],bins=[n for n in range(1+math.ceil(df['point'].max()))]).value_counts(),\n",
    "                        pd.cut(df[df['result']=='chosen']['point'],bins=[n for n in range(1+math.ceil(df['point'].max()))]).value_counts()],\n",
    "                       axis=1)\n",
    "df_result_summary.columns = ['total','not chosen','chosen']\n",
    "df_result_summary['winning_rates'] = df_result_summary['chosen'] / df_result_summary['total']\n",
    "df_result_summary['winning_rates'] = df_result_summary['winning_rates'].fillna(0)"
   ]
  },
  {
   "cell_type": "code",
   "execution_count": 43,
   "id": "1b21269f-7e3e-440a-b60c-f287b0b08eae",
   "metadata": {},
   "outputs": [
    {
     "data": {
      "image/png": "[encoded data removed]",
      "text/plain": [
       "<Figure size 432x288 with 1 Axes>"
      ]
     },
     "metadata": {
      "needs_background": "light"
     },
     "output_type": "display_data"
    }
   ],
   "source": [
    "df_result_summary['winning_rates'].plot.bar()\n",
    "plt.xlabel('Brand Point Intervals')\n",
    "plt.ylabel('Winning Rate')\n",
    "plt.title('Winning Rates of Brand Point Interval (n,n+1]')\n",
    "plt.show()"
   ]
  },
  {
   "cell_type": "code",
   "execution_count": 44,
   "id": "549a7cab-1fcf-4e60-aaa5-ad85ea9f92e4",
   "metadata": {},
   "outputs": [
    {
     "data": {
      "text/html": [
       "<div>\n",
       "<style scoped>\n",
       "    .dataframe tbody tr th:only-of-type {\n",
       "        vertical-align: middle;\n",
       "    }\n",
       "\n",
       "    .dataframe tbody tr th {\n",
       "        vertical-align: top;\n",
       "    }\n",
       "\n",
       "    .dataframe thead th {\n",
       "        text-align: right;\n",
       "    }\n",
       "</style>\n",
       "<table border=\"1\" class=\"dataframe\">\n",
       "  <thead>\n",
       "    <tr style=\"text-align: right;\">\n",
       "      <th></th>\n",
       "      <th>total</th>\n",
       "      <th>not chosen</th>\n",
       "      <th>chosen</th>\n",
       "      <th>winning_rates</th>\n",
       "    </tr>\n",
       "  </thead>\n",
       "  <tbody>\n",
       "    <tr>\n",
       "      <th>(0, 1]</th>\n",
       "      <td>1983</td>\n",
       "      <td>1982</td>\n",
       "      <td>1</td>\n",
       "      <td>0.000504</td>\n",
       "    </tr>\n",
       "    <tr>\n",
       "      <th>(1, 2]</th>\n",
       "      <td>1209</td>\n",
       "      <td>1209</td>\n",
       "      <td>0</td>\n",
       "      <td>0.000000</td>\n",
       "    </tr>\n",
       "    <tr>\n",
       "      <th>(2, 3]</th>\n",
       "      <td>703</td>\n",
       "      <td>701</td>\n",
       "      <td>2</td>\n",
       "      <td>0.002845</td>\n",
       "    </tr>\n",
       "    <tr>\n",
       "      <th>(3, 4]</th>\n",
       "      <td>440</td>\n",
       "      <td>438</td>\n",
       "      <td>2</td>\n",
       "      <td>0.004545</td>\n",
       "    </tr>\n",
       "    <tr>\n",
       "      <th>(4, 5]</th>\n",
       "      <td>254</td>\n",
       "      <td>247</td>\n",
       "      <td>7</td>\n",
       "      <td>0.027559</td>\n",
       "    </tr>\n",
       "    <tr>\n",
       "      <th>(5, 6]</th>\n",
       "      <td>159</td>\n",
       "      <td>157</td>\n",
       "      <td>2</td>\n",
       "      <td>0.012579</td>\n",
       "    </tr>\n",
       "    <tr>\n",
       "      <th>(6, 7]</th>\n",
       "      <td>96</td>\n",
       "      <td>90</td>\n",
       "      <td>6</td>\n",
       "      <td>0.062500</td>\n",
       "    </tr>\n",
       "    <tr>\n",
       "      <th>(7, 8]</th>\n",
       "      <td>61</td>\n",
       "      <td>51</td>\n",
       "      <td>10</td>\n",
       "      <td>0.163934</td>\n",
       "    </tr>\n",
       "    <tr>\n",
       "      <th>(8, 9]</th>\n",
       "      <td>35</td>\n",
       "      <td>19</td>\n",
       "      <td>16</td>\n",
       "      <td>0.457143</td>\n",
       "    </tr>\n",
       "    <tr>\n",
       "      <th>(9, 10]</th>\n",
       "      <td>21</td>\n",
       "      <td>6</td>\n",
       "      <td>15</td>\n",
       "      <td>0.714286</td>\n",
       "    </tr>\n",
       "    <tr>\n",
       "      <th>(10, 11]</th>\n",
       "      <td>16</td>\n",
       "      <td>0</td>\n",
       "      <td>16</td>\n",
       "      <td>1.000000</td>\n",
       "    </tr>\n",
       "    <tr>\n",
       "      <th>(11, 12]</th>\n",
       "      <td>6</td>\n",
       "      <td>0</td>\n",
       "      <td>6</td>\n",
       "      <td>1.000000</td>\n",
       "    </tr>\n",
       "    <tr>\n",
       "      <th>(12, 13]</th>\n",
       "      <td>6</td>\n",
       "      <td>0</td>\n",
       "      <td>6</td>\n",
       "      <td>1.000000</td>\n",
       "    </tr>\n",
       "    <tr>\n",
       "      <th>(13, 14]</th>\n",
       "      <td>3</td>\n",
       "      <td>0</td>\n",
       "      <td>3</td>\n",
       "      <td>1.000000</td>\n",
       "    </tr>\n",
       "    <tr>\n",
       "      <th>(14, 15]</th>\n",
       "      <td>5</td>\n",
       "      <td>0</td>\n",
       "      <td>5</td>\n",
       "      <td>1.000000</td>\n",
       "    </tr>\n",
       "    <tr>\n",
       "      <th>(15, 16]</th>\n",
       "      <td>1</td>\n",
       "      <td>0</td>\n",
       "      <td>1</td>\n",
       "      <td>1.000000</td>\n",
       "    </tr>\n",
       "    <tr>\n",
       "      <th>(16, 17]</th>\n",
       "      <td>1</td>\n",
       "      <td>0</td>\n",
       "      <td>1</td>\n",
       "      <td>1.000000</td>\n",
       "    </tr>\n",
       "    <tr>\n",
       "      <th>(17, 18]</th>\n",
       "      <td>0</td>\n",
       "      <td>0</td>\n",
       "      <td>0</td>\n",
       "      <td>0.000000</td>\n",
       "    </tr>\n",
       "    <tr>\n",
       "      <th>(18, 19]</th>\n",
       "      <td>1</td>\n",
       "      <td>0</td>\n",
       "      <td>1</td>\n",
       "      <td>1.000000</td>\n",
       "    </tr>\n",
       "  </tbody>\n",
       "</table>\n",
       "</div>"
      ],
      "text/plain": [
       "          total  not chosen  chosen  winning_rates\n",
       "(0, 1]     1983        1982       1       0.000504\n",
       "(1, 2]     1209        1209       0       0.000000\n",
       "(2, 3]      703         701       2       0.002845\n",
       "(3, 4]      440         438       2       0.004545\n",
       "(4, 5]      254         247       7       0.027559\n",
       "(5, 6]      159         157       2       0.012579\n",
       "(6, 7]       96          90       6       0.062500\n",
       "(7, 8]       61          51      10       0.163934\n",
       "(8, 9]       35          19      16       0.457143\n",
       "(9, 10]      21           6      15       0.714286\n",
       "(10, 11]     16           0      16       1.000000\n",
       "(11, 12]      6           0       6       1.000000\n",
       "(12, 13]      6           0       6       1.000000\n",
       "(13, 14]      3           0       3       1.000000\n",
       "(14, 15]      5           0       5       1.000000\n",
       "(15, 16]      1           0       1       1.000000\n",
       "(16, 17]      1           0       1       1.000000\n",
       "(17, 18]      0           0       0       0.000000\n",
       "(18, 19]      1           0       1       1.000000"
      ]
     },
     "execution_count": 44,
     "metadata": {},
     "output_type": "execute_result"
    }
   ],
   "source": [
    "df_result_summary#.head()"
   ]
  },
  {
   "cell_type": "code",
   "execution_count": null,
   "id": "e3403d75-a834-44dd-beda-f62094fcb1ec",
   "metadata": {},
   "outputs": [],
   "source": []
  },
  {
   "cell_type": "code",
   "execution_count": null,
   "id": "e4abbc6a-a39f-46b0-bdf7-ca461fa9f72a",
   "metadata": {},
   "outputs": [],
   "source": []
  }
 ],
 "metadata": {
  "kernelspec": {
   "display_name": "ml_env",
   "language": "python",
   "name": "ml_env"
  },
  "language_info": {
   "codemirror_mode": {
    "name": "ipython",
    "version": 3
   },
   "file_extension": ".py",
   "mimetype": "text/x-python",
   "name": "python",
   "nbconvert_exporter": "python",
   "pygments_lexer": "ipython3",
   "version": "3.8.10"
  }
 },
 "nbformat": 4,
 "nbformat_minor": 5
}
