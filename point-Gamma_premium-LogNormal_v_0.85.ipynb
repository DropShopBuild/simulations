{
 "cells": [
  {
   "cell_type": "code",
   "execution_count": 1,
   "id": "21ed25fa-b2d3-4327-a8c4-da5a6e5ae7bb",
   "metadata": {},
   "outputs": [],
   "source": [
    "import math\n",
    "\n",
    "import numpy as np\n",
    "from numpy.random import choice\n",
    "\n",
    "import pandas as pd\n",
    "\n",
    "from scipy.stats import gamma, expon, lognorm\n",
    "import matplotlib.pyplot as plt\n",
    "\n",
    "%matplotlib inline"
   ]
  },
  {
   "cell_type": "markdown",
   "id": "3a500039-5198-4f9d-9bf3-fc09280be121",
   "metadata": {},
   "source": [
    "#### Gamma Distribution: a candidate for the Brand Points Distribution\n",
    "For more info on Exponential Distribution, check the wikipedia. https://en.wikipedia.org/wiki/Gamma_distribution"
   ]
  },
  {
   "cell_type": "code",
   "execution_count": 2,
   "id": "238b5498-bc23-47e4-8f93-777d3e450bd8",
   "metadata": {},
   "outputs": [
    {
     "name": "stdout",
     "output_type": "stream",
     "text": [
      "average value: 10.0,\n",
      "variance: 50.0\n"
     ]
    }
   ],
   "source": [
    "# Parameters of the Distribution\n",
    "shape=2\n",
    "scale = 5\n",
    "loc = 0\n",
    "\n",
    "mean, var, skew, kurt = gamma.stats(a=shape,scale=scale, moments='mvsk')\n",
    "print('average value: {},\\nvariance: {}'.format(mean, var))"
   ]
  },
  {
   "cell_type": "code",
   "execution_count": 3,
   "id": "d2d0b875-938b-4a23-9199-a84e93547f9a",
   "metadata": {},
   "outputs": [
    {
     "name": "stdout",
     "output_type": "stream",
     "text": [
      "Brand Points Distribution Graph\n"
     ]
    },
    {
     "data": {
      "image/png": "[encoded data removed]",
      "text/plain": [
       "<Figure size 432x288 with 1 Axes>"
      ]
     },
     "metadata": {
      "needs_background": "light"
     },
     "output_type": "display_data"
    },
    {
     "name": "stdout",
     "output_type": "stream",
     "text": [
      "Average Brand Points: 10.0\n"
     ]
    }
   ],
   "source": [
    "# The graph of the pdf of the Gamma Distribution\n",
    "fig, ax = plt.subplots(1, 1)\n",
    "x = np.linspace(gamma.ppf(0.01, a=shape, loc=loc, scale=scale),\n",
    "                gamma.ppf(0.99, a=shape, loc=loc, scale=scale), 100)\n",
    "ax.plot(x, gamma.pdf(x, a=shape, loc=loc, scale=scale),\n",
    "       'r-', lw=5, alpha=0.6, label='gamma pdf')\n",
    "print('Brand Points Distribution Graph')\n",
    "plt.xlabel('Brand Points')\n",
    "plt.ylabel('Probabilities')\n",
    "plt.show()\n",
    "print('Average Brand Points: {}'.format(mean))"
   ]
  },
  {
   "cell_type": "markdown",
   "id": "c0e710cc-88b0-4d8a-a503-713e935d94b1",
   "metadata": {
    "tags": []
   },
   "source": [
    "#### Log Normal Distribution: a candidate for the price premium rate\n",
    "For more info on Exponential Distribution, check the wikipedia.\n",
    "\n",
    "https://en.wikipedia.org/wiki/Log-normal_distribution"
   ]
  },
  {
   "cell_type": "code",
   "execution_count": 4,
   "id": "7b00f70c-01f1-4791-b220-dbd5bb19a8f9",
   "metadata": {},
   "outputs": [
    {
     "name": "stdout",
     "output_type": "stream",
     "text": [
      "average value: 1.6487212707001282,\n",
      "variance: 4.670774270471604\n"
     ]
    }
   ],
   "source": [
    "# Distribution Parameters\n",
    "loc=0\n",
    "mu = 0\n",
    "sigma_squared = 1\n",
    "scale = math.exp(mu)\n",
    "\n",
    "mean, var, skew, kurt = lognorm.stats(s=sigma_squared, loc=loc, scale=scale, moments='mvsk')\n",
    "print('average value: {},\\nvariance: {}'.format(mean, var))"
   ]
  },
  {
   "cell_type": "code",
   "execution_count": 5,
   "id": "a9fb132e-923c-4fda-9935-a50ef5eff358",
   "metadata": {},
   "outputs": [
    {
     "name": "stdout",
     "output_type": "stream",
     "text": [
      "Price Premium Rate Distribution Graph\n"
     ]
    },
    {
     "data": {
      "image/png": "[encoded data removed]",
      "text/plain": [
       "<Figure size 432x288 with 1 Axes>"
      ]
     },
     "metadata": {
      "needs_background": "light"
     },
     "output_type": "display_data"
    },
    {
     "name": "stdout",
     "output_type": "stream",
     "text": [
      "Average Premium Rate: 1.6487212707001282\n"
     ]
    }
   ],
   "source": [
    "# The graph of the pdf of the Exponential Distribution\n",
    "fig, ax = plt.subplots(1, 1)\n",
    "x = np.linspace(lognorm.ppf(0.01, s=sigma_squared, loc=loc, scale=scale),\n",
    "                lognorm.ppf(0.99, s=sigma_squared, loc=loc, scale=scale), 100)\n",
    "ax.plot(x, lognorm.pdf(x, s=sigma_squared, loc=loc, scale=scale),\n",
    "       'r-', lw=5, alpha=0.6, label='expon pdf')\n",
    "print('Price Premium Rate Distribution Graph')\n",
    "plt.xlabel('Price Premium Rate')\n",
    "plt.ylabel('Probabilities')\n",
    "plt.show()\n",
    "print('Average Premium Rate: {}'.format(mean))"
   ]
  },
  {
   "cell_type": "code",
   "execution_count": 6,
   "id": "77a5a31f-1215-4a14-adea-eb3504c966d3",
   "metadata": {},
   "outputs": [
    {
     "name": "stdout",
     "output_type": "stream",
     "text": [
      "Peak of the above graph is 0.36787944117144233.\n"
     ]
    }
   ],
   "source": [
    "mode = math.exp(mu-sigma_squared)\n",
    "print('Peak of the above graph is {}.'.format(mode))"
   ]
  },
  {
   "cell_type": "markdown",
   "id": "5776384b-25dc-4cfe-bf16-055fa3f6ccc8",
   "metadata": {},
   "source": [
    "## Mature Community\n",
    "- The community has matured enough that the Brand points are given by a **Gamma** distribution.\n",
    "- And the price premium rates are given by an **exponential** distribution, independent of the Brand points.\n",
    "\n",
    "| Input | Distribution |\n",
    "| :-: | :-: |\n",
    "| Brand Points | **Gamma Distribution** |\n",
    "| Price Premium Rates | **Log Normal Distribution** |\n",
    "\n",
    "The following are the experiments on a variety of ways that \"Brand points\" influence the likelihood.\n",
    "\n",
    "#### Case Study: quadratic Brand Points\n",
    "$$\n",
    "\\mathrm{Likelihood Value} = \\mathrm{Brand Points}^2 \\times \\sqrt{\\mathrm{Price Premium Rate}}\n",
    "$$\n",
    "There are 5000 tickets in the raffle and only 100 tickets will be selected with likelihoods determined by the above formula."
   ]
  },
  {
   "cell_type": "code",
   "execution_count": 7,
   "id": "eb0a315c-afee-44da-9b32-7e54c0741dd2",
   "metadata": {},
   "outputs": [],
   "source": [
    "no_tickets = 5000\n",
    "no_selections = 100"
   ]
  },
  {
   "cell_type": "markdown",
   "id": "a5ffa11e-cac0-4209-9513-62ade41afa67",
   "metadata": {
    "tags": []
   },
   "source": [
    "#### Generating the scenery\n",
    "\n",
    "The Brand points of 5000 Ticket holders are generated randomly by Gamma Distribution with shape 1 and scale 2.\n",
    "\n",
    "And the price premium rates are generated randomly, independent of Brand points, by Exponential Distribution with pameter lambda 5.\n",
    "\n",
    "| Input | Distribution | Parameters |\n",
    "| :-: | :-: | :-: |\n",
    "| Brand Points | Gamma Distribution | shape = 1; scale = 2  |\n",
    "| Price Premium Rates | Log Normal Distribution | mu = 0, sigma<sup>2</sup> = 1 |"
   ]
  },
  {
   "cell_type": "code",
   "execution_count": 8,
   "id": "d730bad1-2a57-4cad-8dfb-6c33ea759b00",
   "metadata": {},
   "outputs": [],
   "source": [
    "# Parameter for Brand Points Distribution, Gamma Distribution\n",
    "shape_points = 1\n",
    "scale_points = 2\n",
    "loc_points = 0 # \n",
    "\n",
    "# Parameter for Price Premium Rate Distribution, Log Normal Distribution\n",
    "loc=0\n",
    "mu = 0\n",
    "sigma_squared = 1\n",
    "scale = math.exp(mu)"
   ]
  },
  {
   "cell_type": "code",
   "execution_count": 53,
   "id": "1b2acb21-1adb-4575-b439-500892e291cc",
   "metadata": {},
   "outputs": [],
   "source": [
    "# # Generate the Points for 5000 ticket holders\n",
    "# Points = gamma.rvs(a=shape_points,loc=loc_points,scale=scale_points,size=no_tickets)\n",
    "\n",
    "# # Generating the price premium rate for 5000 ticket holders. independently of \"points\".\n",
    "# Price_Premium_Rates = 0.2*lognorm.rvs(s=sigma_squared, loc=loc, scale=scale, size=no_tickets)\n",
    "\n",
    "# Likelihood_Values = Points * Price_Premium_Rates\n",
    "Likelihood_Values = Points**4 * Price_Premium_Rates # First calculate each tickets own value\n",
    "Likelihood_Values = Likelihood_Values / Likelihood_Values.sum() # Second calibrate likelihood values to have the sum of all to be 1.\n",
    "\n",
    "# Put all the values into a data frame with 'color' column being 'b'.\n",
    "df = pd.DataFrame(data={'point':Points,'premium_rate':Price_Premium_Rates,'likelihood':Likelihood_Values,'result':'not chosen'})"
   ]
  },
  {
   "cell_type": "code",
   "execution_count": 54,
   "id": "3796fc00-2390-47b1-8881-0ef39b3d9853",
   "metadata": {},
   "outputs": [
    {
     "data": {
      "text/html": [
       "<div>\n",
       "<style scoped>\n",
       "    .dataframe tbody tr th:only-of-type {\n",
       "        vertical-align: middle;\n",
       "    }\n",
       "\n",
       "    .dataframe tbody tr th {\n",
       "        vertical-align: top;\n",
       "    }\n",
       "\n",
       "    .dataframe thead th {\n",
       "        text-align: right;\n",
       "    }\n",
       "</style>\n",
       "<table border=\"1\" class=\"dataframe\">\n",
       "  <thead>\n",
       "    <tr style=\"text-align: right;\">\n",
       "      <th></th>\n",
       "      <th>mean</th>\n",
       "      <th>max</th>\n",
       "      <th>min</th>\n",
       "    </tr>\n",
       "  </thead>\n",
       "  <tbody>\n",
       "    <tr>\n",
       "      <th>point</th>\n",
       "      <td>1.967674</td>\n",
       "      <td>13.621706</td>\n",
       "      <td>2.376104e-03</td>\n",
       "    </tr>\n",
       "    <tr>\n",
       "      <th>premium_rate</th>\n",
       "      <td>0.325309</td>\n",
       "      <td>8.758831</td>\n",
       "      <td>5.217536e-03</td>\n",
       "    </tr>\n",
       "    <tr>\n",
       "      <th>likelihood</th>\n",
       "      <td>0.000200</td>\n",
       "      <td>0.048198</td>\n",
       "      <td>6.413218e-18</td>\n",
       "    </tr>\n",
       "  </tbody>\n",
       "</table>\n",
       "</div>"
      ],
      "text/plain": [
       "                  mean        max           min\n",
       "point         1.967674  13.621706  2.376104e-03\n",
       "premium_rate  0.325309   8.758831  5.217536e-03\n",
       "likelihood    0.000200   0.048198  6.413218e-18"
      ]
     },
     "execution_count": 54,
     "metadata": {},
     "output_type": "execute_result"
    }
   ],
   "source": [
    "df_summary = pd.DataFrame()\n",
    "df_summary.loc[:,'mean'] = df[['point','premium_rate','likelihood']].mean()\n",
    "df_summary.loc[:,'max'] = df[['point','premium_rate','likelihood']].max()\n",
    "df_summary.loc[:,'min'] = df[['point','premium_rate','likelihood']].min()\n",
    "df_summary"
   ]
  },
  {
   "cell_type": "markdown",
   "id": "5aa9490c-45b5-4252-9013-c5ffc5914e79",
   "metadata": {},
   "source": [
    "##### Selection of 100 tickets out of 5000"
   ]
  },
  {
   "cell_type": "code",
   "execution_count": 55,
   "id": "98ae1044-122e-4a34-a2bc-c8db6622c040",
   "metadata": {},
   "outputs": [],
   "source": [
    "# Choose 100 tickets out of 1000 with the likelihood given by Likelihood_Values\n",
    "draw = np.random.choice([n for n in range(no_tickets)], no_selections, replace=False, p=Likelihood_Values)\n",
    "\n",
    "# Change the colors of the chosen tickets to red 'r'\n",
    "for idx in draw:\n",
    "    df.loc[idx,'result'] = 'chosen'"
   ]
  },
  {
   "cell_type": "markdown",
   "id": "dda7bd78-6088-4602-b268-221246153a81",
   "metadata": {},
   "source": [
    "#### Scatter Plots of brand points and price premium rate"
   ]
  },
  {
   "cell_type": "code",
   "execution_count": 56,
   "id": "7a3ff815-80bf-4bc8-a6ab-972aa8b759eb",
   "metadata": {},
   "outputs": [
    {
     "data": {
      "image/png": "[encoded data removed]",
      "text/plain": [
       "<Figure size 864x432 with 1 Axes>"
      ]
     },
     "metadata": {
      "needs_background": "light"
     },
     "output_type": "display_data"
    }
   ],
   "source": [
    "fig, ax = plt.subplots(figsize=(12,6))\n",
    "for result in ['not chosen','chosen']:\n",
    "    color = 'b' if result=='not chosen' else 'r'\n",
    "    scatter = ax.scatter(df[df['result']==result]['point'], df[df['result']==result]['premium_rate'], c=color, s=5000*df[df['result']==result]['likelihood'], label=result, alpha=0.7,cmap='viridis')\n",
    "ax.set_title('Chosen tickets vs Not-chosen tickets')\n",
    "ax.set_xlabel('Brand Token')\n",
    "ax.set_ylabel('Price Premium')\n",
    "ax.legend()\n",
    "plt.show()"
   ]
  },
  {
   "cell_type": "code",
   "execution_count": 52,
   "id": "cb1ecf73-49bf-4ce6-8813-7cf0b41469ff",
   "metadata": {},
   "outputs": [
    {
     "data": {
      "image/png": "[encoded data removed]",
      "text/plain": [
       "<Figure size 864x432 with 1 Axes>"
      ]
     },
     "metadata": {
      "needs_background": "light"
     },
     "output_type": "display_data"
    }
   ],
   "source": [
    "fig, ax = plt.subplots(figsize=(12,6))\n",
    "for result in ['not chosen','chosen']:\n",
    "    color = 'b' if result=='not chosen' else 'r'\n",
    "    scatter = ax.scatter(df[df['result']==result]['point'], df[df['result']==result]['premium_rate'], c=color, s=5000*df[df['result']==result]['likelihood'], label=result, alpha=0.7,cmap='viridis')\n",
    "ax.set_title('Chosen tickets vs Not-chosen tickets')\n",
    "ax.set_xlabel('Brand Token')\n",
    "ax.set_ylabel('Price Premium')\n",
    "ax.legend()\n",
    "plt.show()"
   ]
  },
  {
   "cell_type": "markdown",
   "id": "5d91a514-2105-4e51-b87e-12f720f424ed",
   "metadata": {},
   "source": [
    "#### Points, Premium Rate and Likelihood for chosens and not-chosens"
   ]
  },
  {
   "cell_type": "code",
   "execution_count": 47,
   "id": "ca9f661c-c2bf-4b29-a0bd-84daa752b544",
   "metadata": {},
   "outputs": [
    {
     "data": {
      "text/html": [
       "<div>\n",
       "<style scoped>\n",
       "    .dataframe tbody tr th:only-of-type {\n",
       "        vertical-align: middle;\n",
       "    }\n",
       "\n",
       "    .dataframe tbody tr th {\n",
       "        vertical-align: top;\n",
       "    }\n",
       "\n",
       "    .dataframe thead tr th {\n",
       "        text-align: left;\n",
       "    }\n",
       "\n",
       "    .dataframe thead tr:last-of-type th {\n",
       "        text-align: right;\n",
       "    }\n",
       "</style>\n",
       "<table border=\"1\" class=\"dataframe\">\n",
       "  <thead>\n",
       "    <tr>\n",
       "      <th></th>\n",
       "      <th colspan=\"3\" halign=\"left\">point</th>\n",
       "      <th colspan=\"3\" halign=\"left\">premium_rate</th>\n",
       "    </tr>\n",
       "    <tr>\n",
       "      <th></th>\n",
       "      <th>mean</th>\n",
       "      <th>max</th>\n",
       "      <th>min</th>\n",
       "      <th>mean</th>\n",
       "      <th>max</th>\n",
       "      <th>min</th>\n",
       "    </tr>\n",
       "    <tr>\n",
       "      <th>result</th>\n",
       "      <th></th>\n",
       "      <th></th>\n",
       "      <th></th>\n",
       "      <th></th>\n",
       "      <th></th>\n",
       "      <th></th>\n",
       "    </tr>\n",
       "  </thead>\n",
       "  <tbody>\n",
       "    <tr>\n",
       "      <th>chosen</th>\n",
       "      <td>5.160459</td>\n",
       "      <td>13.060860</td>\n",
       "      <td>1.046818</td>\n",
       "      <td>0.796158</td>\n",
       "      <td>8.758831</td>\n",
       "      <td>0.048211</td>\n",
       "    </tr>\n",
       "    <tr>\n",
       "      <th>not chosen</th>\n",
       "      <td>1.902515</td>\n",
       "      <td>13.621706</td>\n",
       "      <td>0.002376</td>\n",
       "      <td>0.315700</td>\n",
       "      <td>5.181979</td>\n",
       "      <td>0.005218</td>\n",
       "    </tr>\n",
       "  </tbody>\n",
       "</table>\n",
       "</div>"
      ],
      "text/plain": [
       "               point                      premium_rate                    \n",
       "                mean        max       min         mean       max       min\n",
       "result                                                                    \n",
       "chosen      5.160459  13.060860  1.046818     0.796158  8.758831  0.048211\n",
       "not chosen  1.902515  13.621706  0.002376     0.315700  5.181979  0.005218"
      ]
     },
     "execution_count": 47,
     "metadata": {},
     "output_type": "execute_result"
    }
   ],
   "source": [
    "df.groupby('result').agg({'point':['mean','max','min'],'premium_rate':['mean','max','min']})"
   ]
  },
  {
   "cell_type": "markdown",
   "id": "1c048d72-79ef-442b-a50c-2413b19c93d9",
   "metadata": {},
   "source": [
    "##### Point Distribution of 'chosen'"
   ]
  },
  {
   "cell_type": "code",
   "execution_count": 14,
   "id": "f583acb0-961e-4e55-ac30-0398d10ee3d0",
   "metadata": {},
   "outputs": [
    {
     "data": {
      "image/png": "[encoded data removed]",
      "text/plain": [
       "<Figure size 432x288 with 1 Axes>"
      ]
     },
     "metadata": {
      "needs_background": "light"
     },
     "output_type": "display_data"
    }
   ],
   "source": [
    "df[df['result']=='chosen']['point'].plot.hist(bins=50)\n",
    "plt.title('Brand Points of \"Chosen\"s')\n",
    "plt.show()"
   ]
  },
  {
   "cell_type": "code",
   "execution_count": 15,
   "id": "999b778f-c110-479f-b48f-b2f87a837255",
   "metadata": {},
   "outputs": [
    {
     "data": {
      "image/png": "[encoded data removed]",
      "text/plain": [
       "<Figure size 432x288 with 1 Axes>"
      ]
     },
     "metadata": {
      "needs_background": "light"
     },
     "output_type": "display_data"
    }
   ],
   "source": [
    "df[df['result']=='chosen']['premium_rate'].plot.hist(bins=50)\n",
    "plt.title('Price Premium Rates of \"Chosen\"s')\n",
    "plt.show()"
   ]
  },
  {
   "cell_type": "markdown",
   "id": "ce7d1585-6d30-4016-a9b5-3b73d5b44eda",
   "metadata": {},
   "source": [
    "#### Results Analysis"
   ]
  },
  {
   "cell_type": "code",
   "execution_count": 16,
   "id": "46b9ae51-2823-47ee-85a8-3668ab7c9263",
   "metadata": {},
   "outputs": [],
   "source": [
    "df_result_summary = pd.concat([pd.cut(df['point'],bins=[n for n in range(1+math.ceil(df['point'].max()))]).value_counts(),\n",
    "                        pd.cut(df[df['result']=='not chosen']['point'],bins=[n for n in range(1+math.ceil(df['point'].max()))]).value_counts(),\n",
    "                        pd.cut(df[df['result']=='chosen']['point'],bins=[n for n in range(1+math.ceil(df['point'].max()))]).value_counts()],\n",
    "                       axis=1)\n",
    "df_result_summary.columns = ['total','not chosen','chosen']\n",
    "df_result_summary['winning_rates'] = df_result_summary['chosen'] / df_result_summary['total']\n",
    "df_result_summary['winning_rates'] = df_result_summary['winning_rates'].fillna(0)"
   ]
  },
  {
   "cell_type": "code",
   "execution_count": 17,
   "id": "c3200e74-c05e-461a-969d-7803a5be9c87",
   "metadata": {},
   "outputs": [
    {
     "data": {
      "image/png": "[encoded data removed]",
      "text/plain": [
       "<Figure size 432x288 with 1 Axes>"
      ]
     },
     "metadata": {
      "needs_background": "light"
     },
     "output_type": "display_data"
    }
   ],
   "source": [
    "df_result_summary['winning_rates'].plot.bar()\n",
    "plt.xlabel('Brand Point Intervals')\n",
    "plt.ylabel('Winning Rate')\n",
    "plt.title('Winning Rates of Brand Point Interval (n,n+1]')\n",
    "plt.show()"
   ]
  },
  {
   "cell_type": "code",
   "execution_count": 18,
   "id": "e9527ff2-6f98-4bd3-be2e-98ee8b7a5ab6",
   "metadata": {},
   "outputs": [
    {
     "data": {
      "text/html": [
       "<div>\n",
       "<style scoped>\n",
       "    .dataframe tbody tr th:only-of-type {\n",
       "        vertical-align: middle;\n",
       "    }\n",
       "\n",
       "    .dataframe tbody tr th {\n",
       "        vertical-align: top;\n",
       "    }\n",
       "\n",
       "    .dataframe thead th {\n",
       "        text-align: right;\n",
       "    }\n",
       "</style>\n",
       "<table border=\"1\" class=\"dataframe\">\n",
       "  <thead>\n",
       "    <tr style=\"text-align: right;\">\n",
       "      <th></th>\n",
       "      <th>total</th>\n",
       "      <th>not chosen</th>\n",
       "      <th>chosen</th>\n",
       "      <th>winning_rates</th>\n",
       "    </tr>\n",
       "  </thead>\n",
       "  <tbody>\n",
       "    <tr>\n",
       "      <th>(0, 1]</th>\n",
       "      <td>1977</td>\n",
       "      <td>1976</td>\n",
       "      <td>1</td>\n",
       "      <td>0.000506</td>\n",
       "    </tr>\n",
       "    <tr>\n",
       "      <th>(1, 2]</th>\n",
       "      <td>1195</td>\n",
       "      <td>1187</td>\n",
       "      <td>8</td>\n",
       "      <td>0.006695</td>\n",
       "    </tr>\n",
       "    <tr>\n",
       "      <th>(2, 3]</th>\n",
       "      <td>696</td>\n",
       "      <td>684</td>\n",
       "      <td>12</td>\n",
       "      <td>0.017241</td>\n",
       "    </tr>\n",
       "    <tr>\n",
       "      <th>(3, 4]</th>\n",
       "      <td>464</td>\n",
       "      <td>447</td>\n",
       "      <td>17</td>\n",
       "      <td>0.036638</td>\n",
       "    </tr>\n",
       "    <tr>\n",
       "      <th>(4, 5]</th>\n",
       "      <td>252</td>\n",
       "      <td>240</td>\n",
       "      <td>12</td>\n",
       "      <td>0.047619</td>\n",
       "    </tr>\n",
       "  </tbody>\n",
       "</table>\n",
       "</div>"
      ],
      "text/plain": [
       "        total  not chosen  chosen  winning_rates\n",
       "(0, 1]   1977        1976       1       0.000506\n",
       "(1, 2]   1195        1187       8       0.006695\n",
       "(2, 3]    696         684      12       0.017241\n",
       "(3, 4]    464         447      17       0.036638\n",
       "(4, 5]    252         240      12       0.047619"
      ]
     },
     "execution_count": 18,
     "metadata": {},
     "output_type": "execute_result"
    }
   ],
   "source": [
    "df_result_summary.head()"
   ]
  },
  {
   "cell_type": "markdown",
   "id": "7f97bdc8-a0dd-447f-bc39-dbfb8c53c0ac",
   "metadata": {
    "tags": []
   },
   "source": [
    "#### Practical Cases: cubic\n",
    "$$\n",
    "\\mathrm{Likelihood Value} = \\mathrm{Brand Points}^3 \\times \\sqrt{\\mathrm{Price Premium Rate}}\n",
    "$$\n",
    "There are 5000 tickets in the raffle and only 100 tickets will be selected with likelihoods determined by the above formula."
   ]
  },
  {
   "cell_type": "code",
   "execution_count": 19,
   "id": "278e4038-5f5f-479a-8ab7-40cc5d6d844a",
   "metadata": {},
   "outputs": [],
   "source": [
    "no_tickets = 5000\n",
    "no_selections = 100"
   ]
  },
  {
   "cell_type": "markdown",
   "id": "4718aa6f-dfd8-4ed4-b818-aa673f0ad835",
   "metadata": {
    "tags": []
   },
   "source": [
    "#### Generating the scenery\n",
    "\n",
    "The Brand points of 5000 Ticket holders are generated randomly by Gamma Distribution with shape 1 and scale 2.\n",
    "\n",
    "And the price premium rates are generated randomly, independent of Brand points, by Exponential Distribution with pameter lambda 5.\n",
    "\n",
    "|  | Distribution | Parameters |\n",
    "| :-: | :-: | :-: |\n",
    "| Brand Points | Gamma Distribution | shape = 1; scale = 2  |\n",
    "| Price Premium Rates | Log Normal Distribution | mu = 0, sigma<sup>2</sup> = 1 |"
   ]
  },
  {
   "cell_type": "code",
   "execution_count": 20,
   "id": "72bfa9fb-69e6-46dc-8777-1db3b0eb0e9c",
   "metadata": {},
   "outputs": [],
   "source": [
    "# Parameter for Brand Points Distribution, Gamma Distribution\n",
    "shape_points = 1\n",
    "scale_points = 2\n",
    "loc_points = 0 # \n",
    "\n",
    "# Parameter for Price Premium Rate Distribution, Log Normal Distribution\n",
    "loc=0\n",
    "mu = 0\n",
    "sigma_squared = 1\n",
    "scale = math.exp(mu)"
   ]
  },
  {
   "cell_type": "code",
   "execution_count": 21,
   "id": "13225b65-59ad-4dc2-8848-52179ab53735",
   "metadata": {},
   "outputs": [],
   "source": [
    "# Generate the Points for 5000 ticket holders\n",
    "Points = gamma.rvs(a=shape_points,loc=loc_points,scale=scale_points,size=no_tickets)\n",
    "\n",
    "# Generating the price premium rate for 5000 ticket holders. independently of \"points\".\n",
    "Price_Premium_Rates = 0.2*lognorm.rvs(s=sigma_squared, loc=loc, scale=scale, size=no_tickets)\n",
    "\n",
    "# Likelihood_Values = Points * Price_Premium_Rates\n",
    "Likelihood_Values = Points**3 * np.sqrt(Price_Premium_Rates) # First calculate each tickets own value\n",
    "Likelihood_Values = Likelihood_Values / Likelihood_Values.sum() # Second calibrate likelihood values to have the sum of all to be 1.\n",
    "\n",
    "# Put all the values into a data frame with 'color' column being 'b'.\n",
    "df = pd.DataFrame(data={'point':Points,'premium_rate':Price_Premium_Rates,'likelihood':Likelihood_Values,'result':'not chosen'})"
   ]
  },
  {
   "cell_type": "code",
   "execution_count": 22,
   "id": "caa65aa3-d843-4609-9631-deb0d24524d3",
   "metadata": {},
   "outputs": [
    {
     "data": {
      "text/html": [
       "<div>\n",
       "<style scoped>\n",
       "    .dataframe tbody tr th:only-of-type {\n",
       "        vertical-align: middle;\n",
       "    }\n",
       "\n",
       "    .dataframe tbody tr th {\n",
       "        vertical-align: top;\n",
       "    }\n",
       "\n",
       "    .dataframe thead th {\n",
       "        text-align: right;\n",
       "    }\n",
       "</style>\n",
       "<table border=\"1\" class=\"dataframe\">\n",
       "  <thead>\n",
       "    <tr style=\"text-align: right;\">\n",
       "      <th></th>\n",
       "      <th>mean</th>\n",
       "      <th>max</th>\n",
       "      <th>min</th>\n",
       "    </tr>\n",
       "  </thead>\n",
       "  <tbody>\n",
       "    <tr>\n",
       "      <th>point</th>\n",
       "      <td>1.972505</td>\n",
       "      <td>18.248851</td>\n",
       "      <td>8.188303e-06</td>\n",
       "    </tr>\n",
       "    <tr>\n",
       "      <th>premium_rate</th>\n",
       "      <td>0.327454</td>\n",
       "      <td>13.847457</td>\n",
       "      <td>7.481743e-03</td>\n",
       "    </tr>\n",
       "    <tr>\n",
       "      <th>likelihood</th>\n",
       "      <td>0.000200</td>\n",
       "      <td>0.023610</td>\n",
       "      <td>3.519861e-21</td>\n",
       "    </tr>\n",
       "  </tbody>\n",
       "</table>\n",
       "</div>"
      ],
      "text/plain": [
       "                  mean        max           min\n",
       "point         1.972505  18.248851  8.188303e-06\n",
       "premium_rate  0.327454  13.847457  7.481743e-03\n",
       "likelihood    0.000200   0.023610  3.519861e-21"
      ]
     },
     "execution_count": 22,
     "metadata": {},
     "output_type": "execute_result"
    }
   ],
   "source": [
    "df_summary = pd.DataFrame()\n",
    "df_summary.loc[:,'mean'] = df[['point','premium_rate','likelihood']].mean()\n",
    "df_summary.loc[:,'max'] = df[['point','premium_rate','likelihood']].max()\n",
    "df_summary.loc[:,'min'] = df[['point','premium_rate','likelihood']].min()\n",
    "df_summary"
   ]
  },
  {
   "cell_type": "markdown",
   "id": "07b14dd8-87e6-492d-8799-23855bfd2a8d",
   "metadata": {},
   "source": [
    "##### Selection of 100 tickets out of 5000"
   ]
  },
  {
   "cell_type": "code",
   "execution_count": 23,
   "id": "938b52e6-ce62-4abe-8b65-f9c456f43350",
   "metadata": {},
   "outputs": [],
   "source": [
    "# Choose 100 tickets out of 1000 with the likelihood given by Likelihood_Values\n",
    "draw = np.random.choice([n for n in range(no_tickets)], no_selections, replace=False, p=Likelihood_Values)\n",
    "\n",
    "# Change the colors of the chosen tickets to red 'r'\n",
    "for idx in draw:\n",
    "    df.loc[idx,'result'] = 'chosen'"
   ]
  },
  {
   "cell_type": "markdown",
   "id": "b349af6a-a964-4b70-b134-65e865cb9001",
   "metadata": {},
   "source": [
    "#### Scatter Plots of brand points and price premium rate"
   ]
  },
  {
   "cell_type": "code",
   "execution_count": 24,
   "id": "ce2ad2a4-0dec-4661-8ec5-54f74e6e376e",
   "metadata": {},
   "outputs": [
    {
     "data": {
      "image/png": "[encoded data removed]",
      "text/plain": [
       "<Figure size 864x432 with 1 Axes>"
      ]
     },
     "metadata": {
      "needs_background": "light"
     },
     "output_type": "display_data"
    }
   ],
   "source": [
    "fig, ax = plt.subplots(figsize=(12,6))\n",
    "for result in ['not chosen','chosen']:\n",
    "    color = 'b' if result=='not chosen' else 'r'\n",
    "    scatter = ax.scatter(df[df['result']==result]['point'], df[df['result']==result]['premium_rate'], c=color, s=5000*df[df['result']==result]['likelihood'], label=result, alpha=0.7,cmap='viridis')\n",
    "ax.set_title('Chosen tickets vs Not-chosen tickets')\n",
    "ax.set_xlabel('Brand Point')\n",
    "ax.set_ylabel('Price Premium Rate')\n",
    "ax.legend()\n",
    "plt.show()"
   ]
  },
  {
   "cell_type": "markdown",
   "id": "199381a9-33c8-4f31-a8d5-a55f2a3b4840",
   "metadata": {},
   "source": [
    "#### Points, Premium Rate and Likelihood for chosens and not-chosens"
   ]
  },
  {
   "cell_type": "code",
   "execution_count": 25,
   "id": "5fd16b8f-d72f-4842-9cf1-f7b2d1c88296",
   "metadata": {},
   "outputs": [
    {
     "data": {
      "text/html": [
       "<div>\n",
       "<style scoped>\n",
       "    .dataframe tbody tr th:only-of-type {\n",
       "        vertical-align: middle;\n",
       "    }\n",
       "\n",
       "    .dataframe tbody tr th {\n",
       "        vertical-align: top;\n",
       "    }\n",
       "\n",
       "    .dataframe thead tr th {\n",
       "        text-align: left;\n",
       "    }\n",
       "\n",
       "    .dataframe thead tr:last-of-type th {\n",
       "        text-align: right;\n",
       "    }\n",
       "</style>\n",
       "<table border=\"1\" class=\"dataframe\">\n",
       "  <thead>\n",
       "    <tr>\n",
       "      <th></th>\n",
       "      <th colspan=\"3\" halign=\"left\">point</th>\n",
       "      <th colspan=\"3\" halign=\"left\">premium_rate</th>\n",
       "    </tr>\n",
       "    <tr>\n",
       "      <th></th>\n",
       "      <th>mean</th>\n",
       "      <th>max</th>\n",
       "      <th>min</th>\n",
       "      <th>mean</th>\n",
       "      <th>max</th>\n",
       "      <th>min</th>\n",
       "    </tr>\n",
       "    <tr>\n",
       "      <th>result</th>\n",
       "      <th></th>\n",
       "      <th></th>\n",
       "      <th></th>\n",
       "      <th></th>\n",
       "      <th></th>\n",
       "      <th></th>\n",
       "    </tr>\n",
       "  </thead>\n",
       "  <tbody>\n",
       "    <tr>\n",
       "      <th>chosen</th>\n",
       "      <td>6.895544</td>\n",
       "      <td>18.248851</td>\n",
       "      <td>1.406314</td>\n",
       "      <td>0.445406</td>\n",
       "      <td>4.356451</td>\n",
       "      <td>0.023307</td>\n",
       "    </tr>\n",
       "    <tr>\n",
       "      <th>not chosen</th>\n",
       "      <td>1.872035</td>\n",
       "      <td>15.696713</td>\n",
       "      <td>0.000008</td>\n",
       "      <td>0.325046</td>\n",
       "      <td>13.847457</td>\n",
       "      <td>0.007482</td>\n",
       "    </tr>\n",
       "  </tbody>\n",
       "</table>\n",
       "</div>"
      ],
      "text/plain": [
       "               point                      premium_rate                     \n",
       "                mean        max       min         mean        max       min\n",
       "result                                                                     \n",
       "chosen      6.895544  18.248851  1.406314     0.445406   4.356451  0.023307\n",
       "not chosen  1.872035  15.696713  0.000008     0.325046  13.847457  0.007482"
      ]
     },
     "execution_count": 25,
     "metadata": {},
     "output_type": "execute_result"
    }
   ],
   "source": [
    "df.groupby('result').agg({'point':['mean','max','min'],'premium_rate':['mean','max','min']})"
   ]
  },
  {
   "cell_type": "markdown",
   "id": "19774f03-6826-47dc-a33e-54b78cede876",
   "metadata": {},
   "source": [
    "##### Point Distribution of 'chosen'"
   ]
  },
  {
   "cell_type": "code",
   "execution_count": 26,
   "id": "272f1449-e040-479c-8833-ce4f48c14865",
   "metadata": {},
   "outputs": [
    {
     "data": {
      "image/png": "[encoded data removed]",
      "text/plain": [
       "<Figure size 432x288 with 1 Axes>"
      ]
     },
     "metadata": {
      "needs_background": "light"
     },
     "output_type": "display_data"
    }
   ],
   "source": [
    "df[df['result']=='chosen']['point'].plot.hist(bins=50)\n",
    "plt.title('Brand Points of \"Chosen\"s')\n",
    "plt.show()"
   ]
  },
  {
   "cell_type": "code",
   "execution_count": 27,
   "id": "85f9b2a2-90aa-47cd-87dc-6bb217c15b3c",
   "metadata": {},
   "outputs": [
    {
     "data": {
      "image/png": "[encoded data removed]",
      "text/plain": [
       "<Figure size 432x288 with 1 Axes>"
      ]
     },
     "metadata": {
      "needs_background": "light"
     },
     "output_type": "display_data"
    }
   ],
   "source": [
    "df[df['result']=='chosen']['premium_rate'].plot.hist(bins=50)\n",
    "plt.title('Price Premium Rates of \"Chosen\"s')\n",
    "plt.show()"
   ]
  },
  {
   "cell_type": "markdown",
   "id": "90977d51-5f4e-4799-8888-18258e6e0490",
   "metadata": {},
   "source": [
    "#### Results Analysis"
   ]
  },
  {
   "cell_type": "code",
   "execution_count": 28,
   "id": "538f38da-24b2-4b2b-8869-3a0c91b43b0e",
   "metadata": {},
   "outputs": [],
   "source": [
    "df_result_summary = pd.concat([pd.cut(df['point'],bins=[n for n in range(1+math.ceil(df['point'].max()))]).value_counts(),\n",
    "                        pd.cut(df[df['result']=='not chosen']['point'],bins=[n for n in range(1+math.ceil(df['point'].max()))]).value_counts(),\n",
    "                        pd.cut(df[df['result']=='chosen']['point'],bins=[n for n in range(1+math.ceil(df['point'].max()))]).value_counts()],\n",
    "                       axis=1)\n",
    "df_result_summary.columns = ['total','not chosen','chosen']\n",
    "df_result_summary['winning_rates'] = df_result_summary['chosen'] / df_result_summary['total']\n",
    "df_result_summary['winning_rates'] = df_result_summary['winning_rates'].fillna(0)"
   ]
  },
  {
   "cell_type": "code",
   "execution_count": 29,
   "id": "50efdffc-180e-4efb-a96d-68bf94758a45",
   "metadata": {},
   "outputs": [
    {
     "data": {
      "image/png": "[encoded data removed]",
      "text/plain": [
       "<Figure size 432x288 with 1 Axes>"
      ]
     },
     "metadata": {
      "needs_background": "light"
     },
     "output_type": "display_data"
    }
   ],
   "source": [
    "df_result_summary['winning_rates'].plot.bar()\n",
    "plt.xlabel('Brand Point Intervals')\n",
    "plt.ylabel('Winning Rate')\n",
    "plt.title('Winning Rates of Brand Point Interval (n,n+1]')\n",
    "plt.show()"
   ]
  },
  {
   "cell_type": "code",
   "execution_count": 30,
   "id": "4eb6096d-52b1-486b-9a7e-323191bd62be",
   "metadata": {},
   "outputs": [
    {
     "data": {
      "text/html": [
       "<div>\n",
       "<style scoped>\n",
       "    .dataframe tbody tr th:only-of-type {\n",
       "        vertical-align: middle;\n",
       "    }\n",
       "\n",
       "    .dataframe tbody tr th {\n",
       "        vertical-align: top;\n",
       "    }\n",
       "\n",
       "    .dataframe thead th {\n",
       "        text-align: right;\n",
       "    }\n",
       "</style>\n",
       "<table border=\"1\" class=\"dataframe\">\n",
       "  <thead>\n",
       "    <tr style=\"text-align: right;\">\n",
       "      <th></th>\n",
       "      <th>total</th>\n",
       "      <th>not chosen</th>\n",
       "      <th>chosen</th>\n",
       "      <th>winning_rates</th>\n",
       "    </tr>\n",
       "  </thead>\n",
       "  <tbody>\n",
       "    <tr>\n",
       "      <th>(0, 1]</th>\n",
       "      <td>2033</td>\n",
       "      <td>2033</td>\n",
       "      <td>0</td>\n",
       "      <td>0.000000</td>\n",
       "    </tr>\n",
       "    <tr>\n",
       "      <th>(1, 2]</th>\n",
       "      <td>1173</td>\n",
       "      <td>1172</td>\n",
       "      <td>1</td>\n",
       "      <td>0.000853</td>\n",
       "    </tr>\n",
       "    <tr>\n",
       "      <th>(2, 3]</th>\n",
       "      <td>695</td>\n",
       "      <td>686</td>\n",
       "      <td>9</td>\n",
       "      <td>0.012950</td>\n",
       "    </tr>\n",
       "    <tr>\n",
       "      <th>(3, 4]</th>\n",
       "      <td>414</td>\n",
       "      <td>406</td>\n",
       "      <td>8</td>\n",
       "      <td>0.019324</td>\n",
       "    </tr>\n",
       "    <tr>\n",
       "      <th>(4, 5]</th>\n",
       "      <td>270</td>\n",
       "      <td>251</td>\n",
       "      <td>19</td>\n",
       "      <td>0.070370</td>\n",
       "    </tr>\n",
       "    <tr>\n",
       "      <th>(5, 6]</th>\n",
       "      <td>158</td>\n",
       "      <td>152</td>\n",
       "      <td>6</td>\n",
       "      <td>0.037975</td>\n",
       "    </tr>\n",
       "    <tr>\n",
       "      <th>(6, 7]</th>\n",
       "      <td>100</td>\n",
       "      <td>86</td>\n",
       "      <td>14</td>\n",
       "      <td>0.140000</td>\n",
       "    </tr>\n",
       "    <tr>\n",
       "      <th>(7, 8]</th>\n",
       "      <td>58</td>\n",
       "      <td>52</td>\n",
       "      <td>6</td>\n",
       "      <td>0.103448</td>\n",
       "    </tr>\n",
       "    <tr>\n",
       "      <th>(8, 9]</th>\n",
       "      <td>46</td>\n",
       "      <td>34</td>\n",
       "      <td>12</td>\n",
       "      <td>0.260870</td>\n",
       "    </tr>\n",
       "    <tr>\n",
       "      <th>(9, 10]</th>\n",
       "      <td>22</td>\n",
       "      <td>14</td>\n",
       "      <td>8</td>\n",
       "      <td>0.363636</td>\n",
       "    </tr>\n",
       "    <tr>\n",
       "      <th>(10, 11]</th>\n",
       "      <td>12</td>\n",
       "      <td>6</td>\n",
       "      <td>6</td>\n",
       "      <td>0.500000</td>\n",
       "    </tr>\n",
       "    <tr>\n",
       "      <th>(11, 12]</th>\n",
       "      <td>11</td>\n",
       "      <td>5</td>\n",
       "      <td>6</td>\n",
       "      <td>0.545455</td>\n",
       "    </tr>\n",
       "    <tr>\n",
       "      <th>(12, 13]</th>\n",
       "      <td>5</td>\n",
       "      <td>2</td>\n",
       "      <td>3</td>\n",
       "      <td>0.600000</td>\n",
       "    </tr>\n",
       "    <tr>\n",
       "      <th>(13, 14]</th>\n",
       "      <td>0</td>\n",
       "      <td>0</td>\n",
       "      <td>0</td>\n",
       "      <td>0.000000</td>\n",
       "    </tr>\n",
       "    <tr>\n",
       "      <th>(14, 15]</th>\n",
       "      <td>1</td>\n",
       "      <td>0</td>\n",
       "      <td>1</td>\n",
       "      <td>1.000000</td>\n",
       "    </tr>\n",
       "    <tr>\n",
       "      <th>(15, 16]</th>\n",
       "      <td>1</td>\n",
       "      <td>1</td>\n",
       "      <td>0</td>\n",
       "      <td>0.000000</td>\n",
       "    </tr>\n",
       "    <tr>\n",
       "      <th>(16, 17]</th>\n",
       "      <td>0</td>\n",
       "      <td>0</td>\n",
       "      <td>0</td>\n",
       "      <td>0.000000</td>\n",
       "    </tr>\n",
       "    <tr>\n",
       "      <th>(17, 18]</th>\n",
       "      <td>0</td>\n",
       "      <td>0</td>\n",
       "      <td>0</td>\n",
       "      <td>0.000000</td>\n",
       "    </tr>\n",
       "    <tr>\n",
       "      <th>(18, 19]</th>\n",
       "      <td>1</td>\n",
       "      <td>0</td>\n",
       "      <td>1</td>\n",
       "      <td>1.000000</td>\n",
       "    </tr>\n",
       "  </tbody>\n",
       "</table>\n",
       "</div>"
      ],
      "text/plain": [
       "          total  not chosen  chosen  winning_rates\n",
       "(0, 1]     2033        2033       0       0.000000\n",
       "(1, 2]     1173        1172       1       0.000853\n",
       "(2, 3]      695         686       9       0.012950\n",
       "(3, 4]      414         406       8       0.019324\n",
       "(4, 5]      270         251      19       0.070370\n",
       "(5, 6]      158         152       6       0.037975\n",
       "(6, 7]      100          86      14       0.140000\n",
       "(7, 8]       58          52       6       0.103448\n",
       "(8, 9]       46          34      12       0.260870\n",
       "(9, 10]      22          14       8       0.363636\n",
       "(10, 11]     12           6       6       0.500000\n",
       "(11, 12]     11           5       6       0.545455\n",
       "(12, 13]      5           2       3       0.600000\n",
       "(13, 14]      0           0       0       0.000000\n",
       "(14, 15]      1           0       1       1.000000\n",
       "(15, 16]      1           1       0       0.000000\n",
       "(16, 17]      0           0       0       0.000000\n",
       "(17, 18]      0           0       0       0.000000\n",
       "(18, 19]      1           0       1       1.000000"
      ]
     },
     "execution_count": 30,
     "metadata": {},
     "output_type": "execute_result"
    }
   ],
   "source": [
    "df_result_summary#.head()"
   ]
  },
  {
   "cell_type": "markdown",
   "id": "f768abf5-def4-474b-a061-6eb857df8da5",
   "metadata": {
    "tags": []
   },
   "source": [
    "#### Practical Cases: exponential\n",
    "\n",
    "$$\n",
    "\\mathrm{Likelihood Value} = \\exp\\big(Brand Points\\big) \\times \\sqrt{\\mathrm{Price Premium Rate}}\n",
    "$$\n",
    "There are 5000 tickets in the raffle and only 100 tickets will be selected with likelihoods determined by the above formula."
   ]
  },
  {
   "cell_type": "code",
   "execution_count": 31,
   "id": "d66fe914-56fb-43be-92b7-c4d0123a9fa4",
   "metadata": {},
   "outputs": [],
   "source": [
    "no_tickets = 5000\n",
    "no_selections = 100"
   ]
  },
  {
   "cell_type": "markdown",
   "id": "f647c121-757d-4f93-b754-3afc3d11e4a0",
   "metadata": {
    "tags": []
   },
   "source": [
    "#### Generating the scenery\n",
    "\n",
    "The Brand points of 5000 Ticket holders are generated randomly by Gamma Distribution with shape 1 and scale 2.\n",
    "\n",
    "And the price premium rates are generated randomly, independent of Brand points, by Exponential Distribution with pameter lambda 5.\n",
    "\n",
    "|  | Distribution | Parameters |\n",
    "| :-: | :-: | :-: |\n",
    "| Brand Points | Gamma Distribution | shape = 1; scale = 2  |\n",
    "| Price Premium Rates | Log Normal Distribution | mu = 0, sigma<sup>2</sup> = 1 |"
   ]
  },
  {
   "cell_type": "code",
   "execution_count": 32,
   "id": "fe428c33-5211-42fa-90da-8cd4de4b1640",
   "metadata": {},
   "outputs": [],
   "source": [
    "# Parameter for Brand Points Distribution, Gamma Distribution\n",
    "shape_points = 1\n",
    "scale_points = 2\n",
    "loc_points = 0 # \n",
    "\n",
    "# Parameter for Price Premium Rate Distribution, Log Normal Distribution\n",
    "loc=0\n",
    "mu = 0\n",
    "sigma_squared = 1\n",
    "scale = math.exp(mu)"
   ]
  },
  {
   "cell_type": "code",
   "execution_count": 33,
   "id": "3d893038-8215-4076-8f46-ac36648e9998",
   "metadata": {},
   "outputs": [],
   "source": [
    "# Generate the Points for 5000 ticket holders\n",
    "Points = gamma.rvs(a=shape_points,loc=loc_points,scale=scale_points,size=no_tickets)\n",
    "\n",
    "# Generating the price premium rate for 5000 ticket holders. independently of \"points\".\n",
    "Price_Premium_Rates = 0.2*lognorm.rvs(s=sigma_squared, loc=loc, scale=scale, size=no_tickets)\n",
    "\n",
    "# Likelihood_Values = Points * Price_Premium_Rates\n",
    "Likelihood_Values = np.exp(Points) * np.sqrt(Price_Premium_Rates) # First calculate each tickets own value\n",
    "Likelihood_Values = Likelihood_Values / Likelihood_Values.sum() # Second calibrate likelihood values to have the sum of all to be 1.\n",
    "\n",
    "# Put all the values into a data frame with 'color' column being 'b'.\n",
    "df = pd.DataFrame(data={'point':Points,'premium_rate':Price_Premium_Rates,'likelihood':Likelihood_Values,'result':'not chosen'})"
   ]
  },
  {
   "cell_type": "code",
   "execution_count": 34,
   "id": "a37e948e-866c-4fb7-8dcf-b1197ea549d2",
   "metadata": {},
   "outputs": [
    {
     "data": {
      "text/html": [
       "<div>\n",
       "<style scoped>\n",
       "    .dataframe tbody tr th:only-of-type {\n",
       "        vertical-align: middle;\n",
       "    }\n",
       "\n",
       "    .dataframe tbody tr th {\n",
       "        vertical-align: top;\n",
       "    }\n",
       "\n",
       "    .dataframe thead th {\n",
       "        text-align: right;\n",
       "    }\n",
       "</style>\n",
       "<table border=\"1\" class=\"dataframe\">\n",
       "  <thead>\n",
       "    <tr style=\"text-align: right;\">\n",
       "      <th></th>\n",
       "      <th>mean</th>\n",
       "      <th>max</th>\n",
       "      <th>min</th>\n",
       "    </tr>\n",
       "  </thead>\n",
       "  <tbody>\n",
       "    <tr>\n",
       "      <th>point</th>\n",
       "      <td>2.041666</td>\n",
       "      <td>17.788490</td>\n",
       "      <td>1.601026e-03</td>\n",
       "    </tr>\n",
       "    <tr>\n",
       "      <th>premium_rate</th>\n",
       "      <td>0.321912</td>\n",
       "      <td>5.806552</td>\n",
       "      <td>5.630467e-03</td>\n",
       "    </tr>\n",
       "    <tr>\n",
       "      <th>likelihood</th>\n",
       "      <td>0.000200</td>\n",
       "      <td>0.779470</td>\n",
       "      <td>3.152988e-09</td>\n",
       "    </tr>\n",
       "  </tbody>\n",
       "</table>\n",
       "</div>"
      ],
      "text/plain": [
       "                  mean        max           min\n",
       "point         2.041666  17.788490  1.601026e-03\n",
       "premium_rate  0.321912   5.806552  5.630467e-03\n",
       "likelihood    0.000200   0.779470  3.152988e-09"
      ]
     },
     "execution_count": 34,
     "metadata": {},
     "output_type": "execute_result"
    }
   ],
   "source": [
    "df_summary = pd.DataFrame()\n",
    "df_summary.loc[:,'mean'] = df[['point','premium_rate','likelihood']].mean()\n",
    "df_summary.loc[:,'max'] = df[['point','premium_rate','likelihood']].max()\n",
    "df_summary.loc[:,'min'] = df[['point','premium_rate','likelihood']].min()\n",
    "df_summary"
   ]
  },
  {
   "cell_type": "markdown",
   "id": "c4adfe60-4757-43ab-976b-540c64a27918",
   "metadata": {},
   "source": [
    "##### Selection of 100 tickets out of 5000"
   ]
  },
  {
   "cell_type": "code",
   "execution_count": 35,
   "id": "6f2180f9-5e80-4164-97a0-1dfd3667a5e1",
   "metadata": {},
   "outputs": [],
   "source": [
    "# Choose 100 tickets out of 1000 with the likelihood given by Likelihood_Values\n",
    "draw = np.random.choice([n for n in range(no_tickets)], no_selections, replace=False, p=Likelihood_Values)\n",
    "\n",
    "# Change the colors of the chosen tickets to red 'r'\n",
    "for idx in draw:\n",
    "    df.loc[idx,'result'] = 'chosen'"
   ]
  },
  {
   "cell_type": "markdown",
   "id": "b2d5f735-689f-407f-ab0a-3f6a7bea8321",
   "metadata": {},
   "source": [
    "#### Scatter Plots of brand points and price premium rate"
   ]
  },
  {
   "cell_type": "code",
   "execution_count": 36,
   "id": "0542c957-4cbc-4287-975d-4e367f674624",
   "metadata": {},
   "outputs": [
    {
     "data": {
      "image/png": "[encoded data removed]",
      "text/plain": [
       "<Figure size 864x432 with 1 Axes>"
      ]
     },
     "metadata": {
      "needs_background": "light"
     },
     "output_type": "display_data"
    }
   ],
   "source": [
    "fig, ax = plt.subplots(figsize=(12,6))\n",
    "for result in ['not chosen','chosen']:\n",
    "    color = 'b' if result=='not chosen' else 'r'\n",
    "    scatter = ax.scatter(df[df['result']==result]['point'], df[df['result']==result]['premium_rate'], c=color, s=5000*df[df['result']==result]['likelihood'], label=result, alpha=0.7,cmap='viridis')\n",
    "ax.set_title('Chosen tickets vs Not-chosen tickets')\n",
    "ax.set_xlabel('Brand Point')\n",
    "ax.set_ylabel('Price Premium Rate')\n",
    "ax.legend()\n",
    "plt.show()"
   ]
  },
  {
   "cell_type": "markdown",
   "id": "98aab44a-4d2a-4ff6-9ce0-5f1cb8d5ce11",
   "metadata": {},
   "source": [
    "#### Points, Premium Rate and Likelihood for chosens and not-chosens"
   ]
  },
  {
   "cell_type": "code",
   "execution_count": 37,
   "id": "c7a2017a-5e1b-4652-b5c5-2506a6be668a",
   "metadata": {},
   "outputs": [
    {
     "data": {
      "text/html": [
       "<div>\n",
       "<style scoped>\n",
       "    .dataframe tbody tr th:only-of-type {\n",
       "        vertical-align: middle;\n",
       "    }\n",
       "\n",
       "    .dataframe tbody tr th {\n",
       "        vertical-align: top;\n",
       "    }\n",
       "\n",
       "    .dataframe thead tr th {\n",
       "        text-align: left;\n",
       "    }\n",
       "\n",
       "    .dataframe thead tr:last-of-type th {\n",
       "        text-align: right;\n",
       "    }\n",
       "</style>\n",
       "<table border=\"1\" class=\"dataframe\">\n",
       "  <thead>\n",
       "    <tr>\n",
       "      <th></th>\n",
       "      <th colspan=\"3\" halign=\"left\">point</th>\n",
       "      <th colspan=\"3\" halign=\"left\">premium_rate</th>\n",
       "    </tr>\n",
       "    <tr>\n",
       "      <th></th>\n",
       "      <th>mean</th>\n",
       "      <th>max</th>\n",
       "      <th>min</th>\n",
       "      <th>mean</th>\n",
       "      <th>max</th>\n",
       "      <th>min</th>\n",
       "    </tr>\n",
       "    <tr>\n",
       "      <th>result</th>\n",
       "      <th></th>\n",
       "      <th></th>\n",
       "      <th></th>\n",
       "      <th></th>\n",
       "      <th></th>\n",
       "      <th></th>\n",
       "    </tr>\n",
       "  </thead>\n",
       "  <tbody>\n",
       "    <tr>\n",
       "      <th>chosen</th>\n",
       "      <td>9.226814</td>\n",
       "      <td>17.788490</td>\n",
       "      <td>0.889814</td>\n",
       "      <td>0.453411</td>\n",
       "      <td>2.773023</td>\n",
       "      <td>0.011322</td>\n",
       "    </tr>\n",
       "    <tr>\n",
       "      <th>not chosen</th>\n",
       "      <td>1.895030</td>\n",
       "      <td>9.598697</td>\n",
       "      <td>0.001601</td>\n",
       "      <td>0.319228</td>\n",
       "      <td>5.806552</td>\n",
       "      <td>0.005630</td>\n",
       "    </tr>\n",
       "  </tbody>\n",
       "</table>\n",
       "</div>"
      ],
      "text/plain": [
       "               point                      premium_rate                    \n",
       "                mean        max       min         mean       max       min\n",
       "result                                                                    \n",
       "chosen      9.226814  17.788490  0.889814     0.453411  2.773023  0.011322\n",
       "not chosen  1.895030   9.598697  0.001601     0.319228  5.806552  0.005630"
      ]
     },
     "execution_count": 37,
     "metadata": {},
     "output_type": "execute_result"
    }
   ],
   "source": [
    "df.groupby('result').agg({'point':['mean','max','min'],'premium_rate':['mean','max','min']})"
   ]
  },
  {
   "cell_type": "markdown",
   "id": "865979eb-8e65-4e7a-8b85-cdf0ced9b78c",
   "metadata": {},
   "source": [
    "##### Point Distribution of 'chosen'"
   ]
  },
  {
   "cell_type": "code",
   "execution_count": 38,
   "id": "82698f91-993e-40dc-847e-ccec05c5fb80",
   "metadata": {},
   "outputs": [
    {
     "data": {
      "image/png": "[encoded data removed]",
      "text/plain": [
       "<Figure size 432x288 with 1 Axes>"
      ]
     },
     "metadata": {
      "needs_background": "light"
     },
     "output_type": "display_data"
    }
   ],
   "source": [
    "df[df['result']=='chosen']['point'].plot.hist(bins=50)\n",
    "plt.title('Brand Points of \"Chosen\"s')\n",
    "plt.show()"
   ]
  },
  {
   "cell_type": "code",
   "execution_count": 39,
   "id": "3f0619fd-ff9d-4c73-a86c-abb55da874d5",
   "metadata": {},
   "outputs": [
    {
     "data": {
      "image/png": "[encoded data removed]",
      "text/plain": [
       "<Figure size 432x288 with 1 Axes>"
      ]
     },
     "metadata": {
      "needs_background": "light"
     },
     "output_type": "display_data"
    }
   ],
   "source": [
    "df[df['result']=='chosen']['premium_rate'].plot.hist(bins=50)\n",
    "plt.title('Price Premium Rates of \"Chosen\"s')\n",
    "plt.show()"
   ]
  },
  {
   "cell_type": "markdown",
   "id": "c5e1e5fb-c866-493b-b74c-6384adb6c67d",
   "metadata": {},
   "source": [
    "#### Results Analysis"
   ]
  },
  {
   "cell_type": "code",
   "execution_count": 40,
   "id": "f0918704-dd8f-49be-9e61-3294357369d9",
   "metadata": {},
   "outputs": [],
   "source": [
    "df_result_summary = pd.concat([pd.cut(df['point'],bins=[n for n in range(1+math.ceil(df['point'].max()))]).value_counts(),\n",
    "                        pd.cut(df[df['result']=='not chosen']['point'],bins=[n for n in range(1+math.ceil(df['point'].max()))]).value_counts(),\n",
    "                        pd.cut(df[df['result']=='chosen']['point'],bins=[n for n in range(1+math.ceil(df['point'].max()))]).value_counts()],\n",
    "                       axis=1)\n",
    "df_result_summary.columns = ['total','not chosen','chosen']\n",
    "df_result_summary['winning_rates'] = df_result_summary['chosen'] / df_result_summary['total']\n",
    "df_result_summary['winning_rates'] = df_result_summary['winning_rates'].fillna(0)"
   ]
  },
  {
   "cell_type": "code",
   "execution_count": 41,
   "id": "b73d6f9b-04fb-4923-a6c0-d6d426619a43",
   "metadata": {},
   "outputs": [
    {
     "data": {
      "image/png": "[encoded data removed]",
      "text/plain": [
       "<Figure size 432x288 with 1 Axes>"
      ]
     },
     "metadata": {
      "needs_background": "light"
     },
     "output_type": "display_data"
    }
   ],
   "source": [
    "df_result_summary['winning_rates'].plot.bar()\n",
    "plt.xlabel('Brand Point Intervals')\n",
    "plt.ylabel('Winning Rate')\n",
    "plt.title('Winning Rates of Brand Point Interval (n,n+1]')\n",
    "plt.show()"
   ]
  },
  {
   "cell_type": "code",
   "execution_count": 42,
   "id": "42ddf74e-47ec-420a-9e6e-a3a5c91fa886",
   "metadata": {},
   "outputs": [
    {
     "data": {
      "text/html": [
       "<div>\n",
       "<style scoped>\n",
       "    .dataframe tbody tr th:only-of-type {\n",
       "        vertical-align: middle;\n",
       "    }\n",
       "\n",
       "    .dataframe tbody tr th {\n",
       "        vertical-align: top;\n",
       "    }\n",
       "\n",
       "    .dataframe thead th {\n",
       "        text-align: right;\n",
       "    }\n",
       "</style>\n",
       "<table border=\"1\" class=\"dataframe\">\n",
       "  <thead>\n",
       "    <tr style=\"text-align: right;\">\n",
       "      <th></th>\n",
       "      <th>total</th>\n",
       "      <th>not chosen</th>\n",
       "      <th>chosen</th>\n",
       "      <th>winning_rates</th>\n",
       "    </tr>\n",
       "  </thead>\n",
       "  <tbody>\n",
       "    <tr>\n",
       "      <th>(0, 1]</th>\n",
       "      <td>1951</td>\n",
       "      <td>1950</td>\n",
       "      <td>1</td>\n",
       "      <td>0.000513</td>\n",
       "    </tr>\n",
       "    <tr>\n",
       "      <th>(1, 2]</th>\n",
       "      <td>1159</td>\n",
       "      <td>1159</td>\n",
       "      <td>0</td>\n",
       "      <td>0.000000</td>\n",
       "    </tr>\n",
       "    <tr>\n",
       "      <th>(2, 3]</th>\n",
       "      <td>776</td>\n",
       "      <td>773</td>\n",
       "      <td>3</td>\n",
       "      <td>0.003866</td>\n",
       "    </tr>\n",
       "    <tr>\n",
       "      <th>(3, 4]</th>\n",
       "      <td>410</td>\n",
       "      <td>408</td>\n",
       "      <td>2</td>\n",
       "      <td>0.004878</td>\n",
       "    </tr>\n",
       "    <tr>\n",
       "      <th>(4, 5]</th>\n",
       "      <td>251</td>\n",
       "      <td>251</td>\n",
       "      <td>0</td>\n",
       "      <td>0.000000</td>\n",
       "    </tr>\n",
       "    <tr>\n",
       "      <th>(5, 6]</th>\n",
       "      <td>168</td>\n",
       "      <td>164</td>\n",
       "      <td>4</td>\n",
       "      <td>0.023810</td>\n",
       "    </tr>\n",
       "    <tr>\n",
       "      <th>(6, 7]</th>\n",
       "      <td>121</td>\n",
       "      <td>112</td>\n",
       "      <td>9</td>\n",
       "      <td>0.074380</td>\n",
       "    </tr>\n",
       "    <tr>\n",
       "      <th>(7, 8]</th>\n",
       "      <td>67</td>\n",
       "      <td>57</td>\n",
       "      <td>10</td>\n",
       "      <td>0.149254</td>\n",
       "    </tr>\n",
       "    <tr>\n",
       "      <th>(8, 9]</th>\n",
       "      <td>38</td>\n",
       "      <td>20</td>\n",
       "      <td>18</td>\n",
       "      <td>0.473684</td>\n",
       "    </tr>\n",
       "    <tr>\n",
       "      <th>(9, 10]</th>\n",
       "      <td>14</td>\n",
       "      <td>6</td>\n",
       "      <td>8</td>\n",
       "      <td>0.571429</td>\n",
       "    </tr>\n",
       "    <tr>\n",
       "      <th>(10, 11]</th>\n",
       "      <td>21</td>\n",
       "      <td>0</td>\n",
       "      <td>21</td>\n",
       "      <td>1.000000</td>\n",
       "    </tr>\n",
       "    <tr>\n",
       "      <th>(11, 12]</th>\n",
       "      <td>13</td>\n",
       "      <td>0</td>\n",
       "      <td>13</td>\n",
       "      <td>1.000000</td>\n",
       "    </tr>\n",
       "    <tr>\n",
       "      <th>(12, 13]</th>\n",
       "      <td>5</td>\n",
       "      <td>0</td>\n",
       "      <td>5</td>\n",
       "      <td>1.000000</td>\n",
       "    </tr>\n",
       "    <tr>\n",
       "      <th>(13, 14]</th>\n",
       "      <td>3</td>\n",
       "      <td>0</td>\n",
       "      <td>3</td>\n",
       "      <td>1.000000</td>\n",
       "    </tr>\n",
       "    <tr>\n",
       "      <th>(14, 15]</th>\n",
       "      <td>1</td>\n",
       "      <td>0</td>\n",
       "      <td>1</td>\n",
       "      <td>1.000000</td>\n",
       "    </tr>\n",
       "    <tr>\n",
       "      <th>(15, 16]</th>\n",
       "      <td>0</td>\n",
       "      <td>0</td>\n",
       "      <td>0</td>\n",
       "      <td>0.000000</td>\n",
       "    </tr>\n",
       "    <tr>\n",
       "      <th>(16, 17]</th>\n",
       "      <td>1</td>\n",
       "      <td>0</td>\n",
       "      <td>1</td>\n",
       "      <td>1.000000</td>\n",
       "    </tr>\n",
       "    <tr>\n",
       "      <th>(17, 18]</th>\n",
       "      <td>1</td>\n",
       "      <td>0</td>\n",
       "      <td>1</td>\n",
       "      <td>1.000000</td>\n",
       "    </tr>\n",
       "  </tbody>\n",
       "</table>\n",
       "</div>"
      ],
      "text/plain": [
       "          total  not chosen  chosen  winning_rates\n",
       "(0, 1]     1951        1950       1       0.000513\n",
       "(1, 2]     1159        1159       0       0.000000\n",
       "(2, 3]      776         773       3       0.003866\n",
       "(3, 4]      410         408       2       0.004878\n",
       "(4, 5]      251         251       0       0.000000\n",
       "(5, 6]      168         164       4       0.023810\n",
       "(6, 7]      121         112       9       0.074380\n",
       "(7, 8]       67          57      10       0.149254\n",
       "(8, 9]       38          20      18       0.473684\n",
       "(9, 10]      14           6       8       0.571429\n",
       "(10, 11]     21           0      21       1.000000\n",
       "(11, 12]     13           0      13       1.000000\n",
       "(12, 13]      5           0       5       1.000000\n",
       "(13, 14]      3           0       3       1.000000\n",
       "(14, 15]      1           0       1       1.000000\n",
       "(15, 16]      0           0       0       0.000000\n",
       "(16, 17]      1           0       1       1.000000\n",
       "(17, 18]      1           0       1       1.000000"
      ]
     },
     "execution_count": 42,
     "metadata": {},
     "output_type": "execute_result"
    }
   ],
   "source": [
    "df_result_summary#.head()"
   ]
  },
  {
   "cell_type": "code",
   "execution_count": null,
   "id": "1d354a7a-0b5d-4781-ace1-6d95956e567c",
   "metadata": {},
   "outputs": [],
   "source": []
  },
  {
   "cell_type": "code",
   "execution_count": null,
   "id": "653dbb18-52de-4422-a848-9487ac00ac7b",
   "metadata": {},
   "outputs": [],
   "source": []
  },
  {
   "cell_type": "code",
   "execution_count": null,
   "id": "d00e4754-f20e-4134-8bba-81a7c929ffa9",
   "metadata": {},
   "outputs": [],
   "source": []
  },
  {
   "cell_type": "code",
   "execution_count": null,
   "id": "56bf33ae-91cc-4bcb-9f77-603e3b00a1dd",
   "metadata": {},
   "outputs": [],
   "source": []
  },
  {
   "cell_type": "code",
   "execution_count": null,
   "id": "6ed8a59f-7b70-4902-9426-334782a17dbf",
   "metadata": {},
   "outputs": [],
   "source": []
  },
  {
   "cell_type": "code",
   "execution_count": null,
   "id": "22eb0f61-3364-432d-a0c7-0ff7b0eeb42a",
   "metadata": {},
   "outputs": [],
   "source": []
  }
 ],
 "metadata": {
  "kernelspec": {
   "display_name": "ml_env",
   "language": "python",
   "name": "ml_env"
  },
  "language_info": {
   "codemirror_mode": {
    "name": "ipython",
    "version": 3
   },
   "file_extension": ".py",
   "mimetype": "text/x-python",
   "name": "python",
   "nbconvert_exporter": "python",
   "pygments_lexer": "ipython3",
   "version": "3.8.10"
  }
 },
 "nbformat": 4,
 "nbformat_minor": 5
}
